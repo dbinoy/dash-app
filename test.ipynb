{
 "cells": [
  {
   "cell_type": "code",
   "execution_count": 1,
   "id": "528bc1c8",
   "metadata": {},
   "outputs": [],
   "source": [
    "import pandas as pd\n",
    "import os\n",
    "import plotly.express as px"
   ]
  },
  {
   "cell_type": "code",
   "execution_count": 2,
   "id": "2aedfda2",
   "metadata": {},
   "outputs": [],
   "source": [
    "# Load data once here\n",
    "DATA_PATH = 'data/app_logins_by_user.csv'\n",
    "df = pd.read_csv(DATA_PATH)"
   ]
  },
  {
   "cell_type": "code",
   "execution_count": 5,
   "id": "7042a8b0",
   "metadata": {},
   "outputs": [
    {
     "data": {
      "text/plain": [
       "Year                       int64\n",
       "Week                       int64\n",
       "App                       object\n",
       "OfficeName                object\n",
       "UserId                    object\n",
       "MemberFullName            object\n",
       "LoginCount                 int64\n",
       "StartOfWeek       datetime64[ns]\n",
       "EndOfWeek         datetime64[ns]\n",
       "dtype: object"
      ]
     },
     "execution_count": 5,
     "metadata": {},
     "output_type": "execute_result"
    }
   ],
   "source": [
    "df.dtypes"
   ]
  },
  {
   "cell_type": "code",
   "execution_count": 4,
   "id": "7b62f166",
   "metadata": {},
   "outputs": [],
   "source": [
    "df['StartOfWeek'] = pd.to_datetime(df['StartOfWeek'], format='%Y-%m-%d', errors='coerce')\n",
    "df['EndOfWeek'] = pd.to_datetime(df['EndOfWeek'], format='%Y-%m-%d', errors='coerce')"
   ]
  },
  {
   "cell_type": "code",
   "execution_count": 6,
   "id": "1d9b218e",
   "metadata": {},
   "outputs": [
    {
     "data": {
      "text/plain": [
       "Year                  0\n",
       "Week                  0\n",
       "App                   0\n",
       "OfficeName            0\n",
       "UserId                0\n",
       "MemberFullName    81356\n",
       "LoginCount            0\n",
       "StartOfWeek        2048\n",
       "EndOfWeek             0\n",
       "dtype: int64"
      ]
     },
     "execution_count": 6,
     "metadata": {},
     "output_type": "execute_result"
    }
   ],
   "source": [
    "df.isna().sum()"
   ]
  },
  {
   "cell_type": "code",
   "execution_count": 7,
   "id": "103e0a78",
   "metadata": {},
   "outputs": [
    {
     "data": {
      "text/html": [
       "<div>\n",
       "<style scoped>\n",
       "    .dataframe tbody tr th:only-of-type {\n",
       "        vertical-align: middle;\n",
       "    }\n",
       "\n",
       "    .dataframe tbody tr th {\n",
       "        vertical-align: top;\n",
       "    }\n",
       "\n",
       "    .dataframe thead th {\n",
       "        text-align: right;\n",
       "    }\n",
       "</style>\n",
       "<table border=\"1\" class=\"dataframe\">\n",
       "  <thead>\n",
       "    <tr style=\"text-align: right;\">\n",
       "      <th></th>\n",
       "      <th>Year</th>\n",
       "      <th>Week</th>\n",
       "      <th>App</th>\n",
       "      <th>OfficeName</th>\n",
       "      <th>UserId</th>\n",
       "      <th>MemberFullName</th>\n",
       "      <th>LoginCount</th>\n",
       "      <th>StartOfWeek</th>\n",
       "      <th>EndOfWeek</th>\n",
       "    </tr>\n",
       "  </thead>\n",
       "  <tbody>\n",
       "    <tr>\n",
       "      <th>0</th>\n",
       "      <td>2025</td>\n",
       "      <td>22</td>\n",
       "      <td>REcore</td>\n",
       "      <td>Keller Williams Realty</td>\n",
       "      <td>SDOBILOR</td>\n",
       "      <td>Lori Armor</td>\n",
       "      <td>15</td>\n",
       "      <td>2025-05-26</td>\n",
       "      <td>2025-06-01</td>\n",
       "    </tr>\n",
       "    <tr>\n",
       "      <th>1</th>\n",
       "      <td>2025</td>\n",
       "      <td>24</td>\n",
       "      <td>REcore</td>\n",
       "      <td>KELLER WILLIAMS PREMIER PROPER</td>\n",
       "      <td>CV47420</td>\n",
       "      <td>NaN</td>\n",
       "      <td>1</td>\n",
       "      <td>2025-06-09</td>\n",
       "      <td>2025-06-15</td>\n",
       "    </tr>\n",
       "    <tr>\n",
       "      <th>2</th>\n",
       "      <td>2025</td>\n",
       "      <td>22</td>\n",
       "      <td>REcore</td>\n",
       "      <td>Bob Hamidi, Broker</td>\n",
       "      <td>DHAMIBOB</td>\n",
       "      <td>Bob Hamidi</td>\n",
       "      <td>5</td>\n",
       "      <td>2025-05-26</td>\n",
       "      <td>2025-06-01</td>\n",
       "    </tr>\n",
       "    <tr>\n",
       "      <th>3</th>\n",
       "      <td>2025</td>\n",
       "      <td>23</td>\n",
       "      <td>REcore</td>\n",
       "      <td>C-21 Astro</td>\n",
       "      <td>RSLUJAJAR</td>\n",
       "      <td>NaN</td>\n",
       "      <td>10</td>\n",
       "      <td>2025-06-02</td>\n",
       "      <td>2025-06-08</td>\n",
       "    </tr>\n",
       "    <tr>\n",
       "      <th>4</th>\n",
       "      <td>2025</td>\n",
       "      <td>20</td>\n",
       "      <td>REcore</td>\n",
       "      <td>CENTURY 21 EXPERIENCE</td>\n",
       "      <td>CV37428</td>\n",
       "      <td>NaN</td>\n",
       "      <td>4</td>\n",
       "      <td>2025-05-12</td>\n",
       "      <td>2025-05-18</td>\n",
       "    </tr>\n",
       "    <tr>\n",
       "      <th>...</th>\n",
       "      <td>...</td>\n",
       "      <td>...</td>\n",
       "      <td>...</td>\n",
       "      <td>...</td>\n",
       "      <td>...</td>\n",
       "      <td>...</td>\n",
       "      <td>...</td>\n",
       "      <td>...</td>\n",
       "      <td>...</td>\n",
       "    </tr>\n",
       "    <tr>\n",
       "      <th>402855</th>\n",
       "      <td>2025</td>\n",
       "      <td>21</td>\n",
       "      <td>REcore</td>\n",
       "      <td>Primary Capital</td>\n",
       "      <td>SHENSJIL</td>\n",
       "      <td>Jill Dalby</td>\n",
       "      <td>5</td>\n",
       "      <td>2025-05-19</td>\n",
       "      <td>2025-05-25</td>\n",
       "    </tr>\n",
       "    <tr>\n",
       "      <th>402856</th>\n",
       "      <td>2025</td>\n",
       "      <td>24</td>\n",
       "      <td>REcore</td>\n",
       "      <td>eXp Realty of Greater Los Angeles, Inc.</td>\n",
       "      <td>vc211514124</td>\n",
       "      <td>Szu Ping Wang</td>\n",
       "      <td>1</td>\n",
       "      <td>2025-06-09</td>\n",
       "      <td>2025-06-15</td>\n",
       "    </tr>\n",
       "    <tr>\n",
       "      <th>402857</th>\n",
       "      <td>2025</td>\n",
       "      <td>22</td>\n",
       "      <td>CRMLS Matrix</td>\n",
       "      <td>Realty Masters &amp; Associates, I</td>\n",
       "      <td>SWRINCFEM</td>\n",
       "      <td>Femarie Rincon</td>\n",
       "      <td>1</td>\n",
       "      <td>2025-05-26</td>\n",
       "      <td>2025-06-01</td>\n",
       "    </tr>\n",
       "    <tr>\n",
       "      <th>402858</th>\n",
       "      <td>2025</td>\n",
       "      <td>24</td>\n",
       "      <td>REcore</td>\n",
       "      <td>Estate Properties</td>\n",
       "      <td>SBJINPOOJ</td>\n",
       "      <td>NaN</td>\n",
       "      <td>1</td>\n",
       "      <td>2025-06-09</td>\n",
       "      <td>2025-06-15</td>\n",
       "    </tr>\n",
       "    <tr>\n",
       "      <th>402859</th>\n",
       "      <td>2025</td>\n",
       "      <td>23</td>\n",
       "      <td>CRMLS CR Paragon Online Prod MD</td>\n",
       "      <td>Coldwell Banker West</td>\n",
       "      <td>805348</td>\n",
       "      <td>Faby Gonzalez</td>\n",
       "      <td>9</td>\n",
       "      <td>2025-06-02</td>\n",
       "      <td>2025-06-08</td>\n",
       "    </tr>\n",
       "  </tbody>\n",
       "</table>\n",
       "<p>402860 rows × 9 columns</p>\n",
       "</div>"
      ],
      "text/plain": [
       "        Year  Week                              App  \\\n",
       "0       2025    22                           REcore   \n",
       "1       2025    24                           REcore   \n",
       "2       2025    22                           REcore   \n",
       "3       2025    23                           REcore   \n",
       "4       2025    20                           REcore   \n",
       "...      ...   ...                              ...   \n",
       "402855  2025    21                           REcore   \n",
       "402856  2025    24                           REcore   \n",
       "402857  2025    22                     CRMLS Matrix   \n",
       "402858  2025    24                           REcore   \n",
       "402859  2025    23  CRMLS CR Paragon Online Prod MD   \n",
       "\n",
       "                                     OfficeName       UserId  MemberFullName  \\\n",
       "0                        Keller Williams Realty     SDOBILOR      Lori Armor   \n",
       "1                KELLER WILLIAMS PREMIER PROPER      CV47420             NaN   \n",
       "2                            Bob Hamidi, Broker     DHAMIBOB      Bob Hamidi   \n",
       "3                                    C-21 Astro    RSLUJAJAR             NaN   \n",
       "4                         CENTURY 21 EXPERIENCE      CV37428             NaN   \n",
       "...                                         ...          ...             ...   \n",
       "402855                          Primary Capital     SHENSJIL      Jill Dalby   \n",
       "402856  eXp Realty of Greater Los Angeles, Inc.  vc211514124   Szu Ping Wang   \n",
       "402857           Realty Masters & Associates, I    SWRINCFEM  Femarie Rincon   \n",
       "402858                        Estate Properties    SBJINPOOJ             NaN   \n",
       "402859                     Coldwell Banker West       805348   Faby Gonzalez   \n",
       "\n",
       "        LoginCount StartOfWeek  EndOfWeek  \n",
       "0               15  2025-05-26 2025-06-01  \n",
       "1                1  2025-06-09 2025-06-15  \n",
       "2                5  2025-05-26 2025-06-01  \n",
       "3               10  2025-06-02 2025-06-08  \n",
       "4                4  2025-05-12 2025-05-18  \n",
       "...            ...         ...        ...  \n",
       "402855           5  2025-05-19 2025-05-25  \n",
       "402856           1  2025-06-09 2025-06-15  \n",
       "402857           1  2025-05-26 2025-06-01  \n",
       "402858           1  2025-06-09 2025-06-15  \n",
       "402859           9  2025-06-02 2025-06-08  \n",
       "\n",
       "[402860 rows x 9 columns]"
      ]
     },
     "execution_count": 7,
     "metadata": {},
     "output_type": "execute_result"
    }
   ],
   "source": [
    "df"
   ]
  },
  {
   "cell_type": "code",
   "execution_count": 48,
   "id": "2216959c",
   "metadata": {},
   "outputs": [
    {
     "name": "stdout",
     "output_type": "stream",
     "text": [
      "2025-05-12 00:00:00 2025-06-09 00:00:00\n",
      "<class 'pandas._libs.tslibs.timestamps.Timestamp'> <class 'pandas._libs.tslibs.timestamps.Timestamp'>\n",
      "05/12/2025 06/15/2025\n"
     ]
    }
   ],
   "source": [
    "\n",
    "print(df['StartOfWeek'].min(), df['StartOfWeek'].max())\n",
    "print(type(df['StartOfWeek'].min()), type(df['StartOfWeek'].max()))\n",
    "print(df['StartOfWeek'].min().strftime('%m/%d/%Y'),df['EndOfWeek'].max().strftime ('%m/%d/%Y'))"
   ]
  },
  {
   "cell_type": "code",
   "execution_count": 49,
   "id": "cc0b145a",
   "metadata": {},
   "outputs": [
    {
     "name": "stdout",
     "output_type": "stream",
     "text": [
      "1 765\n"
     ]
    }
   ],
   "source": [
    "print(df['LoginCount'].min(), df['LoginCount'].max())"
   ]
  },
  {
   "cell_type": "code",
   "execution_count": 50,
   "id": "8c305c06",
   "metadata": {},
   "outputs": [
    {
     "name": "stdout",
     "output_type": "stream",
     "text": [
      "{'0': '0', '45': '45', '90': '90', '135': '135', '180': '180', '225': '225', '270': '270', '315': '315', '360': '360', '405': '405', '450': '450', '495': '495', '540': '540', '585': '585', '630': '630', '675': '675', '720': '720', '765': '765'}\n"
     ]
    }
   ],
   "source": [
    "marks={str(count-1): str(count-1) for count in range(df['LoginCount'].min(), df['LoginCount'].max() + 45, 45)}\n",
    "print(marks)"
   ]
  },
  {
   "cell_type": "code",
   "execution_count": 64,
   "id": "67f5625a",
   "metadata": {},
   "outputs": [
    {
     "name": "stdout",
     "output_type": "stream",
     "text": [
      "        Year  Week                              App  \\\n",
      "0       2025    22                           REcore   \n",
      "2       2025    22                           REcore   \n",
      "3       2025    23                           REcore   \n",
      "8       2025    22                     CRMLS Matrix   \n",
      "11      2025    23                           REcore   \n",
      "...      ...   ...                              ...   \n",
      "402846  2025    22                           REcore   \n",
      "402847  2025    23                     CRMLS Matrix   \n",
      "402852  2025    22                           REcore   \n",
      "402857  2025    22                     CRMLS Matrix   \n",
      "402859  2025    23  CRMLS CR Paragon Online Prod MD   \n",
      "\n",
      "                            OfficeName      UserId    MemberFullName  \\\n",
      "0               Keller Williams Realty    SDOBILOR        Lori Armor   \n",
      "2                   Bob Hamidi, Broker    DHAMIBOB        Bob Hamidi   \n",
      "3                           C-21 Astro   RSLUJAJAR               NaN   \n",
      "8           Pivniska Real Estate Group   LCDGuzman               NaN   \n",
      "11           EXCELLENCE REAL ESTATE HD     M441233     IRIS GALLEGOS   \n",
      "...                                ...         ...               ...   \n",
      "402846                 RE/MAX LAKESIDE    ESOTTFRA     FRANK SOTTILE   \n",
      "402847          Coldwell Banker Realty  PWPHANDIAN               NaN   \n",
      "402852            Pacific Cove Estates   OCFREEMAT  Matthew Freeland   \n",
      "402857  Realty Masters & Associates, I   SWRINCFEM    Femarie Rincon   \n",
      "402859            Coldwell Banker West      805348     Faby Gonzalez   \n",
      "\n",
      "        LoginCount StartOfWeek  EndOfWeek  \n",
      "0               15  2025-05-26 2025-06-01  \n",
      "2                5  2025-05-26 2025-06-01  \n",
      "3               10  2025-06-02 2025-06-08  \n",
      "8                1  2025-05-26 2025-06-01  \n",
      "11               5  2025-06-02 2025-06-08  \n",
      "...            ...         ...        ...  \n",
      "402846           7  2025-05-26 2025-06-01  \n",
      "402847           2  2025-06-02 2025-06-08  \n",
      "402852           2  2025-05-26 2025-06-01  \n",
      "402857           1  2025-05-26 2025-06-01  \n",
      "402859           9  2025-06-02 2025-06-08  \n",
      "\n",
      "[168941 rows x 9 columns]\n"
     ]
    }
   ],
   "source": [
    "filtered_df = df[df['Week'].isin([22, 23])]\n",
    "print(filtered_df)"
   ]
  },
  {
   "cell_type": "code",
   "execution_count": 8,
   "id": "74c4e256",
   "metadata": {},
   "outputs": [
    {
     "ename": "NameError",
     "evalue": "name 'filtered_df' is not defined",
     "output_type": "error",
     "traceback": [
      "\u001b[31m---------------------------------------------------------------------------\u001b[39m",
      "\u001b[31mNameError\u001b[39m                                 Traceback (most recent call last)",
      "\u001b[36mCell\u001b[39m\u001b[36m \u001b[39m\u001b[32mIn[8]\u001b[39m\u001b[32m, line 1\u001b[39m\n\u001b[32m----> \u001b[39m\u001b[32m1\u001b[39m total_logins = \u001b[38;5;28mint\u001b[39m(filtered_df[\u001b[33m'\u001b[39m\u001b[33mLoginCount\u001b[39m\u001b[33m'\u001b[39m].sum()) \u001b[38;5;28;01mif\u001b[39;00m \u001b[33m'\u001b[39m\u001b[33mLoginCount\u001b[39m\u001b[33m'\u001b[39m \u001b[38;5;129;01min\u001b[39;00m \u001b[43mfiltered_df\u001b[49m.columns \u001b[38;5;28;01melse\u001b[39;00m \u001b[32m0\u001b[39m\n\u001b[32m      2\u001b[39m \u001b[38;5;28mprint\u001b[39m(\u001b[33mf\u001b[39m\u001b[33m'\u001b[39m\u001b[33mTotal logins: \u001b[39m\u001b[38;5;132;01m{\u001b[39;00mtotal_logins\u001b[38;5;132;01m}\u001b[39;00m\u001b[33m'\u001b[39m)\n\u001b[32m      3\u001b[39m unique_users = filtered_df[\u001b[33m'\u001b[39m\u001b[33mUserId\u001b[39m\u001b[33m'\u001b[39m].nunique() \u001b[38;5;28;01mif\u001b[39;00m \u001b[33m'\u001b[39m\u001b[33mUserId\u001b[39m\u001b[33m'\u001b[39m \u001b[38;5;129;01min\u001b[39;00m filtered_df.columns \u001b[38;5;28;01melse\u001b[39;00m \u001b[32m0\u001b[39m\n",
      "\u001b[31mNameError\u001b[39m: name 'filtered_df' is not defined"
     ]
    }
   ],
   "source": [
    "total_logins = int(filtered_df['LoginCount'].sum()) if 'LoginCount' in filtered_df.columns else 0\n",
    "print(f'Total logins: {total_logins}')\n",
    "unique_users = filtered_df['UserId'].nunique() if 'UserId' in filtered_df.columns else 0\n",
    "print(f'Unique users: {unique_users}')\n",
    "avg_logins_per_user = int(round(total_logins / unique_users, 0)) if unique_users > 0 else 0\n",
    "print(f'Average logins per user: {avg_logins_per_user}')"
   ]
  },
  {
   "cell_type": "code",
   "execution_count": 59,
   "id": "c6d10041",
   "metadata": {},
   "outputs": [
    {
     "name": "stdout",
     "output_type": "stream",
     "text": [
      "Most used app: CRMLS Matrix\n",
      "Top office: Coldwell Banker Realty\n"
     ]
    }
   ],
   "source": [
    "most_used_app = (\n",
    "    df.groupby('App')['LoginCount'].sum().sort_values(ascending=False).index[0]\n",
    "    if 'App' in df.columns and not df.empty else \"N/A\"\n",
    ")\n",
    "print(f'Most used app: {most_used_app}')\n",
    "\n",
    "top_office = (\n",
    "    df.groupby('OfficeName')['LoginCount'].sum().sort_values(ascending=False).index[0]\n",
    "    if 'OfficeName' in df.columns and not df.empty else \"N/A\"\n",
    ")\n",
    "print(f'Top office: {top_office}')"
   ]
  },
  {
   "cell_type": "code",
   "execution_count": 54,
   "id": "03fde1a5",
   "metadata": {},
   "outputs": [
    {
     "ename": "NameError",
     "evalue": "name 'total_logins' is not defined",
     "output_type": "error",
     "traceback": [
      "\u001b[31m---------------------------------------------------------------------------\u001b[39m",
      "\u001b[31mNameError\u001b[39m                                 Traceback (most recent call last)",
      "\u001b[36mCell\u001b[39m\u001b[36m \u001b[39m\u001b[32mIn[54]\u001b[39m\u001b[32m, line 1\u001b[39m\n\u001b[32m----> \u001b[39m\u001b[32m1\u001b[39m \u001b[38;5;28mround\u001b[39m(\u001b[43mtotal_logins\u001b[49m / unique_users, \u001b[32m1\u001b[39m)\n",
      "\u001b[31mNameError\u001b[39m: name 'total_logins' is not defined"
     ]
    }
   ],
   "source": [
    "round(total_logins / unique_users, 1)"
   ]
  },
  {
   "cell_type": "code",
   "execution_count": 10,
   "id": "0ea77b00",
   "metadata": {},
   "outputs": [
    {
     "data": {
      "text/html": [
       "<div>\n",
       "<style scoped>\n",
       "    .dataframe tbody tr th:only-of-type {\n",
       "        vertical-align: middle;\n",
       "    }\n",
       "\n",
       "    .dataframe tbody tr th {\n",
       "        vertical-align: top;\n",
       "    }\n",
       "\n",
       "    .dataframe thead th {\n",
       "        text-align: right;\n",
       "    }\n",
       "</style>\n",
       "<table border=\"1\" class=\"dataframe\">\n",
       "  <thead>\n",
       "    <tr style=\"text-align: right;\">\n",
       "      <th></th>\n",
       "      <th>Week</th>\n",
       "      <th>LoginCount</th>\n",
       "    </tr>\n",
       "  </thead>\n",
       "  <tbody>\n",
       "    <tr>\n",
       "      <th>0</th>\n",
       "      <td>20</td>\n",
       "      <td>627160</td>\n",
       "    </tr>\n",
       "    <tr>\n",
       "      <th>1</th>\n",
       "      <td>21</td>\n",
       "      <td>603164</td>\n",
       "    </tr>\n",
       "    <tr>\n",
       "      <th>2</th>\n",
       "      <td>22</td>\n",
       "      <td>586764</td>\n",
       "    </tr>\n",
       "    <tr>\n",
       "      <th>3</th>\n",
       "      <td>23</td>\n",
       "      <td>617290</td>\n",
       "    </tr>\n",
       "    <tr>\n",
       "      <th>4</th>\n",
       "      <td>24</td>\n",
       "      <td>281368</td>\n",
       "    </tr>\n",
       "  </tbody>\n",
       "</table>\n",
       "</div>"
      ],
      "text/plain": [
       "   Week  LoginCount\n",
       "0    20      627160\n",
       "1    21      603164\n",
       "2    22      586764\n",
       "3    23      617290\n",
       "4    24      281368"
      ]
     },
     "metadata": {},
     "output_type": "display_data"
    },
    {
     "ename": "ValueError",
     "evalue": "Mime type rendering requires nbformat>=4.2.0 but it is not installed",
     "output_type": "error",
     "traceback": [
      "\u001b[31m---------------------------------------------------------------------------\u001b[39m",
      "\u001b[31mValueError\u001b[39m                                Traceback (most recent call last)",
      "\u001b[36mFile \u001b[39m\u001b[32m~/Documents/Documents - BDas-MBP14/Workspaces/user-login-telemetry-dash-app/dash-app-env/lib/python3.13/site-packages/IPython/core/formatters.py:984\u001b[39m, in \u001b[36mIPythonDisplayFormatter.__call__\u001b[39m\u001b[34m(self, obj)\u001b[39m\n\u001b[32m    982\u001b[39m method = get_real_method(obj, \u001b[38;5;28mself\u001b[39m.print_method)\n\u001b[32m    983\u001b[39m \u001b[38;5;28;01mif\u001b[39;00m method \u001b[38;5;129;01mis\u001b[39;00m \u001b[38;5;129;01mnot\u001b[39;00m \u001b[38;5;28;01mNone\u001b[39;00m:\n\u001b[32m--> \u001b[39m\u001b[32m984\u001b[39m     \u001b[43mmethod\u001b[49m\u001b[43m(\u001b[49m\u001b[43m)\u001b[49m\n\u001b[32m    985\u001b[39m     \u001b[38;5;28;01mreturn\u001b[39;00m \u001b[38;5;28;01mTrue\u001b[39;00m\n",
      "\u001b[36mFile \u001b[39m\u001b[32m~/Documents/Documents - BDas-MBP14/Workspaces/user-login-telemetry-dash-app/dash-app-env/lib/python3.13/site-packages/plotly/basedatatypes.py:846\u001b[39m, in \u001b[36mBaseFigure._ipython_display_\u001b[39m\u001b[34m(self)\u001b[39m\n\u001b[32m    843\u001b[39m \u001b[38;5;28;01mimport\u001b[39;00m\u001b[38;5;250m \u001b[39m\u001b[34;01mplotly\u001b[39;00m\u001b[34;01m.\u001b[39;00m\u001b[34;01mio\u001b[39;00m\u001b[38;5;250m \u001b[39m\u001b[38;5;28;01mas\u001b[39;00m\u001b[38;5;250m \u001b[39m\u001b[34;01mpio\u001b[39;00m\n\u001b[32m    845\u001b[39m \u001b[38;5;28;01mif\u001b[39;00m pio.renderers.render_on_display \u001b[38;5;129;01mand\u001b[39;00m pio.renderers.default:\n\u001b[32m--> \u001b[39m\u001b[32m846\u001b[39m     \u001b[43mpio\u001b[49m\u001b[43m.\u001b[49m\u001b[43mshow\u001b[49m\u001b[43m(\u001b[49m\u001b[38;5;28;43mself\u001b[39;49m\u001b[43m)\u001b[49m\n\u001b[32m    847\u001b[39m \u001b[38;5;28;01melse\u001b[39;00m:\n\u001b[32m    848\u001b[39m     \u001b[38;5;28mprint\u001b[39m(\u001b[38;5;28mrepr\u001b[39m(\u001b[38;5;28mself\u001b[39m))\n",
      "\u001b[36mFile \u001b[39m\u001b[32m~/Documents/Documents - BDas-MBP14/Workspaces/user-login-telemetry-dash-app/dash-app-env/lib/python3.13/site-packages/plotly/io/_renderers.py:425\u001b[39m, in \u001b[36mshow\u001b[39m\u001b[34m(fig, renderer, validate, **kwargs)\u001b[39m\n\u001b[32m    420\u001b[39m     \u001b[38;5;28;01mraise\u001b[39;00m \u001b[38;5;167;01mValueError\u001b[39;00m(\n\u001b[32m    421\u001b[39m         \u001b[33m\"\u001b[39m\u001b[33mMime type rendering requires ipython but it is not installed\u001b[39m\u001b[33m\"\u001b[39m\n\u001b[32m    422\u001b[39m     )\n\u001b[32m    424\u001b[39m \u001b[38;5;28;01mif\u001b[39;00m \u001b[38;5;129;01mnot\u001b[39;00m nbformat \u001b[38;5;129;01mor\u001b[39;00m Version(nbformat.__version__) < Version(\u001b[33m\"\u001b[39m\u001b[33m4.2.0\u001b[39m\u001b[33m\"\u001b[39m):\n\u001b[32m--> \u001b[39m\u001b[32m425\u001b[39m     \u001b[38;5;28;01mraise\u001b[39;00m \u001b[38;5;167;01mValueError\u001b[39;00m(\n\u001b[32m    426\u001b[39m         \u001b[33m\"\u001b[39m\u001b[33mMime type rendering requires nbformat>=4.2.0 but it is not installed\u001b[39m\u001b[33m\"\u001b[39m\n\u001b[32m    427\u001b[39m     )\n\u001b[32m    429\u001b[39m display_jupyter_version_warnings()\n\u001b[32m    431\u001b[39m ipython_display.display(bundle, raw=\u001b[38;5;28;01mTrue\u001b[39;00m)\n",
      "\u001b[31mValueError\u001b[39m: Mime type rendering requires nbformat>=4.2.0 but it is not installed"
     ]
    },
    {
     "data": {
      "application/vnd.plotly.v1+json": {
       "config": {
        "plotlyServerURL": "https://plot.ly"
       },
       "data": [
        {
         "hovertemplate": "Week=%{x}<br>LoginCount=%{y}<extra></extra>",
         "legendgroup": "",
         "line": {
          "color": "#636efa",
          "dash": "solid"
         },
         "marker": {
          "symbol": "circle"
         },
         "mode": "lines",
         "name": "",
         "orientation": "v",
         "showlegend": false,
         "type": "scatter",
         "x": {
          "bdata": "FBUWFxg=",
          "dtype": "i1"
         },
         "xaxis": "x",
         "y": {
          "bdata": "2JEJABw0CQAM9AgASmsJABhLBAA=",
          "dtype": "i4"
         },
         "yaxis": "y"
        }
       ],
       "layout": {
        "legend": {
         "tracegroupgap": 0
        },
        "template": {
         "data": {
          "bar": [
           {
            "error_x": {
             "color": "#2a3f5f"
            },
            "error_y": {
             "color": "#2a3f5f"
            },
            "marker": {
             "line": {
              "color": "white",
              "width": 0.5
             },
             "pattern": {
              "fillmode": "overlay",
              "size": 10,
              "solidity": 0.2
             }
            },
            "type": "bar"
           }
          ],
          "barpolar": [
           {
            "marker": {
             "line": {
              "color": "white",
              "width": 0.5
             },
             "pattern": {
              "fillmode": "overlay",
              "size": 10,
              "solidity": 0.2
             }
            },
            "type": "barpolar"
           }
          ],
          "carpet": [
           {
            "aaxis": {
             "endlinecolor": "#2a3f5f",
             "gridcolor": "#C8D4E3",
             "linecolor": "#C8D4E3",
             "minorgridcolor": "#C8D4E3",
             "startlinecolor": "#2a3f5f"
            },
            "baxis": {
             "endlinecolor": "#2a3f5f",
             "gridcolor": "#C8D4E3",
             "linecolor": "#C8D4E3",
             "minorgridcolor": "#C8D4E3",
             "startlinecolor": "#2a3f5f"
            },
            "type": "carpet"
           }
          ],
          "choropleth": [
           {
            "colorbar": {
             "outlinewidth": 0,
             "ticks": ""
            },
            "type": "choropleth"
           }
          ],
          "contour": [
           {
            "colorbar": {
             "outlinewidth": 0,
             "ticks": ""
            },
            "colorscale": [
             [
              0,
              "#0d0887"
             ],
             [
              0.1111111111111111,
              "#46039f"
             ],
             [
              0.2222222222222222,
              "#7201a8"
             ],
             [
              0.3333333333333333,
              "#9c179e"
             ],
             [
              0.4444444444444444,
              "#bd3786"
             ],
             [
              0.5555555555555556,
              "#d8576b"
             ],
             [
              0.6666666666666666,
              "#ed7953"
             ],
             [
              0.7777777777777778,
              "#fb9f3a"
             ],
             [
              0.8888888888888888,
              "#fdca26"
             ],
             [
              1,
              "#f0f921"
             ]
            ],
            "type": "contour"
           }
          ],
          "contourcarpet": [
           {
            "colorbar": {
             "outlinewidth": 0,
             "ticks": ""
            },
            "type": "contourcarpet"
           }
          ],
          "heatmap": [
           {
            "colorbar": {
             "outlinewidth": 0,
             "ticks": ""
            },
            "colorscale": [
             [
              0,
              "#0d0887"
             ],
             [
              0.1111111111111111,
              "#46039f"
             ],
             [
              0.2222222222222222,
              "#7201a8"
             ],
             [
              0.3333333333333333,
              "#9c179e"
             ],
             [
              0.4444444444444444,
              "#bd3786"
             ],
             [
              0.5555555555555556,
              "#d8576b"
             ],
             [
              0.6666666666666666,
              "#ed7953"
             ],
             [
              0.7777777777777778,
              "#fb9f3a"
             ],
             [
              0.8888888888888888,
              "#fdca26"
             ],
             [
              1,
              "#f0f921"
             ]
            ],
            "type": "heatmap"
           }
          ],
          "histogram": [
           {
            "marker": {
             "pattern": {
              "fillmode": "overlay",
              "size": 10,
              "solidity": 0.2
             }
            },
            "type": "histogram"
           }
          ],
          "histogram2d": [
           {
            "colorbar": {
             "outlinewidth": 0,
             "ticks": ""
            },
            "colorscale": [
             [
              0,
              "#0d0887"
             ],
             [
              0.1111111111111111,
              "#46039f"
             ],
             [
              0.2222222222222222,
              "#7201a8"
             ],
             [
              0.3333333333333333,
              "#9c179e"
             ],
             [
              0.4444444444444444,
              "#bd3786"
             ],
             [
              0.5555555555555556,
              "#d8576b"
             ],
             [
              0.6666666666666666,
              "#ed7953"
             ],
             [
              0.7777777777777778,
              "#fb9f3a"
             ],
             [
              0.8888888888888888,
              "#fdca26"
             ],
             [
              1,
              "#f0f921"
             ]
            ],
            "type": "histogram2d"
           }
          ],
          "histogram2dcontour": [
           {
            "colorbar": {
             "outlinewidth": 0,
             "ticks": ""
            },
            "colorscale": [
             [
              0,
              "#0d0887"
             ],
             [
              0.1111111111111111,
              "#46039f"
             ],
             [
              0.2222222222222222,
              "#7201a8"
             ],
             [
              0.3333333333333333,
              "#9c179e"
             ],
             [
              0.4444444444444444,
              "#bd3786"
             ],
             [
              0.5555555555555556,
              "#d8576b"
             ],
             [
              0.6666666666666666,
              "#ed7953"
             ],
             [
              0.7777777777777778,
              "#fb9f3a"
             ],
             [
              0.8888888888888888,
              "#fdca26"
             ],
             [
              1,
              "#f0f921"
             ]
            ],
            "type": "histogram2dcontour"
           }
          ],
          "mesh3d": [
           {
            "colorbar": {
             "outlinewidth": 0,
             "ticks": ""
            },
            "type": "mesh3d"
           }
          ],
          "parcoords": [
           {
            "line": {
             "colorbar": {
              "outlinewidth": 0,
              "ticks": ""
             }
            },
            "type": "parcoords"
           }
          ],
          "pie": [
           {
            "automargin": true,
            "type": "pie"
           }
          ],
          "scatter": [
           {
            "fillpattern": {
             "fillmode": "overlay",
             "size": 10,
             "solidity": 0.2
            },
            "type": "scatter"
           }
          ],
          "scatter3d": [
           {
            "line": {
             "colorbar": {
              "outlinewidth": 0,
              "ticks": ""
             }
            },
            "marker": {
             "colorbar": {
              "outlinewidth": 0,
              "ticks": ""
             }
            },
            "type": "scatter3d"
           }
          ],
          "scattercarpet": [
           {
            "marker": {
             "colorbar": {
              "outlinewidth": 0,
              "ticks": ""
             }
            },
            "type": "scattercarpet"
           }
          ],
          "scattergeo": [
           {
            "marker": {
             "colorbar": {
              "outlinewidth": 0,
              "ticks": ""
             }
            },
            "type": "scattergeo"
           }
          ],
          "scattergl": [
           {
            "marker": {
             "colorbar": {
              "outlinewidth": 0,
              "ticks": ""
             }
            },
            "type": "scattergl"
           }
          ],
          "scattermap": [
           {
            "marker": {
             "colorbar": {
              "outlinewidth": 0,
              "ticks": ""
             }
            },
            "type": "scattermap"
           }
          ],
          "scattermapbox": [
           {
            "marker": {
             "colorbar": {
              "outlinewidth": 0,
              "ticks": ""
             }
            },
            "type": "scattermapbox"
           }
          ],
          "scatterpolar": [
           {
            "marker": {
             "colorbar": {
              "outlinewidth": 0,
              "ticks": ""
             }
            },
            "type": "scatterpolar"
           }
          ],
          "scatterpolargl": [
           {
            "marker": {
             "colorbar": {
              "outlinewidth": 0,
              "ticks": ""
             }
            },
            "type": "scatterpolargl"
           }
          ],
          "scatterternary": [
           {
            "marker": {
             "colorbar": {
              "outlinewidth": 0,
              "ticks": ""
             }
            },
            "type": "scatterternary"
           }
          ],
          "surface": [
           {
            "colorbar": {
             "outlinewidth": 0,
             "ticks": ""
            },
            "colorscale": [
             [
              0,
              "#0d0887"
             ],
             [
              0.1111111111111111,
              "#46039f"
             ],
             [
              0.2222222222222222,
              "#7201a8"
             ],
             [
              0.3333333333333333,
              "#9c179e"
             ],
             [
              0.4444444444444444,
              "#bd3786"
             ],
             [
              0.5555555555555556,
              "#d8576b"
             ],
             [
              0.6666666666666666,
              "#ed7953"
             ],
             [
              0.7777777777777778,
              "#fb9f3a"
             ],
             [
              0.8888888888888888,
              "#fdca26"
             ],
             [
              1,
              "#f0f921"
             ]
            ],
            "type": "surface"
           }
          ],
          "table": [
           {
            "cells": {
             "fill": {
              "color": "#EBF0F8"
             },
             "line": {
              "color": "white"
             }
            },
            "header": {
             "fill": {
              "color": "#C8D4E3"
             },
             "line": {
              "color": "white"
             }
            },
            "type": "table"
           }
          ]
         },
         "layout": {
          "annotationdefaults": {
           "arrowcolor": "#2a3f5f",
           "arrowhead": 0,
           "arrowwidth": 1
          },
          "autotypenumbers": "strict",
          "coloraxis": {
           "colorbar": {
            "outlinewidth": 0,
            "ticks": ""
           }
          },
          "colorscale": {
           "diverging": [
            [
             0,
             "#8e0152"
            ],
            [
             0.1,
             "#c51b7d"
            ],
            [
             0.2,
             "#de77ae"
            ],
            [
             0.3,
             "#f1b6da"
            ],
            [
             0.4,
             "#fde0ef"
            ],
            [
             0.5,
             "#f7f7f7"
            ],
            [
             0.6,
             "#e6f5d0"
            ],
            [
             0.7,
             "#b8e186"
            ],
            [
             0.8,
             "#7fbc41"
            ],
            [
             0.9,
             "#4d9221"
            ],
            [
             1,
             "#276419"
            ]
           ],
           "sequential": [
            [
             0,
             "#0d0887"
            ],
            [
             0.1111111111111111,
             "#46039f"
            ],
            [
             0.2222222222222222,
             "#7201a8"
            ],
            [
             0.3333333333333333,
             "#9c179e"
            ],
            [
             0.4444444444444444,
             "#bd3786"
            ],
            [
             0.5555555555555556,
             "#d8576b"
            ],
            [
             0.6666666666666666,
             "#ed7953"
            ],
            [
             0.7777777777777778,
             "#fb9f3a"
            ],
            [
             0.8888888888888888,
             "#fdca26"
            ],
            [
             1,
             "#f0f921"
            ]
           ],
           "sequentialminus": [
            [
             0,
             "#0d0887"
            ],
            [
             0.1111111111111111,
             "#46039f"
            ],
            [
             0.2222222222222222,
             "#7201a8"
            ],
            [
             0.3333333333333333,
             "#9c179e"
            ],
            [
             0.4444444444444444,
             "#bd3786"
            ],
            [
             0.5555555555555556,
             "#d8576b"
            ],
            [
             0.6666666666666666,
             "#ed7953"
            ],
            [
             0.7777777777777778,
             "#fb9f3a"
            ],
            [
             0.8888888888888888,
             "#fdca26"
            ],
            [
             1,
             "#f0f921"
            ]
           ]
          },
          "colorway": [
           "#636efa",
           "#EF553B",
           "#00cc96",
           "#ab63fa",
           "#FFA15A",
           "#19d3f3",
           "#FF6692",
           "#B6E880",
           "#FF97FF",
           "#FECB52"
          ],
          "font": {
           "color": "#2a3f5f"
          },
          "geo": {
           "bgcolor": "white",
           "lakecolor": "white",
           "landcolor": "white",
           "showlakes": true,
           "showland": true,
           "subunitcolor": "#C8D4E3"
          },
          "hoverlabel": {
           "align": "left"
          },
          "hovermode": "closest",
          "mapbox": {
           "style": "light"
          },
          "paper_bgcolor": "white",
          "plot_bgcolor": "white",
          "polar": {
           "angularaxis": {
            "gridcolor": "#EBF0F8",
            "linecolor": "#EBF0F8",
            "ticks": ""
           },
           "bgcolor": "white",
           "radialaxis": {
            "gridcolor": "#EBF0F8",
            "linecolor": "#EBF0F8",
            "ticks": ""
           }
          },
          "scene": {
           "xaxis": {
            "backgroundcolor": "white",
            "gridcolor": "#DFE8F3",
            "gridwidth": 2,
            "linecolor": "#EBF0F8",
            "showbackground": true,
            "ticks": "",
            "zerolinecolor": "#EBF0F8"
           },
           "yaxis": {
            "backgroundcolor": "white",
            "gridcolor": "#DFE8F3",
            "gridwidth": 2,
            "linecolor": "#EBF0F8",
            "showbackground": true,
            "ticks": "",
            "zerolinecolor": "#EBF0F8"
           },
           "zaxis": {
            "backgroundcolor": "white",
            "gridcolor": "#DFE8F3",
            "gridwidth": 2,
            "linecolor": "#EBF0F8",
            "showbackground": true,
            "ticks": "",
            "zerolinecolor": "#EBF0F8"
           }
          },
          "shapedefaults": {
           "line": {
            "color": "#2a3f5f"
           }
          },
          "ternary": {
           "aaxis": {
            "gridcolor": "#DFE8F3",
            "linecolor": "#A2B1C6",
            "ticks": ""
           },
           "baxis": {
            "gridcolor": "#DFE8F3",
            "linecolor": "#A2B1C6",
            "ticks": ""
           },
           "bgcolor": "white",
           "caxis": {
            "gridcolor": "#DFE8F3",
            "linecolor": "#A2B1C6",
            "ticks": ""
           }
          },
          "title": {
           "x": 0.05
          },
          "xaxis": {
           "automargin": true,
           "gridcolor": "#EBF0F8",
           "linecolor": "#EBF0F8",
           "ticks": "",
           "title": {
            "standoff": 15
           },
           "zerolinecolor": "#EBF0F8",
           "zerolinewidth": 2
          },
          "yaxis": {
           "automargin": true,
           "gridcolor": "#EBF0F8",
           "linecolor": "#EBF0F8",
           "ticks": "",
           "title": {
            "standoff": 15
           },
           "zerolinecolor": "#EBF0F8",
           "zerolinewidth": 2
          }
         }
        },
        "title": {
         "text": "Weekly Login Trends"
        },
        "xaxis": {
         "anchor": "y",
         "domain": [
          0,
          1
         ],
         "title": {
          "text": "Week"
         }
        },
        "yaxis": {
         "anchor": "x",
         "domain": [
          0,
          1
         ],
         "title": {
          "text": "Login Count"
         }
        }
       }
      },
      "text/html": [
       "<div>                        <script type=\"text/javascript\">window.PlotlyConfig = {MathJaxConfig: 'local'};</script>\n",
       "        <script charset=\"utf-8\" src=\"https://cdn.plot.ly/plotly-3.0.1.min.js\"></script>                <div id=\"d34f9743-c92a-416a-91ab-54076ccf0497\" class=\"plotly-graph-div\" style=\"height:100%; width:100%;\"></div>            <script type=\"text/javascript\">                window.PLOTLYENV=window.PLOTLYENV || {};                                if (document.getElementById(\"d34f9743-c92a-416a-91ab-54076ccf0497\")) {                    Plotly.newPlot(                        \"d34f9743-c92a-416a-91ab-54076ccf0497\",                        [{\"hovertemplate\":\"Week=%{x}\\u003cbr\\u003eLoginCount=%{y}\\u003cextra\\u003e\\u003c\\u002fextra\\u003e\",\"legendgroup\":\"\",\"line\":{\"color\":\"#636efa\",\"dash\":\"solid\"},\"marker\":{\"symbol\":\"circle\"},\"mode\":\"lines\",\"name\":\"\",\"orientation\":\"v\",\"showlegend\":false,\"x\":{\"dtype\":\"i1\",\"bdata\":\"FBUWFxg=\"},\"xaxis\":\"x\",\"y\":{\"dtype\":\"i4\",\"bdata\":\"2JEJABw0CQAM9AgASmsJABhLBAA=\"},\"yaxis\":\"y\",\"type\":\"scatter\"}],                        {\"template\":{\"data\":{\"barpolar\":[{\"marker\":{\"line\":{\"color\":\"white\",\"width\":0.5},\"pattern\":{\"fillmode\":\"overlay\",\"size\":10,\"solidity\":0.2}},\"type\":\"barpolar\"}],\"bar\":[{\"error_x\":{\"color\":\"#2a3f5f\"},\"error_y\":{\"color\":\"#2a3f5f\"},\"marker\":{\"line\":{\"color\":\"white\",\"width\":0.5},\"pattern\":{\"fillmode\":\"overlay\",\"size\":10,\"solidity\":0.2}},\"type\":\"bar\"}],\"carpet\":[{\"aaxis\":{\"endlinecolor\":\"#2a3f5f\",\"gridcolor\":\"#C8D4E3\",\"linecolor\":\"#C8D4E3\",\"minorgridcolor\":\"#C8D4E3\",\"startlinecolor\":\"#2a3f5f\"},\"baxis\":{\"endlinecolor\":\"#2a3f5f\",\"gridcolor\":\"#C8D4E3\",\"linecolor\":\"#C8D4E3\",\"minorgridcolor\":\"#C8D4E3\",\"startlinecolor\":\"#2a3f5f\"},\"type\":\"carpet\"}],\"choropleth\":[{\"colorbar\":{\"outlinewidth\":0,\"ticks\":\"\"},\"type\":\"choropleth\"}],\"contourcarpet\":[{\"colorbar\":{\"outlinewidth\":0,\"ticks\":\"\"},\"type\":\"contourcarpet\"}],\"contour\":[{\"colorbar\":{\"outlinewidth\":0,\"ticks\":\"\"},\"colorscale\":[[0.0,\"#0d0887\"],[0.1111111111111111,\"#46039f\"],[0.2222222222222222,\"#7201a8\"],[0.3333333333333333,\"#9c179e\"],[0.4444444444444444,\"#bd3786\"],[0.5555555555555556,\"#d8576b\"],[0.6666666666666666,\"#ed7953\"],[0.7777777777777778,\"#fb9f3a\"],[0.8888888888888888,\"#fdca26\"],[1.0,\"#f0f921\"]],\"type\":\"contour\"}],\"heatmap\":[{\"colorbar\":{\"outlinewidth\":0,\"ticks\":\"\"},\"colorscale\":[[0.0,\"#0d0887\"],[0.1111111111111111,\"#46039f\"],[0.2222222222222222,\"#7201a8\"],[0.3333333333333333,\"#9c179e\"],[0.4444444444444444,\"#bd3786\"],[0.5555555555555556,\"#d8576b\"],[0.6666666666666666,\"#ed7953\"],[0.7777777777777778,\"#fb9f3a\"],[0.8888888888888888,\"#fdca26\"],[1.0,\"#f0f921\"]],\"type\":\"heatmap\"}],\"histogram2dcontour\":[{\"colorbar\":{\"outlinewidth\":0,\"ticks\":\"\"},\"colorscale\":[[0.0,\"#0d0887\"],[0.1111111111111111,\"#46039f\"],[0.2222222222222222,\"#7201a8\"],[0.3333333333333333,\"#9c179e\"],[0.4444444444444444,\"#bd3786\"],[0.5555555555555556,\"#d8576b\"],[0.6666666666666666,\"#ed7953\"],[0.7777777777777778,\"#fb9f3a\"],[0.8888888888888888,\"#fdca26\"],[1.0,\"#f0f921\"]],\"type\":\"histogram2dcontour\"}],\"histogram2d\":[{\"colorbar\":{\"outlinewidth\":0,\"ticks\":\"\"},\"colorscale\":[[0.0,\"#0d0887\"],[0.1111111111111111,\"#46039f\"],[0.2222222222222222,\"#7201a8\"],[0.3333333333333333,\"#9c179e\"],[0.4444444444444444,\"#bd3786\"],[0.5555555555555556,\"#d8576b\"],[0.6666666666666666,\"#ed7953\"],[0.7777777777777778,\"#fb9f3a\"],[0.8888888888888888,\"#fdca26\"],[1.0,\"#f0f921\"]],\"type\":\"histogram2d\"}],\"histogram\":[{\"marker\":{\"pattern\":{\"fillmode\":\"overlay\",\"size\":10,\"solidity\":0.2}},\"type\":\"histogram\"}],\"mesh3d\":[{\"colorbar\":{\"outlinewidth\":0,\"ticks\":\"\"},\"type\":\"mesh3d\"}],\"parcoords\":[{\"line\":{\"colorbar\":{\"outlinewidth\":0,\"ticks\":\"\"}},\"type\":\"parcoords\"}],\"pie\":[{\"automargin\":true,\"type\":\"pie\"}],\"scatter3d\":[{\"line\":{\"colorbar\":{\"outlinewidth\":0,\"ticks\":\"\"}},\"marker\":{\"colorbar\":{\"outlinewidth\":0,\"ticks\":\"\"}},\"type\":\"scatter3d\"}],\"scattercarpet\":[{\"marker\":{\"colorbar\":{\"outlinewidth\":0,\"ticks\":\"\"}},\"type\":\"scattercarpet\"}],\"scattergeo\":[{\"marker\":{\"colorbar\":{\"outlinewidth\":0,\"ticks\":\"\"}},\"type\":\"scattergeo\"}],\"scattergl\":[{\"marker\":{\"colorbar\":{\"outlinewidth\":0,\"ticks\":\"\"}},\"type\":\"scattergl\"}],\"scattermapbox\":[{\"marker\":{\"colorbar\":{\"outlinewidth\":0,\"ticks\":\"\"}},\"type\":\"scattermapbox\"}],\"scattermap\":[{\"marker\":{\"colorbar\":{\"outlinewidth\":0,\"ticks\":\"\"}},\"type\":\"scattermap\"}],\"scatterpolargl\":[{\"marker\":{\"colorbar\":{\"outlinewidth\":0,\"ticks\":\"\"}},\"type\":\"scatterpolargl\"}],\"scatterpolar\":[{\"marker\":{\"colorbar\":{\"outlinewidth\":0,\"ticks\":\"\"}},\"type\":\"scatterpolar\"}],\"scatter\":[{\"fillpattern\":{\"fillmode\":\"overlay\",\"size\":10,\"solidity\":0.2},\"type\":\"scatter\"}],\"scatterternary\":[{\"marker\":{\"colorbar\":{\"outlinewidth\":0,\"ticks\":\"\"}},\"type\":\"scatterternary\"}],\"surface\":[{\"colorbar\":{\"outlinewidth\":0,\"ticks\":\"\"},\"colorscale\":[[0.0,\"#0d0887\"],[0.1111111111111111,\"#46039f\"],[0.2222222222222222,\"#7201a8\"],[0.3333333333333333,\"#9c179e\"],[0.4444444444444444,\"#bd3786\"],[0.5555555555555556,\"#d8576b\"],[0.6666666666666666,\"#ed7953\"],[0.7777777777777778,\"#fb9f3a\"],[0.8888888888888888,\"#fdca26\"],[1.0,\"#f0f921\"]],\"type\":\"surface\"}],\"table\":[{\"cells\":{\"fill\":{\"color\":\"#EBF0F8\"},\"line\":{\"color\":\"white\"}},\"header\":{\"fill\":{\"color\":\"#C8D4E3\"},\"line\":{\"color\":\"white\"}},\"type\":\"table\"}]},\"layout\":{\"annotationdefaults\":{\"arrowcolor\":\"#2a3f5f\",\"arrowhead\":0,\"arrowwidth\":1},\"autotypenumbers\":\"strict\",\"coloraxis\":{\"colorbar\":{\"outlinewidth\":0,\"ticks\":\"\"}},\"colorscale\":{\"diverging\":[[0,\"#8e0152\"],[0.1,\"#c51b7d\"],[0.2,\"#de77ae\"],[0.3,\"#f1b6da\"],[0.4,\"#fde0ef\"],[0.5,\"#f7f7f7\"],[0.6,\"#e6f5d0\"],[0.7,\"#b8e186\"],[0.8,\"#7fbc41\"],[0.9,\"#4d9221\"],[1,\"#276419\"]],\"sequential\":[[0.0,\"#0d0887\"],[0.1111111111111111,\"#46039f\"],[0.2222222222222222,\"#7201a8\"],[0.3333333333333333,\"#9c179e\"],[0.4444444444444444,\"#bd3786\"],[0.5555555555555556,\"#d8576b\"],[0.6666666666666666,\"#ed7953\"],[0.7777777777777778,\"#fb9f3a\"],[0.8888888888888888,\"#fdca26\"],[1.0,\"#f0f921\"]],\"sequentialminus\":[[0.0,\"#0d0887\"],[0.1111111111111111,\"#46039f\"],[0.2222222222222222,\"#7201a8\"],[0.3333333333333333,\"#9c179e\"],[0.4444444444444444,\"#bd3786\"],[0.5555555555555556,\"#d8576b\"],[0.6666666666666666,\"#ed7953\"],[0.7777777777777778,\"#fb9f3a\"],[0.8888888888888888,\"#fdca26\"],[1.0,\"#f0f921\"]]},\"colorway\":[\"#636efa\",\"#EF553B\",\"#00cc96\",\"#ab63fa\",\"#FFA15A\",\"#19d3f3\",\"#FF6692\",\"#B6E880\",\"#FF97FF\",\"#FECB52\"],\"font\":{\"color\":\"#2a3f5f\"},\"geo\":{\"bgcolor\":\"white\",\"lakecolor\":\"white\",\"landcolor\":\"white\",\"showlakes\":true,\"showland\":true,\"subunitcolor\":\"#C8D4E3\"},\"hoverlabel\":{\"align\":\"left\"},\"hovermode\":\"closest\",\"mapbox\":{\"style\":\"light\"},\"paper_bgcolor\":\"white\",\"plot_bgcolor\":\"white\",\"polar\":{\"angularaxis\":{\"gridcolor\":\"#EBF0F8\",\"linecolor\":\"#EBF0F8\",\"ticks\":\"\"},\"bgcolor\":\"white\",\"radialaxis\":{\"gridcolor\":\"#EBF0F8\",\"linecolor\":\"#EBF0F8\",\"ticks\":\"\"}},\"scene\":{\"xaxis\":{\"backgroundcolor\":\"white\",\"gridcolor\":\"#DFE8F3\",\"gridwidth\":2,\"linecolor\":\"#EBF0F8\",\"showbackground\":true,\"ticks\":\"\",\"zerolinecolor\":\"#EBF0F8\"},\"yaxis\":{\"backgroundcolor\":\"white\",\"gridcolor\":\"#DFE8F3\",\"gridwidth\":2,\"linecolor\":\"#EBF0F8\",\"showbackground\":true,\"ticks\":\"\",\"zerolinecolor\":\"#EBF0F8\"},\"zaxis\":{\"backgroundcolor\":\"white\",\"gridcolor\":\"#DFE8F3\",\"gridwidth\":2,\"linecolor\":\"#EBF0F8\",\"showbackground\":true,\"ticks\":\"\",\"zerolinecolor\":\"#EBF0F8\"}},\"shapedefaults\":{\"line\":{\"color\":\"#2a3f5f\"}},\"ternary\":{\"aaxis\":{\"gridcolor\":\"#DFE8F3\",\"linecolor\":\"#A2B1C6\",\"ticks\":\"\"},\"baxis\":{\"gridcolor\":\"#DFE8F3\",\"linecolor\":\"#A2B1C6\",\"ticks\":\"\"},\"bgcolor\":\"white\",\"caxis\":{\"gridcolor\":\"#DFE8F3\",\"linecolor\":\"#A2B1C6\",\"ticks\":\"\"}},\"title\":{\"x\":0.05},\"xaxis\":{\"automargin\":true,\"gridcolor\":\"#EBF0F8\",\"linecolor\":\"#EBF0F8\",\"ticks\":\"\",\"title\":{\"standoff\":15},\"zerolinecolor\":\"#EBF0F8\",\"zerolinewidth\":2},\"yaxis\":{\"automargin\":true,\"gridcolor\":\"#EBF0F8\",\"linecolor\":\"#EBF0F8\",\"ticks\":\"\",\"title\":{\"standoff\":15},\"zerolinecolor\":\"#EBF0F8\",\"zerolinewidth\":2}}},\"xaxis\":{\"anchor\":\"y\",\"domain\":[0.0,1.0],\"title\":{\"text\":\"Week\"}},\"yaxis\":{\"anchor\":\"x\",\"domain\":[0.0,1.0],\"title\":{\"text\":\"Login Count\"}},\"legend\":{\"tracegroupgap\":0},\"title\":{\"text\":\"Weekly Login Trends\"}},                        {\"responsive\": true}                    )                };            </script>        </div>"
      ],
      "text/plain": [
       "Figure({\n",
       "    'data': [{'hovertemplate': 'Week=%{x}<br>LoginCount=%{y}<extra></extra>',\n",
       "              'legendgroup': '',\n",
       "              'line': {'color': '#636efa', 'dash': 'solid'},\n",
       "              'marker': {'symbol': 'circle'},\n",
       "              'mode': 'lines',\n",
       "              'name': '',\n",
       "              'orientation': 'v',\n",
       "              'showlegend': False,\n",
       "              'type': 'scatter',\n",
       "              'x': {'bdata': 'FBUWFxg=', 'dtype': 'i1'},\n",
       "              'xaxis': 'x',\n",
       "              'y': {'bdata': '2JEJABw0CQAM9AgASmsJABhLBAA=', 'dtype': 'i4'},\n",
       "              'yaxis': 'y'}],\n",
       "    'layout': {'legend': {'tracegroupgap': 0},\n",
       "               'template': '...',\n",
       "               'title': {'text': 'Weekly Login Trends'},\n",
       "               'xaxis': {'anchor': 'y', 'domain': [0.0, 1.0], 'title': {'text': 'Week'}},\n",
       "               'yaxis': {'anchor': 'x', 'domain': [0.0, 1.0], 'title': {'text': 'Login Count'}}}\n",
       "})"
      ]
     },
     "execution_count": 10,
     "metadata": {},
     "output_type": "execute_result"
    }
   ],
   "source": [
    "weekly = df.groupby(\"Week\")[\"LoginCount\"].sum().reset_index()\n",
    "display(weekly)\n",
    "fig = px.line(\n",
    "    weekly,\n",
    "    x=\"Week\",\n",
    "    y=\"LoginCount\",\n",
    "    title=\"Weekly Login Trends\"\n",
    ")\n",
    "fig.update_layout(\n",
    "    xaxis_title=\"Week\",\n",
    "    yaxis_title=\"Login Count\",\n",
    "    template=\"plotly_white\"\n",
    ")"
   ]
  },
  {
   "cell_type": "code",
   "execution_count": 14,
   "id": "5fbe72ca",
   "metadata": {},
   "outputs": [
    {
     "data": {
      "text/plain": [
       "Index(['Coldwell Banker Realty', 'First Team Real Estate', 'Real Broker',\n",
       "       'Keller Williams Realty', 'Compass', 'Pinnacle Real Estate Group',\n",
       "       'eXp Realty of California Inc', 'Century 21 Masters',\n",
       "       'Berkshire Hathaway HomeServices California Properties',\n",
       "       'Berkshire Hathaway HomeService'],\n",
       "      dtype='object', name='OfficeName')"
      ]
     },
     "metadata": {},
     "output_type": "display_data"
    },
    {
     "data": {
      "text/html": [
       "<div>\n",
       "<style scoped>\n",
       "    .dataframe tbody tr th:only-of-type {\n",
       "        vertical-align: middle;\n",
       "    }\n",
       "\n",
       "    .dataframe tbody tr th {\n",
       "        vertical-align: top;\n",
       "    }\n",
       "\n",
       "    .dataframe thead th {\n",
       "        text-align: right;\n",
       "    }\n",
       "</style>\n",
       "<table border=\"1\" class=\"dataframe\">\n",
       "  <thead>\n",
       "    <tr style=\"text-align: right;\">\n",
       "      <th></th>\n",
       "      <th>Week</th>\n",
       "      <th>OfficeName</th>\n",
       "      <th>LoginCount</th>\n",
       "    </tr>\n",
       "  </thead>\n",
       "  <tbody>\n",
       "    <tr>\n",
       "      <th>1470</th>\n",
       "      <td>20</td>\n",
       "      <td>Berkshire Hathaway HomeService</td>\n",
       "      <td>4724</td>\n",
       "    </tr>\n",
       "    <tr>\n",
       "      <th>1475</th>\n",
       "      <td>20</td>\n",
       "      <td>Berkshire Hathaway HomeServices California Pro...</td>\n",
       "      <td>5667</td>\n",
       "    </tr>\n",
       "    <tr>\n",
       "      <th>2563</th>\n",
       "      <td>20</td>\n",
       "      <td>Century 21 Masters</td>\n",
       "      <td>5380</td>\n",
       "    </tr>\n",
       "    <tr>\n",
       "      <th>2927</th>\n",
       "      <td>20</td>\n",
       "      <td>Coldwell Banker Realty</td>\n",
       "      <td>18285</td>\n",
       "    </tr>\n",
       "    <tr>\n",
       "      <th>2986</th>\n",
       "      <td>20</td>\n",
       "      <td>Compass</td>\n",
       "      <td>8291</td>\n",
       "    </tr>\n",
       "    <tr>\n",
       "      <th>4479</th>\n",
       "      <td>20</td>\n",
       "      <td>First Team Real Estate</td>\n",
       "      <td>13054</td>\n",
       "    </tr>\n",
       "    <tr>\n",
       "      <th>6731</th>\n",
       "      <td>20</td>\n",
       "      <td>Keller Williams Realty</td>\n",
       "      <td>8032</td>\n",
       "    </tr>\n",
       "    <tr>\n",
       "      <th>9508</th>\n",
       "      <td>20</td>\n",
       "      <td>Pinnacle Real Estate Group</td>\n",
       "      <td>8218</td>\n",
       "    </tr>\n",
       "    <tr>\n",
       "      <th>10356</th>\n",
       "      <td>20</td>\n",
       "      <td>Real Broker</td>\n",
       "      <td>10170</td>\n",
       "    </tr>\n",
       "    <tr>\n",
       "      <th>13768</th>\n",
       "      <td>20</td>\n",
       "      <td>eXp Realty of California Inc</td>\n",
       "      <td>7491</td>\n",
       "    </tr>\n",
       "    <tr>\n",
       "      <th>15296</th>\n",
       "      <td>21</td>\n",
       "      <td>Berkshire Hathaway HomeService</td>\n",
       "      <td>4256</td>\n",
       "    </tr>\n",
       "    <tr>\n",
       "      <th>15302</th>\n",
       "      <td>21</td>\n",
       "      <td>Berkshire Hathaway HomeServices California Pro...</td>\n",
       "      <td>5557</td>\n",
       "    </tr>\n",
       "    <tr>\n",
       "      <th>16417</th>\n",
       "      <td>21</td>\n",
       "      <td>Century 21 Masters</td>\n",
       "      <td>5292</td>\n",
       "    </tr>\n",
       "    <tr>\n",
       "      <th>16784</th>\n",
       "      <td>21</td>\n",
       "      <td>Coldwell Banker Realty</td>\n",
       "      <td>16799</td>\n",
       "    </tr>\n",
       "    <tr>\n",
       "      <th>16846</th>\n",
       "      <td>21</td>\n",
       "      <td>Compass</td>\n",
       "      <td>7692</td>\n",
       "    </tr>\n",
       "    <tr>\n",
       "      <th>18347</th>\n",
       "      <td>21</td>\n",
       "      <td>First Team Real Estate</td>\n",
       "      <td>11912</td>\n",
       "    </tr>\n",
       "    <tr>\n",
       "      <th>20597</th>\n",
       "      <td>21</td>\n",
       "      <td>Keller Williams Realty</td>\n",
       "      <td>8492</td>\n",
       "    </tr>\n",
       "    <tr>\n",
       "      <th>23364</th>\n",
       "      <td>21</td>\n",
       "      <td>Pinnacle Real Estate Group</td>\n",
       "      <td>7468</td>\n",
       "    </tr>\n",
       "    <tr>\n",
       "      <th>24198</th>\n",
       "      <td>21</td>\n",
       "      <td>Real Broker</td>\n",
       "      <td>9194</td>\n",
       "    </tr>\n",
       "    <tr>\n",
       "      <th>27582</th>\n",
       "      <td>21</td>\n",
       "      <td>eXp Realty of California Inc</td>\n",
       "      <td>7493</td>\n",
       "    </tr>\n",
       "    <tr>\n",
       "      <th>29096</th>\n",
       "      <td>22</td>\n",
       "      <td>Berkshire Hathaway HomeService</td>\n",
       "      <td>4967</td>\n",
       "    </tr>\n",
       "    <tr>\n",
       "      <th>29102</th>\n",
       "      <td>22</td>\n",
       "      <td>Berkshire Hathaway HomeServices California Pro...</td>\n",
       "      <td>5228</td>\n",
       "    </tr>\n",
       "    <tr>\n",
       "      <th>30193</th>\n",
       "      <td>22</td>\n",
       "      <td>Century 21 Masters</td>\n",
       "      <td>5665</td>\n",
       "    </tr>\n",
       "    <tr>\n",
       "      <th>30553</th>\n",
       "      <td>22</td>\n",
       "      <td>Coldwell Banker Realty</td>\n",
       "      <td>16752</td>\n",
       "    </tr>\n",
       "    <tr>\n",
       "      <th>30612</th>\n",
       "      <td>22</td>\n",
       "      <td>Compass</td>\n",
       "      <td>7591</td>\n",
       "    </tr>\n",
       "    <tr>\n",
       "      <th>32090</th>\n",
       "      <td>22</td>\n",
       "      <td>First Team Real Estate</td>\n",
       "      <td>11553</td>\n",
       "    </tr>\n",
       "    <tr>\n",
       "      <th>34295</th>\n",
       "      <td>22</td>\n",
       "      <td>Keller Williams Realty</td>\n",
       "      <td>8618</td>\n",
       "    </tr>\n",
       "    <tr>\n",
       "      <th>37068</th>\n",
       "      <td>22</td>\n",
       "      <td>Pinnacle Real Estate Group</td>\n",
       "      <td>7204</td>\n",
       "    </tr>\n",
       "    <tr>\n",
       "      <th>37903</th>\n",
       "      <td>22</td>\n",
       "      <td>Real Broker</td>\n",
       "      <td>8720</td>\n",
       "    </tr>\n",
       "    <tr>\n",
       "      <th>41282</th>\n",
       "      <td>22</td>\n",
       "      <td>eXp Realty of California Inc</td>\n",
       "      <td>6952</td>\n",
       "    </tr>\n",
       "    <tr>\n",
       "      <th>42818</th>\n",
       "      <td>23</td>\n",
       "      <td>Berkshire Hathaway HomeService</td>\n",
       "      <td>5171</td>\n",
       "    </tr>\n",
       "    <tr>\n",
       "      <th>42824</th>\n",
       "      <td>23</td>\n",
       "      <td>Berkshire Hathaway HomeServices California Pro...</td>\n",
       "      <td>5751</td>\n",
       "    </tr>\n",
       "    <tr>\n",
       "      <th>43927</th>\n",
       "      <td>23</td>\n",
       "      <td>Century 21 Masters</td>\n",
       "      <td>5897</td>\n",
       "    </tr>\n",
       "    <tr>\n",
       "      <th>44306</th>\n",
       "      <td>23</td>\n",
       "      <td>Coldwell Banker Realty</td>\n",
       "      <td>18594</td>\n",
       "    </tr>\n",
       "    <tr>\n",
       "      <th>44365</th>\n",
       "      <td>23</td>\n",
       "      <td>Compass</td>\n",
       "      <td>7950</td>\n",
       "    </tr>\n",
       "    <tr>\n",
       "      <th>45880</th>\n",
       "      <td>23</td>\n",
       "      <td>First Team Real Estate</td>\n",
       "      <td>12739</td>\n",
       "    </tr>\n",
       "    <tr>\n",
       "      <th>48145</th>\n",
       "      <td>23</td>\n",
       "      <td>Keller Williams Realty</td>\n",
       "      <td>8708</td>\n",
       "    </tr>\n",
       "    <tr>\n",
       "      <th>50916</th>\n",
       "      <td>23</td>\n",
       "      <td>Pinnacle Real Estate Group</td>\n",
       "      <td>7485</td>\n",
       "    </tr>\n",
       "    <tr>\n",
       "      <th>51755</th>\n",
       "      <td>23</td>\n",
       "      <td>Real Broker</td>\n",
       "      <td>9577</td>\n",
       "    </tr>\n",
       "    <tr>\n",
       "      <th>55198</th>\n",
       "      <td>23</td>\n",
       "      <td>eXp Realty of California Inc</td>\n",
       "      <td>7115</td>\n",
       "    </tr>\n",
       "    <tr>\n",
       "      <th>56546</th>\n",
       "      <td>24</td>\n",
       "      <td>Berkshire Hathaway HomeService</td>\n",
       "      <td>2252</td>\n",
       "    </tr>\n",
       "    <tr>\n",
       "      <th>56551</th>\n",
       "      <td>24</td>\n",
       "      <td>Berkshire Hathaway HomeServices California Pro...</td>\n",
       "      <td>2773</td>\n",
       "    </tr>\n",
       "    <tr>\n",
       "      <th>57505</th>\n",
       "      <td>24</td>\n",
       "      <td>Century 21 Masters</td>\n",
       "      <td>2872</td>\n",
       "    </tr>\n",
       "    <tr>\n",
       "      <th>57832</th>\n",
       "      <td>24</td>\n",
       "      <td>Coldwell Banker Realty</td>\n",
       "      <td>8002</td>\n",
       "    </tr>\n",
       "    <tr>\n",
       "      <th>57888</th>\n",
       "      <td>24</td>\n",
       "      <td>Compass</td>\n",
       "      <td>3713</td>\n",
       "    </tr>\n",
       "    <tr>\n",
       "      <th>59176</th>\n",
       "      <td>24</td>\n",
       "      <td>First Team Real Estate</td>\n",
       "      <td>5743</td>\n",
       "    </tr>\n",
       "    <tr>\n",
       "      <th>61093</th>\n",
       "      <td>24</td>\n",
       "      <td>Keller Williams Realty</td>\n",
       "      <td>4179</td>\n",
       "    </tr>\n",
       "    <tr>\n",
       "      <th>63474</th>\n",
       "      <td>24</td>\n",
       "      <td>Pinnacle Real Estate Group</td>\n",
       "      <td>3163</td>\n",
       "    </tr>\n",
       "    <tr>\n",
       "      <th>64211</th>\n",
       "      <td>24</td>\n",
       "      <td>Real Broker</td>\n",
       "      <td>3705</td>\n",
       "    </tr>\n",
       "    <tr>\n",
       "      <th>67150</th>\n",
       "      <td>24</td>\n",
       "      <td>eXp Realty of California Inc</td>\n",
       "      <td>3014</td>\n",
       "    </tr>\n",
       "  </tbody>\n",
       "</table>\n",
       "</div>"
      ],
      "text/plain": [
       "       Week                                         OfficeName  LoginCount\n",
       "1470     20                     Berkshire Hathaway HomeService        4724\n",
       "1475     20  Berkshire Hathaway HomeServices California Pro...        5667\n",
       "2563     20                                 Century 21 Masters        5380\n",
       "2927     20                             Coldwell Banker Realty       18285\n",
       "2986     20                                            Compass        8291\n",
       "4479     20                             First Team Real Estate       13054\n",
       "6731     20                             Keller Williams Realty        8032\n",
       "9508     20                         Pinnacle Real Estate Group        8218\n",
       "10356    20                                        Real Broker       10170\n",
       "13768    20                       eXp Realty of California Inc        7491\n",
       "15296    21                     Berkshire Hathaway HomeService        4256\n",
       "15302    21  Berkshire Hathaway HomeServices California Pro...        5557\n",
       "16417    21                                 Century 21 Masters        5292\n",
       "16784    21                             Coldwell Banker Realty       16799\n",
       "16846    21                                            Compass        7692\n",
       "18347    21                             First Team Real Estate       11912\n",
       "20597    21                             Keller Williams Realty        8492\n",
       "23364    21                         Pinnacle Real Estate Group        7468\n",
       "24198    21                                        Real Broker        9194\n",
       "27582    21                       eXp Realty of California Inc        7493\n",
       "29096    22                     Berkshire Hathaway HomeService        4967\n",
       "29102    22  Berkshire Hathaway HomeServices California Pro...        5228\n",
       "30193    22                                 Century 21 Masters        5665\n",
       "30553    22                             Coldwell Banker Realty       16752\n",
       "30612    22                                            Compass        7591\n",
       "32090    22                             First Team Real Estate       11553\n",
       "34295    22                             Keller Williams Realty        8618\n",
       "37068    22                         Pinnacle Real Estate Group        7204\n",
       "37903    22                                        Real Broker        8720\n",
       "41282    22                       eXp Realty of California Inc        6952\n",
       "42818    23                     Berkshire Hathaway HomeService        5171\n",
       "42824    23  Berkshire Hathaway HomeServices California Pro...        5751\n",
       "43927    23                                 Century 21 Masters        5897\n",
       "44306    23                             Coldwell Banker Realty       18594\n",
       "44365    23                                            Compass        7950\n",
       "45880    23                             First Team Real Estate       12739\n",
       "48145    23                             Keller Williams Realty        8708\n",
       "50916    23                         Pinnacle Real Estate Group        7485\n",
       "51755    23                                        Real Broker        9577\n",
       "55198    23                       eXp Realty of California Inc        7115\n",
       "56546    24                     Berkshire Hathaway HomeService        2252\n",
       "56551    24  Berkshire Hathaway HomeServices California Pro...        2773\n",
       "57505    24                                 Century 21 Masters        2872\n",
       "57832    24                             Coldwell Banker Realty        8002\n",
       "57888    24                                            Compass        3713\n",
       "59176    24                             First Team Real Estate        5743\n",
       "61093    24                             Keller Williams Realty        4179\n",
       "63474    24                         Pinnacle Real Estate Group        3163\n",
       "64211    24                                        Real Broker        3705\n",
       "67150    24                       eXp Realty of California Inc        3014"
      ]
     },
     "metadata": {},
     "output_type": "display_data"
    }
   ],
   "source": [
    "breakdown_dim = 'OfficeName'\n",
    "top_n = 10\n",
    "grouped = df.groupby([\"Week\", breakdown_dim])[\"LoginCount\"].sum().reset_index()\n",
    "\n",
    "top_entities = (\n",
    "                grouped.groupby(breakdown_dim)[\"LoginCount\"].sum()\n",
    "                .sort_values(ascending=False)\n",
    "                .head(top_n)\n",
    "                .index\n",
    "            )\n",
    "\n",
    "display(top_entities)\n",
    "\n",
    "filtered_grouped = grouped[grouped[breakdown_dim].isin(top_entities)]\n",
    "\n",
    "display(filtered_grouped)"
   ]
  },
  {
   "cell_type": "code",
   "execution_count": 24,
   "id": "b71fc7af",
   "metadata": {},
   "outputs": [
    {
     "ename": "ValueError",
     "evalue": "Mime type rendering requires nbformat>=4.2.0 but it is not installed",
     "output_type": "error",
     "traceback": [
      "\u001b[31m---------------------------------------------------------------------------\u001b[39m",
      "\u001b[31mValueError\u001b[39m                                Traceback (most recent call last)",
      "\u001b[36mFile \u001b[39m\u001b[32m~/Documents/Documents - BDas-MBP14/Workspaces/user-login-telemetry-dash-app/dash-app-env/lib/python3.13/site-packages/IPython/core/formatters.py:984\u001b[39m, in \u001b[36mIPythonDisplayFormatter.__call__\u001b[39m\u001b[34m(self, obj)\u001b[39m\n\u001b[32m    982\u001b[39m method = get_real_method(obj, \u001b[38;5;28mself\u001b[39m.print_method)\n\u001b[32m    983\u001b[39m \u001b[38;5;28;01mif\u001b[39;00m method \u001b[38;5;129;01mis\u001b[39;00m \u001b[38;5;129;01mnot\u001b[39;00m \u001b[38;5;28;01mNone\u001b[39;00m:\n\u001b[32m--> \u001b[39m\u001b[32m984\u001b[39m     \u001b[43mmethod\u001b[49m\u001b[43m(\u001b[49m\u001b[43m)\u001b[49m\n\u001b[32m    985\u001b[39m     \u001b[38;5;28;01mreturn\u001b[39;00m \u001b[38;5;28;01mTrue\u001b[39;00m\n",
      "\u001b[36mFile \u001b[39m\u001b[32m~/Documents/Documents - BDas-MBP14/Workspaces/user-login-telemetry-dash-app/dash-app-env/lib/python3.13/site-packages/plotly/basedatatypes.py:846\u001b[39m, in \u001b[36mBaseFigure._ipython_display_\u001b[39m\u001b[34m(self)\u001b[39m\n\u001b[32m    843\u001b[39m \u001b[38;5;28;01mimport\u001b[39;00m\u001b[38;5;250m \u001b[39m\u001b[34;01mplotly\u001b[39;00m\u001b[34;01m.\u001b[39;00m\u001b[34;01mio\u001b[39;00m\u001b[38;5;250m \u001b[39m\u001b[38;5;28;01mas\u001b[39;00m\u001b[38;5;250m \u001b[39m\u001b[34;01mpio\u001b[39;00m\n\u001b[32m    845\u001b[39m \u001b[38;5;28;01mif\u001b[39;00m pio.renderers.render_on_display \u001b[38;5;129;01mand\u001b[39;00m pio.renderers.default:\n\u001b[32m--> \u001b[39m\u001b[32m846\u001b[39m     \u001b[43mpio\u001b[49m\u001b[43m.\u001b[49m\u001b[43mshow\u001b[49m\u001b[43m(\u001b[49m\u001b[38;5;28;43mself\u001b[39;49m\u001b[43m)\u001b[49m\n\u001b[32m    847\u001b[39m \u001b[38;5;28;01melse\u001b[39;00m:\n\u001b[32m    848\u001b[39m     \u001b[38;5;28mprint\u001b[39m(\u001b[38;5;28mrepr\u001b[39m(\u001b[38;5;28mself\u001b[39m))\n",
      "\u001b[36mFile \u001b[39m\u001b[32m~/Documents/Documents - BDas-MBP14/Workspaces/user-login-telemetry-dash-app/dash-app-env/lib/python3.13/site-packages/plotly/io/_renderers.py:425\u001b[39m, in \u001b[36mshow\u001b[39m\u001b[34m(fig, renderer, validate, **kwargs)\u001b[39m\n\u001b[32m    420\u001b[39m     \u001b[38;5;28;01mraise\u001b[39;00m \u001b[38;5;167;01mValueError\u001b[39;00m(\n\u001b[32m    421\u001b[39m         \u001b[33m\"\u001b[39m\u001b[33mMime type rendering requires ipython but it is not installed\u001b[39m\u001b[33m\"\u001b[39m\n\u001b[32m    422\u001b[39m     )\n\u001b[32m    424\u001b[39m \u001b[38;5;28;01mif\u001b[39;00m \u001b[38;5;129;01mnot\u001b[39;00m nbformat \u001b[38;5;129;01mor\u001b[39;00m Version(nbformat.__version__) < Version(\u001b[33m\"\u001b[39m\u001b[33m4.2.0\u001b[39m\u001b[33m\"\u001b[39m):\n\u001b[32m--> \u001b[39m\u001b[32m425\u001b[39m     \u001b[38;5;28;01mraise\u001b[39;00m \u001b[38;5;167;01mValueError\u001b[39;00m(\n\u001b[32m    426\u001b[39m         \u001b[33m\"\u001b[39m\u001b[33mMime type rendering requires nbformat>=4.2.0 but it is not installed\u001b[39m\u001b[33m\"\u001b[39m\n\u001b[32m    427\u001b[39m     )\n\u001b[32m    429\u001b[39m display_jupyter_version_warnings()\n\u001b[32m    431\u001b[39m ipython_display.display(bundle, raw=\u001b[38;5;28;01mTrue\u001b[39;00m)\n",
      "\u001b[31mValueError\u001b[39m: Mime type rendering requires nbformat>=4.2.0 but it is not installed"
     ]
    },
    {
     "data": {
      "application/vnd.plotly.v1+json": {
       "config": {
        "plotlyServerURL": "https://plot.ly"
       },
       "data": [
        {
         "hovertemplate": "OfficeName=Berkshire Hathaway HomeService<br>Week=%{x}<br>LoginCount=%{y}<extra></extra>",
         "legendgroup": "Berkshire Hathaway HomeService",
         "line": {
          "color": "#636efa",
          "dash": "solid"
         },
         "marker": {
          "symbol": "circle"
         },
         "mode": "lines+markers",
         "name": "Berkshire Hathaway HomeService",
         "orientation": "v",
         "showlegend": true,
         "type": "scatter",
         "x": {
          "bdata": "FBUWFxg=",
          "dtype": "i1"
         },
         "xaxis": "x",
         "y": {
          "bdata": "dBKgEGcTMxTMCA==",
          "dtype": "i2"
         },
         "yaxis": "y"
        },
        {
         "hovertemplate": "OfficeName=Berkshire Hathaway HomeServices California Properties<br>Week=%{x}<br>LoginCount=%{y}<extra></extra>",
         "legendgroup": "Berkshire Hathaway HomeServices California Properties",
         "line": {
          "color": "#EF553B",
          "dash": "solid"
         },
         "marker": {
          "symbol": "circle"
         },
         "mode": "lines+markers",
         "name": "Berkshire Hathaway HomeServices California Properties",
         "orientation": "v",
         "showlegend": true,
         "type": "scatter",
         "x": {
          "bdata": "FBUWFxg=",
          "dtype": "i1"
         },
         "xaxis": "x",
         "y": {
          "bdata": "Ixa1FWwUdxbVCg==",
          "dtype": "i2"
         },
         "yaxis": "y"
        },
        {
         "hovertemplate": "OfficeName=Century 21 Masters<br>Week=%{x}<br>LoginCount=%{y}<extra></extra>",
         "legendgroup": "Century 21 Masters",
         "line": {
          "color": "#00cc96",
          "dash": "solid"
         },
         "marker": {
          "symbol": "circle"
         },
         "mode": "lines+markers",
         "name": "Century 21 Masters",
         "orientation": "v",
         "showlegend": true,
         "type": "scatter",
         "x": {
          "bdata": "FBUWFxg=",
          "dtype": "i1"
         },
         "xaxis": "x",
         "y": {
          "bdata": "BBWsFCEWCRc4Cw==",
          "dtype": "i2"
         },
         "yaxis": "y"
        },
        {
         "hovertemplate": "OfficeName=Coldwell Banker Realty<br>Week=%{x}<br>LoginCount=%{y}<extra></extra>",
         "legendgroup": "Coldwell Banker Realty",
         "line": {
          "color": "#ab63fa",
          "dash": "solid"
         },
         "marker": {
          "symbol": "circle"
         },
         "mode": "lines+markers",
         "name": "Coldwell Banker Realty",
         "orientation": "v",
         "showlegend": true,
         "type": "scatter",
         "x": {
          "bdata": "FBUWFxg=",
          "dtype": "i1"
         },
         "xaxis": "x",
         "y": {
          "bdata": "bUefQXBBokhCHw==",
          "dtype": "i2"
         },
         "yaxis": "y"
        },
        {
         "hovertemplate": "OfficeName=Compass<br>Week=%{x}<br>LoginCount=%{y}<extra></extra>",
         "legendgroup": "Compass",
         "line": {
          "color": "#FFA15A",
          "dash": "solid"
         },
         "marker": {
          "symbol": "circle"
         },
         "mode": "lines+markers",
         "name": "Compass",
         "orientation": "v",
         "showlegend": true,
         "type": "scatter",
         "x": {
          "bdata": "FBUWFxg=",
          "dtype": "i1"
         },
         "xaxis": "x",
         "y": {
          "bdata": "YyAMHqcdDh+BDg==",
          "dtype": "i2"
         },
         "yaxis": "y"
        },
        {
         "hovertemplate": "OfficeName=First Team Real Estate<br>Week=%{x}<br>LoginCount=%{y}<extra></extra>",
         "legendgroup": "First Team Real Estate",
         "line": {
          "color": "#19d3f3",
          "dash": "solid"
         },
         "marker": {
          "symbol": "circle"
         },
         "mode": "lines+markers",
         "name": "First Team Real Estate",
         "orientation": "v",
         "showlegend": true,
         "type": "scatter",
         "x": {
          "bdata": "FBUWFxg=",
          "dtype": "i1"
         },
         "xaxis": "x",
         "y": {
          "bdata": "/jKILiEtwzFvFg==",
          "dtype": "i2"
         },
         "yaxis": "y"
        },
        {
         "hovertemplate": "OfficeName=Keller Williams Realty<br>Week=%{x}<br>LoginCount=%{y}<extra></extra>",
         "legendgroup": "Keller Williams Realty",
         "line": {
          "color": "#FF6692",
          "dash": "solid"
         },
         "marker": {
          "symbol": "circle"
         },
         "mode": "lines+markers",
         "name": "Keller Williams Realty",
         "orientation": "v",
         "showlegend": true,
         "type": "scatter",
         "x": {
          "bdata": "FBUWFxg=",
          "dtype": "i1"
         },
         "xaxis": "x",
         "y": {
          "bdata": "YB8sIaohBCJTEA==",
          "dtype": "i2"
         },
         "yaxis": "y"
        },
        {
         "hovertemplate": "OfficeName=Pinnacle Real Estate Group<br>Week=%{x}<br>LoginCount=%{y}<extra></extra>",
         "legendgroup": "Pinnacle Real Estate Group",
         "line": {
          "color": "#B6E880",
          "dash": "solid"
         },
         "marker": {
          "symbol": "circle"
         },
         "mode": "lines+markers",
         "name": "Pinnacle Real Estate Group",
         "orientation": "v",
         "showlegend": true,
         "type": "scatter",
         "x": {
          "bdata": "FBUWFxg=",
          "dtype": "i1"
         },
         "xaxis": "x",
         "y": {
          "bdata": "GiAsHSQcPR1bDA==",
          "dtype": "i2"
         },
         "yaxis": "y"
        },
        {
         "hovertemplate": "OfficeName=Real Broker<br>Week=%{x}<br>LoginCount=%{y}<extra></extra>",
         "legendgroup": "Real Broker",
         "line": {
          "color": "#FF97FF",
          "dash": "solid"
         },
         "marker": {
          "symbol": "circle"
         },
         "mode": "lines+markers",
         "name": "Real Broker",
         "orientation": "v",
         "showlegend": true,
         "type": "scatter",
         "x": {
          "bdata": "FBUWFxg=",
          "dtype": "i1"
         },
         "xaxis": "x",
         "y": {
          "bdata": "uifqIxAiaSV5Dg==",
          "dtype": "i2"
         },
         "yaxis": "y"
        },
        {
         "hovertemplate": "OfficeName=eXp Realty of California Inc<br>Week=%{x}<br>LoginCount=%{y}<extra></extra>",
         "legendgroup": "eXp Realty of California Inc",
         "line": {
          "color": "#FECB52",
          "dash": "solid"
         },
         "marker": {
          "symbol": "circle"
         },
         "mode": "lines+markers",
         "name": "eXp Realty of California Inc",
         "orientation": "v",
         "showlegend": true,
         "type": "scatter",
         "x": {
          "bdata": "FBUWFxg=",
          "dtype": "i1"
         },
         "xaxis": "x",
         "y": {
          "bdata": "Qx1FHSgbyxvGCw==",
          "dtype": "i2"
         },
         "yaxis": "y"
        }
       ],
       "layout": {
        "legend": {
         "bgcolor": "rgba(255,255,255,0.5)",
         "bordercolor": "rgba(0,0,0,0)",
         "borderwidth": 0,
         "font": {
          "size": 12
         },
         "orientation": "h",
         "title": {
          "text": "OfficeName"
         },
         "tracegroupgap": 0,
         "x": 0.5,
         "xanchor": "center",
         "y": -1.08,
         "yanchor": "bottom"
        },
        "template": {
         "data": {
          "bar": [
           {
            "error_x": {
             "color": "#2a3f5f"
            },
            "error_y": {
             "color": "#2a3f5f"
            },
            "marker": {
             "line": {
              "color": "white",
              "width": 0.5
             },
             "pattern": {
              "fillmode": "overlay",
              "size": 10,
              "solidity": 0.2
             }
            },
            "type": "bar"
           }
          ],
          "barpolar": [
           {
            "marker": {
             "line": {
              "color": "white",
              "width": 0.5
             },
             "pattern": {
              "fillmode": "overlay",
              "size": 10,
              "solidity": 0.2
             }
            },
            "type": "barpolar"
           }
          ],
          "carpet": [
           {
            "aaxis": {
             "endlinecolor": "#2a3f5f",
             "gridcolor": "#C8D4E3",
             "linecolor": "#C8D4E3",
             "minorgridcolor": "#C8D4E3",
             "startlinecolor": "#2a3f5f"
            },
            "baxis": {
             "endlinecolor": "#2a3f5f",
             "gridcolor": "#C8D4E3",
             "linecolor": "#C8D4E3",
             "minorgridcolor": "#C8D4E3",
             "startlinecolor": "#2a3f5f"
            },
            "type": "carpet"
           }
          ],
          "choropleth": [
           {
            "colorbar": {
             "outlinewidth": 0,
             "ticks": ""
            },
            "type": "choropleth"
           }
          ],
          "contour": [
           {
            "colorbar": {
             "outlinewidth": 0,
             "ticks": ""
            },
            "colorscale": [
             [
              0,
              "#0d0887"
             ],
             [
              0.1111111111111111,
              "#46039f"
             ],
             [
              0.2222222222222222,
              "#7201a8"
             ],
             [
              0.3333333333333333,
              "#9c179e"
             ],
             [
              0.4444444444444444,
              "#bd3786"
             ],
             [
              0.5555555555555556,
              "#d8576b"
             ],
             [
              0.6666666666666666,
              "#ed7953"
             ],
             [
              0.7777777777777778,
              "#fb9f3a"
             ],
             [
              0.8888888888888888,
              "#fdca26"
             ],
             [
              1,
              "#f0f921"
             ]
            ],
            "type": "contour"
           }
          ],
          "contourcarpet": [
           {
            "colorbar": {
             "outlinewidth": 0,
             "ticks": ""
            },
            "type": "contourcarpet"
           }
          ],
          "heatmap": [
           {
            "colorbar": {
             "outlinewidth": 0,
             "ticks": ""
            },
            "colorscale": [
             [
              0,
              "#0d0887"
             ],
             [
              0.1111111111111111,
              "#46039f"
             ],
             [
              0.2222222222222222,
              "#7201a8"
             ],
             [
              0.3333333333333333,
              "#9c179e"
             ],
             [
              0.4444444444444444,
              "#bd3786"
             ],
             [
              0.5555555555555556,
              "#d8576b"
             ],
             [
              0.6666666666666666,
              "#ed7953"
             ],
             [
              0.7777777777777778,
              "#fb9f3a"
             ],
             [
              0.8888888888888888,
              "#fdca26"
             ],
             [
              1,
              "#f0f921"
             ]
            ],
            "type": "heatmap"
           }
          ],
          "histogram": [
           {
            "marker": {
             "pattern": {
              "fillmode": "overlay",
              "size": 10,
              "solidity": 0.2
             }
            },
            "type": "histogram"
           }
          ],
          "histogram2d": [
           {
            "colorbar": {
             "outlinewidth": 0,
             "ticks": ""
            },
            "colorscale": [
             [
              0,
              "#0d0887"
             ],
             [
              0.1111111111111111,
              "#46039f"
             ],
             [
              0.2222222222222222,
              "#7201a8"
             ],
             [
              0.3333333333333333,
              "#9c179e"
             ],
             [
              0.4444444444444444,
              "#bd3786"
             ],
             [
              0.5555555555555556,
              "#d8576b"
             ],
             [
              0.6666666666666666,
              "#ed7953"
             ],
             [
              0.7777777777777778,
              "#fb9f3a"
             ],
             [
              0.8888888888888888,
              "#fdca26"
             ],
             [
              1,
              "#f0f921"
             ]
            ],
            "type": "histogram2d"
           }
          ],
          "histogram2dcontour": [
           {
            "colorbar": {
             "outlinewidth": 0,
             "ticks": ""
            },
            "colorscale": [
             [
              0,
              "#0d0887"
             ],
             [
              0.1111111111111111,
              "#46039f"
             ],
             [
              0.2222222222222222,
              "#7201a8"
             ],
             [
              0.3333333333333333,
              "#9c179e"
             ],
             [
              0.4444444444444444,
              "#bd3786"
             ],
             [
              0.5555555555555556,
              "#d8576b"
             ],
             [
              0.6666666666666666,
              "#ed7953"
             ],
             [
              0.7777777777777778,
              "#fb9f3a"
             ],
             [
              0.8888888888888888,
              "#fdca26"
             ],
             [
              1,
              "#f0f921"
             ]
            ],
            "type": "histogram2dcontour"
           }
          ],
          "mesh3d": [
           {
            "colorbar": {
             "outlinewidth": 0,
             "ticks": ""
            },
            "type": "mesh3d"
           }
          ],
          "parcoords": [
           {
            "line": {
             "colorbar": {
              "outlinewidth": 0,
              "ticks": ""
             }
            },
            "type": "parcoords"
           }
          ],
          "pie": [
           {
            "automargin": true,
            "type": "pie"
           }
          ],
          "scatter": [
           {
            "fillpattern": {
             "fillmode": "overlay",
             "size": 10,
             "solidity": 0.2
            },
            "type": "scatter"
           }
          ],
          "scatter3d": [
           {
            "line": {
             "colorbar": {
              "outlinewidth": 0,
              "ticks": ""
             }
            },
            "marker": {
             "colorbar": {
              "outlinewidth": 0,
              "ticks": ""
             }
            },
            "type": "scatter3d"
           }
          ],
          "scattercarpet": [
           {
            "marker": {
             "colorbar": {
              "outlinewidth": 0,
              "ticks": ""
             }
            },
            "type": "scattercarpet"
           }
          ],
          "scattergeo": [
           {
            "marker": {
             "colorbar": {
              "outlinewidth": 0,
              "ticks": ""
             }
            },
            "type": "scattergeo"
           }
          ],
          "scattergl": [
           {
            "marker": {
             "colorbar": {
              "outlinewidth": 0,
              "ticks": ""
             }
            },
            "type": "scattergl"
           }
          ],
          "scattermap": [
           {
            "marker": {
             "colorbar": {
              "outlinewidth": 0,
              "ticks": ""
             }
            },
            "type": "scattermap"
           }
          ],
          "scattermapbox": [
           {
            "marker": {
             "colorbar": {
              "outlinewidth": 0,
              "ticks": ""
             }
            },
            "type": "scattermapbox"
           }
          ],
          "scatterpolar": [
           {
            "marker": {
             "colorbar": {
              "outlinewidth": 0,
              "ticks": ""
             }
            },
            "type": "scatterpolar"
           }
          ],
          "scatterpolargl": [
           {
            "marker": {
             "colorbar": {
              "outlinewidth": 0,
              "ticks": ""
             }
            },
            "type": "scatterpolargl"
           }
          ],
          "scatterternary": [
           {
            "marker": {
             "colorbar": {
              "outlinewidth": 0,
              "ticks": ""
             }
            },
            "type": "scatterternary"
           }
          ],
          "surface": [
           {
            "colorbar": {
             "outlinewidth": 0,
             "ticks": ""
            },
            "colorscale": [
             [
              0,
              "#0d0887"
             ],
             [
              0.1111111111111111,
              "#46039f"
             ],
             [
              0.2222222222222222,
              "#7201a8"
             ],
             [
              0.3333333333333333,
              "#9c179e"
             ],
             [
              0.4444444444444444,
              "#bd3786"
             ],
             [
              0.5555555555555556,
              "#d8576b"
             ],
             [
              0.6666666666666666,
              "#ed7953"
             ],
             [
              0.7777777777777778,
              "#fb9f3a"
             ],
             [
              0.8888888888888888,
              "#fdca26"
             ],
             [
              1,
              "#f0f921"
             ]
            ],
            "type": "surface"
           }
          ],
          "table": [
           {
            "cells": {
             "fill": {
              "color": "#EBF0F8"
             },
             "line": {
              "color": "white"
             }
            },
            "header": {
             "fill": {
              "color": "#C8D4E3"
             },
             "line": {
              "color": "white"
             }
            },
            "type": "table"
           }
          ]
         },
         "layout": {
          "annotationdefaults": {
           "arrowcolor": "#2a3f5f",
           "arrowhead": 0,
           "arrowwidth": 1
          },
          "autotypenumbers": "strict",
          "coloraxis": {
           "colorbar": {
            "outlinewidth": 0,
            "ticks": ""
           }
          },
          "colorscale": {
           "diverging": [
            [
             0,
             "#8e0152"
            ],
            [
             0.1,
             "#c51b7d"
            ],
            [
             0.2,
             "#de77ae"
            ],
            [
             0.3,
             "#f1b6da"
            ],
            [
             0.4,
             "#fde0ef"
            ],
            [
             0.5,
             "#f7f7f7"
            ],
            [
             0.6,
             "#e6f5d0"
            ],
            [
             0.7,
             "#b8e186"
            ],
            [
             0.8,
             "#7fbc41"
            ],
            [
             0.9,
             "#4d9221"
            ],
            [
             1,
             "#276419"
            ]
           ],
           "sequential": [
            [
             0,
             "#0d0887"
            ],
            [
             0.1111111111111111,
             "#46039f"
            ],
            [
             0.2222222222222222,
             "#7201a8"
            ],
            [
             0.3333333333333333,
             "#9c179e"
            ],
            [
             0.4444444444444444,
             "#bd3786"
            ],
            [
             0.5555555555555556,
             "#d8576b"
            ],
            [
             0.6666666666666666,
             "#ed7953"
            ],
            [
             0.7777777777777778,
             "#fb9f3a"
            ],
            [
             0.8888888888888888,
             "#fdca26"
            ],
            [
             1,
             "#f0f921"
            ]
           ],
           "sequentialminus": [
            [
             0,
             "#0d0887"
            ],
            [
             0.1111111111111111,
             "#46039f"
            ],
            [
             0.2222222222222222,
             "#7201a8"
            ],
            [
             0.3333333333333333,
             "#9c179e"
            ],
            [
             0.4444444444444444,
             "#bd3786"
            ],
            [
             0.5555555555555556,
             "#d8576b"
            ],
            [
             0.6666666666666666,
             "#ed7953"
            ],
            [
             0.7777777777777778,
             "#fb9f3a"
            ],
            [
             0.8888888888888888,
             "#fdca26"
            ],
            [
             1,
             "#f0f921"
            ]
           ]
          },
          "colorway": [
           "#636efa",
           "#EF553B",
           "#00cc96",
           "#ab63fa",
           "#FFA15A",
           "#19d3f3",
           "#FF6692",
           "#B6E880",
           "#FF97FF",
           "#FECB52"
          ],
          "font": {
           "color": "#2a3f5f"
          },
          "geo": {
           "bgcolor": "white",
           "lakecolor": "white",
           "landcolor": "white",
           "showlakes": true,
           "showland": true,
           "subunitcolor": "#C8D4E3"
          },
          "hoverlabel": {
           "align": "left"
          },
          "hovermode": "closest",
          "mapbox": {
           "style": "light"
          },
          "paper_bgcolor": "white",
          "plot_bgcolor": "white",
          "polar": {
           "angularaxis": {
            "gridcolor": "#EBF0F8",
            "linecolor": "#EBF0F8",
            "ticks": ""
           },
           "bgcolor": "white",
           "radialaxis": {
            "gridcolor": "#EBF0F8",
            "linecolor": "#EBF0F8",
            "ticks": ""
           }
          },
          "scene": {
           "xaxis": {
            "backgroundcolor": "white",
            "gridcolor": "#DFE8F3",
            "gridwidth": 2,
            "linecolor": "#EBF0F8",
            "showbackground": true,
            "ticks": "",
            "zerolinecolor": "#EBF0F8"
           },
           "yaxis": {
            "backgroundcolor": "white",
            "gridcolor": "#DFE8F3",
            "gridwidth": 2,
            "linecolor": "#EBF0F8",
            "showbackground": true,
            "ticks": "",
            "zerolinecolor": "#EBF0F8"
           },
           "zaxis": {
            "backgroundcolor": "white",
            "gridcolor": "#DFE8F3",
            "gridwidth": 2,
            "linecolor": "#EBF0F8",
            "showbackground": true,
            "ticks": "",
            "zerolinecolor": "#EBF0F8"
           }
          },
          "shapedefaults": {
           "line": {
            "color": "#2a3f5f"
           }
          },
          "ternary": {
           "aaxis": {
            "gridcolor": "#DFE8F3",
            "linecolor": "#A2B1C6",
            "ticks": ""
           },
           "baxis": {
            "gridcolor": "#DFE8F3",
            "linecolor": "#A2B1C6",
            "ticks": ""
           },
           "bgcolor": "white",
           "caxis": {
            "gridcolor": "#DFE8F3",
            "linecolor": "#A2B1C6",
            "ticks": ""
           }
          },
          "title": {
           "x": 0.05
          },
          "xaxis": {
           "automargin": true,
           "gridcolor": "#EBF0F8",
           "linecolor": "#EBF0F8",
           "ticks": "",
           "title": {
            "standoff": 15
           },
           "zerolinecolor": "#EBF0F8",
           "zerolinewidth": 2
          },
          "yaxis": {
           "automargin": true,
           "gridcolor": "#EBF0F8",
           "linecolor": "#EBF0F8",
           "ticks": "",
           "title": {
            "standoff": 15
           },
           "zerolinecolor": "#EBF0F8",
           "zerolinewidth": 2
          }
         }
        },
        "title": {
         "text": "Weekly Login Trends by OfficeName"
        },
        "xaxis": {
         "anchor": "y",
         "domain": [
          0,
          1
         ],
         "title": {
          "text": "Week"
         }
        },
        "yaxis": {
         "anchor": "x",
         "domain": [
          0,
          1
         ],
         "title": {
          "text": "Login Count"
         }
        }
       }
      },
      "text/html": [
       "<div>                        <script type=\"text/javascript\">window.PlotlyConfig = {MathJaxConfig: 'local'};</script>\n",
       "        <script charset=\"utf-8\" src=\"https://cdn.plot.ly/plotly-3.0.1.min.js\"></script>                <div id=\"bc027f92-d183-4d7b-92da-dd039c79a51b\" class=\"plotly-graph-div\" style=\"height:100%; width:100%;\"></div>            <script type=\"text/javascript\">                window.PLOTLYENV=window.PLOTLYENV || {};                                if (document.getElementById(\"bc027f92-d183-4d7b-92da-dd039c79a51b\")) {                    Plotly.newPlot(                        \"bc027f92-d183-4d7b-92da-dd039c79a51b\",                        [{\"hovertemplate\":\"OfficeName=Berkshire Hathaway HomeService\\u003cbr\\u003eWeek=%{x}\\u003cbr\\u003eLoginCount=%{y}\\u003cextra\\u003e\\u003c\\u002fextra\\u003e\",\"legendgroup\":\"Berkshire Hathaway HomeService\",\"line\":{\"color\":\"#636efa\",\"dash\":\"solid\"},\"marker\":{\"symbol\":\"circle\"},\"mode\":\"lines+markers\",\"name\":\"Berkshire Hathaway HomeService\",\"orientation\":\"v\",\"showlegend\":true,\"x\":{\"dtype\":\"i1\",\"bdata\":\"FBUWFxg=\"},\"xaxis\":\"x\",\"y\":{\"dtype\":\"i2\",\"bdata\":\"dBKgEGcTMxTMCA==\"},\"yaxis\":\"y\",\"type\":\"scatter\"},{\"hovertemplate\":\"OfficeName=Berkshire Hathaway HomeServices California Properties\\u003cbr\\u003eWeek=%{x}\\u003cbr\\u003eLoginCount=%{y}\\u003cextra\\u003e\\u003c\\u002fextra\\u003e\",\"legendgroup\":\"Berkshire Hathaway HomeServices California Properties\",\"line\":{\"color\":\"#EF553B\",\"dash\":\"solid\"},\"marker\":{\"symbol\":\"circle\"},\"mode\":\"lines+markers\",\"name\":\"Berkshire Hathaway HomeServices California Properties\",\"orientation\":\"v\",\"showlegend\":true,\"x\":{\"dtype\":\"i1\",\"bdata\":\"FBUWFxg=\"},\"xaxis\":\"x\",\"y\":{\"dtype\":\"i2\",\"bdata\":\"Ixa1FWwUdxbVCg==\"},\"yaxis\":\"y\",\"type\":\"scatter\"},{\"hovertemplate\":\"OfficeName=Century 21 Masters\\u003cbr\\u003eWeek=%{x}\\u003cbr\\u003eLoginCount=%{y}\\u003cextra\\u003e\\u003c\\u002fextra\\u003e\",\"legendgroup\":\"Century 21 Masters\",\"line\":{\"color\":\"#00cc96\",\"dash\":\"solid\"},\"marker\":{\"symbol\":\"circle\"},\"mode\":\"lines+markers\",\"name\":\"Century 21 Masters\",\"orientation\":\"v\",\"showlegend\":true,\"x\":{\"dtype\":\"i1\",\"bdata\":\"FBUWFxg=\"},\"xaxis\":\"x\",\"y\":{\"dtype\":\"i2\",\"bdata\":\"BBWsFCEWCRc4Cw==\"},\"yaxis\":\"y\",\"type\":\"scatter\"},{\"hovertemplate\":\"OfficeName=Coldwell Banker Realty\\u003cbr\\u003eWeek=%{x}\\u003cbr\\u003eLoginCount=%{y}\\u003cextra\\u003e\\u003c\\u002fextra\\u003e\",\"legendgroup\":\"Coldwell Banker Realty\",\"line\":{\"color\":\"#ab63fa\",\"dash\":\"solid\"},\"marker\":{\"symbol\":\"circle\"},\"mode\":\"lines+markers\",\"name\":\"Coldwell Banker Realty\",\"orientation\":\"v\",\"showlegend\":true,\"x\":{\"dtype\":\"i1\",\"bdata\":\"FBUWFxg=\"},\"xaxis\":\"x\",\"y\":{\"dtype\":\"i2\",\"bdata\":\"bUefQXBBokhCHw==\"},\"yaxis\":\"y\",\"type\":\"scatter\"},{\"hovertemplate\":\"OfficeName=Compass\\u003cbr\\u003eWeek=%{x}\\u003cbr\\u003eLoginCount=%{y}\\u003cextra\\u003e\\u003c\\u002fextra\\u003e\",\"legendgroup\":\"Compass\",\"line\":{\"color\":\"#FFA15A\",\"dash\":\"solid\"},\"marker\":{\"symbol\":\"circle\"},\"mode\":\"lines+markers\",\"name\":\"Compass\",\"orientation\":\"v\",\"showlegend\":true,\"x\":{\"dtype\":\"i1\",\"bdata\":\"FBUWFxg=\"},\"xaxis\":\"x\",\"y\":{\"dtype\":\"i2\",\"bdata\":\"YyAMHqcdDh+BDg==\"},\"yaxis\":\"y\",\"type\":\"scatter\"},{\"hovertemplate\":\"OfficeName=First Team Real Estate\\u003cbr\\u003eWeek=%{x}\\u003cbr\\u003eLoginCount=%{y}\\u003cextra\\u003e\\u003c\\u002fextra\\u003e\",\"legendgroup\":\"First Team Real Estate\",\"line\":{\"color\":\"#19d3f3\",\"dash\":\"solid\"},\"marker\":{\"symbol\":\"circle\"},\"mode\":\"lines+markers\",\"name\":\"First Team Real Estate\",\"orientation\":\"v\",\"showlegend\":true,\"x\":{\"dtype\":\"i1\",\"bdata\":\"FBUWFxg=\"},\"xaxis\":\"x\",\"y\":{\"dtype\":\"i2\",\"bdata\":\"\\u002fjKILiEtwzFvFg==\"},\"yaxis\":\"y\",\"type\":\"scatter\"},{\"hovertemplate\":\"OfficeName=Keller Williams Realty\\u003cbr\\u003eWeek=%{x}\\u003cbr\\u003eLoginCount=%{y}\\u003cextra\\u003e\\u003c\\u002fextra\\u003e\",\"legendgroup\":\"Keller Williams Realty\",\"line\":{\"color\":\"#FF6692\",\"dash\":\"solid\"},\"marker\":{\"symbol\":\"circle\"},\"mode\":\"lines+markers\",\"name\":\"Keller Williams Realty\",\"orientation\":\"v\",\"showlegend\":true,\"x\":{\"dtype\":\"i1\",\"bdata\":\"FBUWFxg=\"},\"xaxis\":\"x\",\"y\":{\"dtype\":\"i2\",\"bdata\":\"YB8sIaohBCJTEA==\"},\"yaxis\":\"y\",\"type\":\"scatter\"},{\"hovertemplate\":\"OfficeName=Pinnacle Real Estate Group\\u003cbr\\u003eWeek=%{x}\\u003cbr\\u003eLoginCount=%{y}\\u003cextra\\u003e\\u003c\\u002fextra\\u003e\",\"legendgroup\":\"Pinnacle Real Estate Group\",\"line\":{\"color\":\"#B6E880\",\"dash\":\"solid\"},\"marker\":{\"symbol\":\"circle\"},\"mode\":\"lines+markers\",\"name\":\"Pinnacle Real Estate Group\",\"orientation\":\"v\",\"showlegend\":true,\"x\":{\"dtype\":\"i1\",\"bdata\":\"FBUWFxg=\"},\"xaxis\":\"x\",\"y\":{\"dtype\":\"i2\",\"bdata\":\"GiAsHSQcPR1bDA==\"},\"yaxis\":\"y\",\"type\":\"scatter\"},{\"hovertemplate\":\"OfficeName=Real Broker\\u003cbr\\u003eWeek=%{x}\\u003cbr\\u003eLoginCount=%{y}\\u003cextra\\u003e\\u003c\\u002fextra\\u003e\",\"legendgroup\":\"Real Broker\",\"line\":{\"color\":\"#FF97FF\",\"dash\":\"solid\"},\"marker\":{\"symbol\":\"circle\"},\"mode\":\"lines+markers\",\"name\":\"Real Broker\",\"orientation\":\"v\",\"showlegend\":true,\"x\":{\"dtype\":\"i1\",\"bdata\":\"FBUWFxg=\"},\"xaxis\":\"x\",\"y\":{\"dtype\":\"i2\",\"bdata\":\"uifqIxAiaSV5Dg==\"},\"yaxis\":\"y\",\"type\":\"scatter\"},{\"hovertemplate\":\"OfficeName=eXp Realty of California Inc\\u003cbr\\u003eWeek=%{x}\\u003cbr\\u003eLoginCount=%{y}\\u003cextra\\u003e\\u003c\\u002fextra\\u003e\",\"legendgroup\":\"eXp Realty of California Inc\",\"line\":{\"color\":\"#FECB52\",\"dash\":\"solid\"},\"marker\":{\"symbol\":\"circle\"},\"mode\":\"lines+markers\",\"name\":\"eXp Realty of California Inc\",\"orientation\":\"v\",\"showlegend\":true,\"x\":{\"dtype\":\"i1\",\"bdata\":\"FBUWFxg=\"},\"xaxis\":\"x\",\"y\":{\"dtype\":\"i2\",\"bdata\":\"Qx1FHSgbyxvGCw==\"},\"yaxis\":\"y\",\"type\":\"scatter\"}],                        {\"template\":{\"data\":{\"barpolar\":[{\"marker\":{\"line\":{\"color\":\"white\",\"width\":0.5},\"pattern\":{\"fillmode\":\"overlay\",\"size\":10,\"solidity\":0.2}},\"type\":\"barpolar\"}],\"bar\":[{\"error_x\":{\"color\":\"#2a3f5f\"},\"error_y\":{\"color\":\"#2a3f5f\"},\"marker\":{\"line\":{\"color\":\"white\",\"width\":0.5},\"pattern\":{\"fillmode\":\"overlay\",\"size\":10,\"solidity\":0.2}},\"type\":\"bar\"}],\"carpet\":[{\"aaxis\":{\"endlinecolor\":\"#2a3f5f\",\"gridcolor\":\"#C8D4E3\",\"linecolor\":\"#C8D4E3\",\"minorgridcolor\":\"#C8D4E3\",\"startlinecolor\":\"#2a3f5f\"},\"baxis\":{\"endlinecolor\":\"#2a3f5f\",\"gridcolor\":\"#C8D4E3\",\"linecolor\":\"#C8D4E3\",\"minorgridcolor\":\"#C8D4E3\",\"startlinecolor\":\"#2a3f5f\"},\"type\":\"carpet\"}],\"choropleth\":[{\"colorbar\":{\"outlinewidth\":0,\"ticks\":\"\"},\"type\":\"choropleth\"}],\"contourcarpet\":[{\"colorbar\":{\"outlinewidth\":0,\"ticks\":\"\"},\"type\":\"contourcarpet\"}],\"contour\":[{\"colorbar\":{\"outlinewidth\":0,\"ticks\":\"\"},\"colorscale\":[[0.0,\"#0d0887\"],[0.1111111111111111,\"#46039f\"],[0.2222222222222222,\"#7201a8\"],[0.3333333333333333,\"#9c179e\"],[0.4444444444444444,\"#bd3786\"],[0.5555555555555556,\"#d8576b\"],[0.6666666666666666,\"#ed7953\"],[0.7777777777777778,\"#fb9f3a\"],[0.8888888888888888,\"#fdca26\"],[1.0,\"#f0f921\"]],\"type\":\"contour\"}],\"heatmap\":[{\"colorbar\":{\"outlinewidth\":0,\"ticks\":\"\"},\"colorscale\":[[0.0,\"#0d0887\"],[0.1111111111111111,\"#46039f\"],[0.2222222222222222,\"#7201a8\"],[0.3333333333333333,\"#9c179e\"],[0.4444444444444444,\"#bd3786\"],[0.5555555555555556,\"#d8576b\"],[0.6666666666666666,\"#ed7953\"],[0.7777777777777778,\"#fb9f3a\"],[0.8888888888888888,\"#fdca26\"],[1.0,\"#f0f921\"]],\"type\":\"heatmap\"}],\"histogram2dcontour\":[{\"colorbar\":{\"outlinewidth\":0,\"ticks\":\"\"},\"colorscale\":[[0.0,\"#0d0887\"],[0.1111111111111111,\"#46039f\"],[0.2222222222222222,\"#7201a8\"],[0.3333333333333333,\"#9c179e\"],[0.4444444444444444,\"#bd3786\"],[0.5555555555555556,\"#d8576b\"],[0.6666666666666666,\"#ed7953\"],[0.7777777777777778,\"#fb9f3a\"],[0.8888888888888888,\"#fdca26\"],[1.0,\"#f0f921\"]],\"type\":\"histogram2dcontour\"}],\"histogram2d\":[{\"colorbar\":{\"outlinewidth\":0,\"ticks\":\"\"},\"colorscale\":[[0.0,\"#0d0887\"],[0.1111111111111111,\"#46039f\"],[0.2222222222222222,\"#7201a8\"],[0.3333333333333333,\"#9c179e\"],[0.4444444444444444,\"#bd3786\"],[0.5555555555555556,\"#d8576b\"],[0.6666666666666666,\"#ed7953\"],[0.7777777777777778,\"#fb9f3a\"],[0.8888888888888888,\"#fdca26\"],[1.0,\"#f0f921\"]],\"type\":\"histogram2d\"}],\"histogram\":[{\"marker\":{\"pattern\":{\"fillmode\":\"overlay\",\"size\":10,\"solidity\":0.2}},\"type\":\"histogram\"}],\"mesh3d\":[{\"colorbar\":{\"outlinewidth\":0,\"ticks\":\"\"},\"type\":\"mesh3d\"}],\"parcoords\":[{\"line\":{\"colorbar\":{\"outlinewidth\":0,\"ticks\":\"\"}},\"type\":\"parcoords\"}],\"pie\":[{\"automargin\":true,\"type\":\"pie\"}],\"scatter3d\":[{\"line\":{\"colorbar\":{\"outlinewidth\":0,\"ticks\":\"\"}},\"marker\":{\"colorbar\":{\"outlinewidth\":0,\"ticks\":\"\"}},\"type\":\"scatter3d\"}],\"scattercarpet\":[{\"marker\":{\"colorbar\":{\"outlinewidth\":0,\"ticks\":\"\"}},\"type\":\"scattercarpet\"}],\"scattergeo\":[{\"marker\":{\"colorbar\":{\"outlinewidth\":0,\"ticks\":\"\"}},\"type\":\"scattergeo\"}],\"scattergl\":[{\"marker\":{\"colorbar\":{\"outlinewidth\":0,\"ticks\":\"\"}},\"type\":\"scattergl\"}],\"scattermapbox\":[{\"marker\":{\"colorbar\":{\"outlinewidth\":0,\"ticks\":\"\"}},\"type\":\"scattermapbox\"}],\"scattermap\":[{\"marker\":{\"colorbar\":{\"outlinewidth\":0,\"ticks\":\"\"}},\"type\":\"scattermap\"}],\"scatterpolargl\":[{\"marker\":{\"colorbar\":{\"outlinewidth\":0,\"ticks\":\"\"}},\"type\":\"scatterpolargl\"}],\"scatterpolar\":[{\"marker\":{\"colorbar\":{\"outlinewidth\":0,\"ticks\":\"\"}},\"type\":\"scatterpolar\"}],\"scatter\":[{\"fillpattern\":{\"fillmode\":\"overlay\",\"size\":10,\"solidity\":0.2},\"type\":\"scatter\"}],\"scatterternary\":[{\"marker\":{\"colorbar\":{\"outlinewidth\":0,\"ticks\":\"\"}},\"type\":\"scatterternary\"}],\"surface\":[{\"colorbar\":{\"outlinewidth\":0,\"ticks\":\"\"},\"colorscale\":[[0.0,\"#0d0887\"],[0.1111111111111111,\"#46039f\"],[0.2222222222222222,\"#7201a8\"],[0.3333333333333333,\"#9c179e\"],[0.4444444444444444,\"#bd3786\"],[0.5555555555555556,\"#d8576b\"],[0.6666666666666666,\"#ed7953\"],[0.7777777777777778,\"#fb9f3a\"],[0.8888888888888888,\"#fdca26\"],[1.0,\"#f0f921\"]],\"type\":\"surface\"}],\"table\":[{\"cells\":{\"fill\":{\"color\":\"#EBF0F8\"},\"line\":{\"color\":\"white\"}},\"header\":{\"fill\":{\"color\":\"#C8D4E3\"},\"line\":{\"color\":\"white\"}},\"type\":\"table\"}]},\"layout\":{\"annotationdefaults\":{\"arrowcolor\":\"#2a3f5f\",\"arrowhead\":0,\"arrowwidth\":1},\"autotypenumbers\":\"strict\",\"coloraxis\":{\"colorbar\":{\"outlinewidth\":0,\"ticks\":\"\"}},\"colorscale\":{\"diverging\":[[0,\"#8e0152\"],[0.1,\"#c51b7d\"],[0.2,\"#de77ae\"],[0.3,\"#f1b6da\"],[0.4,\"#fde0ef\"],[0.5,\"#f7f7f7\"],[0.6,\"#e6f5d0\"],[0.7,\"#b8e186\"],[0.8,\"#7fbc41\"],[0.9,\"#4d9221\"],[1,\"#276419\"]],\"sequential\":[[0.0,\"#0d0887\"],[0.1111111111111111,\"#46039f\"],[0.2222222222222222,\"#7201a8\"],[0.3333333333333333,\"#9c179e\"],[0.4444444444444444,\"#bd3786\"],[0.5555555555555556,\"#d8576b\"],[0.6666666666666666,\"#ed7953\"],[0.7777777777777778,\"#fb9f3a\"],[0.8888888888888888,\"#fdca26\"],[1.0,\"#f0f921\"]],\"sequentialminus\":[[0.0,\"#0d0887\"],[0.1111111111111111,\"#46039f\"],[0.2222222222222222,\"#7201a8\"],[0.3333333333333333,\"#9c179e\"],[0.4444444444444444,\"#bd3786\"],[0.5555555555555556,\"#d8576b\"],[0.6666666666666666,\"#ed7953\"],[0.7777777777777778,\"#fb9f3a\"],[0.8888888888888888,\"#fdca26\"],[1.0,\"#f0f921\"]]},\"colorway\":[\"#636efa\",\"#EF553B\",\"#00cc96\",\"#ab63fa\",\"#FFA15A\",\"#19d3f3\",\"#FF6692\",\"#B6E880\",\"#FF97FF\",\"#FECB52\"],\"font\":{\"color\":\"#2a3f5f\"},\"geo\":{\"bgcolor\":\"white\",\"lakecolor\":\"white\",\"landcolor\":\"white\",\"showlakes\":true,\"showland\":true,\"subunitcolor\":\"#C8D4E3\"},\"hoverlabel\":{\"align\":\"left\"},\"hovermode\":\"closest\",\"mapbox\":{\"style\":\"light\"},\"paper_bgcolor\":\"white\",\"plot_bgcolor\":\"white\",\"polar\":{\"angularaxis\":{\"gridcolor\":\"#EBF0F8\",\"linecolor\":\"#EBF0F8\",\"ticks\":\"\"},\"bgcolor\":\"white\",\"radialaxis\":{\"gridcolor\":\"#EBF0F8\",\"linecolor\":\"#EBF0F8\",\"ticks\":\"\"}},\"scene\":{\"xaxis\":{\"backgroundcolor\":\"white\",\"gridcolor\":\"#DFE8F3\",\"gridwidth\":2,\"linecolor\":\"#EBF0F8\",\"showbackground\":true,\"ticks\":\"\",\"zerolinecolor\":\"#EBF0F8\"},\"yaxis\":{\"backgroundcolor\":\"white\",\"gridcolor\":\"#DFE8F3\",\"gridwidth\":2,\"linecolor\":\"#EBF0F8\",\"showbackground\":true,\"ticks\":\"\",\"zerolinecolor\":\"#EBF0F8\"},\"zaxis\":{\"backgroundcolor\":\"white\",\"gridcolor\":\"#DFE8F3\",\"gridwidth\":2,\"linecolor\":\"#EBF0F8\",\"showbackground\":true,\"ticks\":\"\",\"zerolinecolor\":\"#EBF0F8\"}},\"shapedefaults\":{\"line\":{\"color\":\"#2a3f5f\"}},\"ternary\":{\"aaxis\":{\"gridcolor\":\"#DFE8F3\",\"linecolor\":\"#A2B1C6\",\"ticks\":\"\"},\"baxis\":{\"gridcolor\":\"#DFE8F3\",\"linecolor\":\"#A2B1C6\",\"ticks\":\"\"},\"bgcolor\":\"white\",\"caxis\":{\"gridcolor\":\"#DFE8F3\",\"linecolor\":\"#A2B1C6\",\"ticks\":\"\"}},\"title\":{\"x\":0.05},\"xaxis\":{\"automargin\":true,\"gridcolor\":\"#EBF0F8\",\"linecolor\":\"#EBF0F8\",\"ticks\":\"\",\"title\":{\"standoff\":15},\"zerolinecolor\":\"#EBF0F8\",\"zerolinewidth\":2},\"yaxis\":{\"automargin\":true,\"gridcolor\":\"#EBF0F8\",\"linecolor\":\"#EBF0F8\",\"ticks\":\"\",\"title\":{\"standoff\":15},\"zerolinecolor\":\"#EBF0F8\",\"zerolinewidth\":2}}},\"xaxis\":{\"anchor\":\"y\",\"domain\":[0.0,1.0],\"title\":{\"text\":\"Week\"}},\"yaxis\":{\"anchor\":\"x\",\"domain\":[0.0,1.0],\"title\":{\"text\":\"Login Count\"}},\"legend\":{\"title\":{\"text\":\"OfficeName\"},\"tracegroupgap\":0,\"font\":{\"size\":12},\"orientation\":\"h\",\"yanchor\":\"bottom\",\"y\":-1.08,\"xanchor\":\"center\",\"x\":0.5,\"bgcolor\":\"rgba(255,255,255,0.5)\",\"bordercolor\":\"rgba(0,0,0,0)\",\"borderwidth\":0},\"title\":{\"text\":\"Weekly Login Trends by OfficeName\"}},                        {\"responsive\": true}                    )                };            </script>        </div>"
      ],
      "text/plain": [
       "Figure({\n",
       "    'data': [{'hovertemplate': ('OfficeName=Berkshire Hathaway ' ... 'LoginCount=%{y}<extra></extra>'),\n",
       "              'legendgroup': 'Berkshire Hathaway HomeService',\n",
       "              'line': {'color': '#636efa', 'dash': 'solid'},\n",
       "              'marker': {'symbol': 'circle'},\n",
       "              'mode': 'lines+markers',\n",
       "              'name': 'Berkshire Hathaway HomeService',\n",
       "              'orientation': 'v',\n",
       "              'showlegend': True,\n",
       "              'type': 'scatter',\n",
       "              'x': {'bdata': 'FBUWFxg=', 'dtype': 'i1'},\n",
       "              'xaxis': 'x',\n",
       "              'y': {'bdata': 'dBKgEGcTMxTMCA==', 'dtype': 'i2'},\n",
       "              'yaxis': 'y'},\n",
       "             {'hovertemplate': ('OfficeName=Berkshire Hathaway ' ... 'LoginCount=%{y}<extra></extra>'),\n",
       "              'legendgroup': 'Berkshire Hathaway HomeServices California Properties',\n",
       "              'line': {'color': '#EF553B', 'dash': 'solid'},\n",
       "              'marker': {'symbol': 'circle'},\n",
       "              'mode': 'lines+markers',\n",
       "              'name': 'Berkshire Hathaway HomeServices California Properties',\n",
       "              'orientation': 'v',\n",
       "              'showlegend': True,\n",
       "              'type': 'scatter',\n",
       "              'x': {'bdata': 'FBUWFxg=', 'dtype': 'i1'},\n",
       "              'xaxis': 'x',\n",
       "              'y': {'bdata': 'Ixa1FWwUdxbVCg==', 'dtype': 'i2'},\n",
       "              'yaxis': 'y'},\n",
       "             {'hovertemplate': 'OfficeName=Century 21 Masters<br>Week=%{x}<br>LoginCount=%{y}<extra></extra>',\n",
       "              'legendgroup': 'Century 21 Masters',\n",
       "              'line': {'color': '#00cc96', 'dash': 'solid'},\n",
       "              'marker': {'symbol': 'circle'},\n",
       "              'mode': 'lines+markers',\n",
       "              'name': 'Century 21 Masters',\n",
       "              'orientation': 'v',\n",
       "              'showlegend': True,\n",
       "              'type': 'scatter',\n",
       "              'x': {'bdata': 'FBUWFxg=', 'dtype': 'i1'},\n",
       "              'xaxis': 'x',\n",
       "              'y': {'bdata': 'BBWsFCEWCRc4Cw==', 'dtype': 'i2'},\n",
       "              'yaxis': 'y'},\n",
       "             {'hovertemplate': 'OfficeName=Coldwell Banker Realty<br>Week=%{x}<br>LoginCount=%{y}<extra></extra>',\n",
       "              'legendgroup': 'Coldwell Banker Realty',\n",
       "              'line': {'color': '#ab63fa', 'dash': 'solid'},\n",
       "              'marker': {'symbol': 'circle'},\n",
       "              'mode': 'lines+markers',\n",
       "              'name': 'Coldwell Banker Realty',\n",
       "              'orientation': 'v',\n",
       "              'showlegend': True,\n",
       "              'type': 'scatter',\n",
       "              'x': {'bdata': 'FBUWFxg=', 'dtype': 'i1'},\n",
       "              'xaxis': 'x',\n",
       "              'y': {'bdata': 'bUefQXBBokhCHw==', 'dtype': 'i2'},\n",
       "              'yaxis': 'y'},\n",
       "             {'hovertemplate': 'OfficeName=Compass<br>Week=%{x}<br>LoginCount=%{y}<extra></extra>',\n",
       "              'legendgroup': 'Compass',\n",
       "              'line': {'color': '#FFA15A', 'dash': 'solid'},\n",
       "              'marker': {'symbol': 'circle'},\n",
       "              'mode': 'lines+markers',\n",
       "              'name': 'Compass',\n",
       "              'orientation': 'v',\n",
       "              'showlegend': True,\n",
       "              'type': 'scatter',\n",
       "              'x': {'bdata': 'FBUWFxg=', 'dtype': 'i1'},\n",
       "              'xaxis': 'x',\n",
       "              'y': {'bdata': 'YyAMHqcdDh+BDg==', 'dtype': 'i2'},\n",
       "              'yaxis': 'y'},\n",
       "             {'hovertemplate': 'OfficeName=First Team Real Estate<br>Week=%{x}<br>LoginCount=%{y}<extra></extra>',\n",
       "              'legendgroup': 'First Team Real Estate',\n",
       "              'line': {'color': '#19d3f3', 'dash': 'solid'},\n",
       "              'marker': {'symbol': 'circle'},\n",
       "              'mode': 'lines+markers',\n",
       "              'name': 'First Team Real Estate',\n",
       "              'orientation': 'v',\n",
       "              'showlegend': True,\n",
       "              'type': 'scatter',\n",
       "              'x': {'bdata': 'FBUWFxg=', 'dtype': 'i1'},\n",
       "              'xaxis': 'x',\n",
       "              'y': {'bdata': '/jKILiEtwzFvFg==', 'dtype': 'i2'},\n",
       "              'yaxis': 'y'},\n",
       "             {'hovertemplate': 'OfficeName=Keller Williams Realty<br>Week=%{x}<br>LoginCount=%{y}<extra></extra>',\n",
       "              'legendgroup': 'Keller Williams Realty',\n",
       "              'line': {'color': '#FF6692', 'dash': 'solid'},\n",
       "              'marker': {'symbol': 'circle'},\n",
       "              'mode': 'lines+markers',\n",
       "              'name': 'Keller Williams Realty',\n",
       "              'orientation': 'v',\n",
       "              'showlegend': True,\n",
       "              'type': 'scatter',\n",
       "              'x': {'bdata': 'FBUWFxg=', 'dtype': 'i1'},\n",
       "              'xaxis': 'x',\n",
       "              'y': {'bdata': 'YB8sIaohBCJTEA==', 'dtype': 'i2'},\n",
       "              'yaxis': 'y'},\n",
       "             {'hovertemplate': ('OfficeName=Pinnacle Real Estat' ... 'LoginCount=%{y}<extra></extra>'),\n",
       "              'legendgroup': 'Pinnacle Real Estate Group',\n",
       "              'line': {'color': '#B6E880', 'dash': 'solid'},\n",
       "              'marker': {'symbol': 'circle'},\n",
       "              'mode': 'lines+markers',\n",
       "              'name': 'Pinnacle Real Estate Group',\n",
       "              'orientation': 'v',\n",
       "              'showlegend': True,\n",
       "              'type': 'scatter',\n",
       "              'x': {'bdata': 'FBUWFxg=', 'dtype': 'i1'},\n",
       "              'xaxis': 'x',\n",
       "              'y': {'bdata': 'GiAsHSQcPR1bDA==', 'dtype': 'i2'},\n",
       "              'yaxis': 'y'},\n",
       "             {'hovertemplate': 'OfficeName=Real Broker<br>Week=%{x}<br>LoginCount=%{y}<extra></extra>',\n",
       "              'legendgroup': 'Real Broker',\n",
       "              'line': {'color': '#FF97FF', 'dash': 'solid'},\n",
       "              'marker': {'symbol': 'circle'},\n",
       "              'mode': 'lines+markers',\n",
       "              'name': 'Real Broker',\n",
       "              'orientation': 'v',\n",
       "              'showlegend': True,\n",
       "              'type': 'scatter',\n",
       "              'x': {'bdata': 'FBUWFxg=', 'dtype': 'i1'},\n",
       "              'xaxis': 'x',\n",
       "              'y': {'bdata': 'uifqIxAiaSV5Dg==', 'dtype': 'i2'},\n",
       "              'yaxis': 'y'},\n",
       "             {'hovertemplate': ('OfficeName=eXp Realty of Calif' ... 'LoginCount=%{y}<extra></extra>'),\n",
       "              'legendgroup': 'eXp Realty of California Inc',\n",
       "              'line': {'color': '#FECB52', 'dash': 'solid'},\n",
       "              'marker': {'symbol': 'circle'},\n",
       "              'mode': 'lines+markers',\n",
       "              'name': 'eXp Realty of California Inc',\n",
       "              'orientation': 'v',\n",
       "              'showlegend': True,\n",
       "              'type': 'scatter',\n",
       "              'x': {'bdata': 'FBUWFxg=', 'dtype': 'i1'},\n",
       "              'xaxis': 'x',\n",
       "              'y': {'bdata': 'Qx1FHSgbyxvGCw==', 'dtype': 'i2'},\n",
       "              'yaxis': 'y'}],\n",
       "    'layout': {'legend': {'bgcolor': 'rgba(255,255,255,0.5)',\n",
       "                          'bordercolor': 'rgba(0,0,0,0)',\n",
       "                          'borderwidth': 0,\n",
       "                          'font': {'size': 12},\n",
       "                          'orientation': 'h',\n",
       "                          'title': {'text': 'OfficeName'},\n",
       "                          'tracegroupgap': 0,\n",
       "                          'x': 0.5,\n",
       "                          'xanchor': 'center',\n",
       "                          'y': -1.08,\n",
       "                          'yanchor': 'bottom'},\n",
       "               'template': '...',\n",
       "               'title': {'text': 'Weekly Login Trends by OfficeName'},\n",
       "               'xaxis': {'anchor': 'y', 'domain': [0.0, 1.0], 'title': {'text': 'Week'}},\n",
       "               'yaxis': {'anchor': 'x', 'domain': [0.0, 1.0], 'title': {'text': 'Login Count'}}}\n",
       "})"
      ]
     },
     "execution_count": 24,
     "metadata": {},
     "output_type": "execute_result"
    }
   ],
   "source": [
    "fig = px.line(\n",
    "    filtered_grouped,\n",
    "    x=\"Week\",\n",
    "    y=\"LoginCount\",\n",
    "    color=breakdown_dim,\n",
    "    title=f\"Weekly Login Trends by {breakdown_dim}\",\n",
    "    markers=True\n",
    ")\n",
    "\n",
    "fig.update_layout(\n",
    "    xaxis_title=\"Week\",\n",
    "    yaxis_title=\"Login Count\",\n",
    "    template=\"plotly_white\",\n",
    "    legend_title=breakdown_dim,\n",
    "    legend=dict(\n",
    "        orientation=\"h\",\n",
    "        yanchor=\"bottom\",\n",
    "        y=-1.08,\n",
    "        xanchor=\"center\",\n",
    "        x=0.5,\n",
    "        bgcolor='rgba(255,255,255,0.5)',  # semi-transparent white\n",
    "        bordercolor='rgba(0,0,0,0)',\n",
    "        borderwidth=0,\n",
    "        font=dict(size=12)\n",
    "    )\n",
    ")\n",
    "\n",
    "fig"
   ]
  },
  {
   "cell_type": "code",
   "execution_count": 31,
   "id": "9f505955",
   "metadata": {},
   "outputs": [
    {
     "data": {
      "text/html": [
       "<div>\n",
       "<style scoped>\n",
       "    .dataframe tbody tr th:only-of-type {\n",
       "        vertical-align: middle;\n",
       "    }\n",
       "\n",
       "    .dataframe tbody tr th {\n",
       "        vertical-align: top;\n",
       "    }\n",
       "\n",
       "    .dataframe thead th {\n",
       "        text-align: right;\n",
       "    }\n",
       "</style>\n",
       "<table border=\"1\" class=\"dataframe\">\n",
       "  <thead>\n",
       "    <tr style=\"text-align: right;\">\n",
       "      <th></th>\n",
       "      <th>UserId</th>\n",
       "      <th>LoginCount</th>\n",
       "    </tr>\n",
       "  </thead>\n",
       "  <tbody>\n",
       "    <tr>\n",
       "      <th>0</th>\n",
       "      <td>01338401</td>\n",
       "      <td>90</td>\n",
       "    </tr>\n",
       "    <tr>\n",
       "      <th>1</th>\n",
       "      <td>02026424</td>\n",
       "      <td>173</td>\n",
       "    </tr>\n",
       "    <tr>\n",
       "      <th>2</th>\n",
       "      <td>100102</td>\n",
       "      <td>29</td>\n",
       "    </tr>\n",
       "    <tr>\n",
       "      <th>3</th>\n",
       "      <td>100121</td>\n",
       "      <td>2</td>\n",
       "    </tr>\n",
       "    <tr>\n",
       "      <th>4</th>\n",
       "      <td>100134</td>\n",
       "      <td>28</td>\n",
       "    </tr>\n",
       "    <tr>\n",
       "      <th>...</th>\n",
       "      <td>...</td>\n",
       "      <td>...</td>\n",
       "    </tr>\n",
       "    <tr>\n",
       "      <th>75923</th>\n",
       "      <td>ygeric</td>\n",
       "      <td>18</td>\n",
       "    </tr>\n",
       "    <tr>\n",
       "      <th>75924</th>\n",
       "      <td>yghsmith</td>\n",
       "      <td>4</td>\n",
       "    </tr>\n",
       "    <tr>\n",
       "      <th>75925</th>\n",
       "      <td>ygloren</td>\n",
       "      <td>6</td>\n",
       "    </tr>\n",
       "    <tr>\n",
       "      <th>75926</th>\n",
       "      <td>ygpamelp</td>\n",
       "      <td>29</td>\n",
       "    </tr>\n",
       "    <tr>\n",
       "      <th>75927</th>\n",
       "      <td>ygtallen</td>\n",
       "      <td>65</td>\n",
       "    </tr>\n",
       "  </tbody>\n",
       "</table>\n",
       "<p>75928 rows × 2 columns</p>\n",
       "</div>"
      ],
      "text/plain": [
       "         UserId  LoginCount\n",
       "0      01338401          90\n",
       "1      02026424         173\n",
       "2        100102          29\n",
       "3        100121           2\n",
       "4        100134          28\n",
       "...         ...         ...\n",
       "75923    ygeric          18\n",
       "75924  yghsmith           4\n",
       "75925   ygloren           6\n",
       "75926  ygpamelp          29\n",
       "75927  ygtallen          65\n",
       "\n",
       "[75928 rows x 2 columns]"
      ]
     },
     "metadata": {},
     "output_type": "display_data"
    }
   ],
   "source": [
    "user_login_counts = df.groupby(\"UserId\")[\"LoginCount\"].sum().reset_index()\n",
    "display(user_login_counts)"
   ]
  },
  {
   "cell_type": "code",
   "execution_count": 34,
   "id": "a9375e96",
   "metadata": {},
   "outputs": [
    {
     "name": "stdout",
     "output_type": "stream",
     "text": [
      "2709\n",
      "[{'label': 0, 'value': 0}, {'label': 100, 'value': 100}, {'label': 200, 'value': 200}, {'label': 300, 'value': 300}, {'label': 400, 'value': 400}, {'label': 500, 'value': 500}, {'label': 600, 'value': 600}, {'label': 700, 'value': 700}, {'label': 800, 'value': 800}, {'label': 900, 'value': 900}, {'label': 1000, 'value': 1000}, {'label': 1100, 'value': 1100}, {'label': 1200, 'value': 1200}, {'label': 1300, 'value': 1300}, {'label': 1400, 'value': 1400}, {'label': 1500, 'value': 1500}, {'label': 1600, 'value': 1600}, {'label': 1700, 'value': 1700}, {'label': 1800, 'value': 1800}, {'label': 1900, 'value': 1900}, {'label': 2000, 'value': 2000}, {'label': 2100, 'value': 2100}, {'label': 2200, 'value': 2200}, {'label': 2300, 'value': 2300}, {'label': 2400, 'value': 2400}, {'label': 2500, 'value': 2500}, {'label': 2600, 'value': 2600}, {'label': 2700, 'value': 2700}]\n"
     ]
    }
   ],
   "source": [
    "min_count = 1\n",
    "max_count = int(user_login_counts[\"LoginCount\"].max()) if not user_login_counts.empty else 1\n",
    "print(max_count)\n",
    "\n",
    "options = [{\"label\": i-1, \"value\": i-1} for i in range(min_count, max_count + 1, 100)]\n",
    "print(options)"
   ]
  },
  {
   "cell_type": "code",
   "execution_count": 30,
   "id": "c702da4c",
   "metadata": {},
   "outputs": [
    {
     "ename": "ValueError",
     "evalue": "Mime type rendering requires nbformat>=4.2.0 but it is not installed",
     "output_type": "error",
     "traceback": [
      "\u001b[31m---------------------------------------------------------------------------\u001b[39m",
      "\u001b[31mValueError\u001b[39m                                Traceback (most recent call last)",
      "\u001b[36mFile \u001b[39m\u001b[32m~/Documents/Documents - BDas-MBP14/Workspaces/user-login-telemetry-dash-app/dash-app-env/lib/python3.13/site-packages/IPython/core/formatters.py:984\u001b[39m, in \u001b[36mIPythonDisplayFormatter.__call__\u001b[39m\u001b[34m(self, obj)\u001b[39m\n\u001b[32m    982\u001b[39m method = get_real_method(obj, \u001b[38;5;28mself\u001b[39m.print_method)\n\u001b[32m    983\u001b[39m \u001b[38;5;28;01mif\u001b[39;00m method \u001b[38;5;129;01mis\u001b[39;00m \u001b[38;5;129;01mnot\u001b[39;00m \u001b[38;5;28;01mNone\u001b[39;00m:\n\u001b[32m--> \u001b[39m\u001b[32m984\u001b[39m     \u001b[43mmethod\u001b[49m\u001b[43m(\u001b[49m\u001b[43m)\u001b[49m\n\u001b[32m    985\u001b[39m     \u001b[38;5;28;01mreturn\u001b[39;00m \u001b[38;5;28;01mTrue\u001b[39;00m\n",
      "\u001b[36mFile \u001b[39m\u001b[32m~/Documents/Documents - BDas-MBP14/Workspaces/user-login-telemetry-dash-app/dash-app-env/lib/python3.13/site-packages/plotly/basedatatypes.py:846\u001b[39m, in \u001b[36mBaseFigure._ipython_display_\u001b[39m\u001b[34m(self)\u001b[39m\n\u001b[32m    843\u001b[39m \u001b[38;5;28;01mimport\u001b[39;00m\u001b[38;5;250m \u001b[39m\u001b[34;01mplotly\u001b[39;00m\u001b[34;01m.\u001b[39;00m\u001b[34;01mio\u001b[39;00m\u001b[38;5;250m \u001b[39m\u001b[38;5;28;01mas\u001b[39;00m\u001b[38;5;250m \u001b[39m\u001b[34;01mpio\u001b[39;00m\n\u001b[32m    845\u001b[39m \u001b[38;5;28;01mif\u001b[39;00m pio.renderers.render_on_display \u001b[38;5;129;01mand\u001b[39;00m pio.renderers.default:\n\u001b[32m--> \u001b[39m\u001b[32m846\u001b[39m     \u001b[43mpio\u001b[49m\u001b[43m.\u001b[49m\u001b[43mshow\u001b[49m\u001b[43m(\u001b[49m\u001b[38;5;28;43mself\u001b[39;49m\u001b[43m)\u001b[49m\n\u001b[32m    847\u001b[39m \u001b[38;5;28;01melse\u001b[39;00m:\n\u001b[32m    848\u001b[39m     \u001b[38;5;28mprint\u001b[39m(\u001b[38;5;28mrepr\u001b[39m(\u001b[38;5;28mself\u001b[39m))\n",
      "\u001b[36mFile \u001b[39m\u001b[32m~/Documents/Documents - BDas-MBP14/Workspaces/user-login-telemetry-dash-app/dash-app-env/lib/python3.13/site-packages/plotly/io/_renderers.py:425\u001b[39m, in \u001b[36mshow\u001b[39m\u001b[34m(fig, renderer, validate, **kwargs)\u001b[39m\n\u001b[32m    420\u001b[39m     \u001b[38;5;28;01mraise\u001b[39;00m \u001b[38;5;167;01mValueError\u001b[39;00m(\n\u001b[32m    421\u001b[39m         \u001b[33m\"\u001b[39m\u001b[33mMime type rendering requires ipython but it is not installed\u001b[39m\u001b[33m\"\u001b[39m\n\u001b[32m    422\u001b[39m     )\n\u001b[32m    424\u001b[39m \u001b[38;5;28;01mif\u001b[39;00m \u001b[38;5;129;01mnot\u001b[39;00m nbformat \u001b[38;5;129;01mor\u001b[39;00m Version(nbformat.__version__) < Version(\u001b[33m\"\u001b[39m\u001b[33m4.2.0\u001b[39m\u001b[33m\"\u001b[39m):\n\u001b[32m--> \u001b[39m\u001b[32m425\u001b[39m     \u001b[38;5;28;01mraise\u001b[39;00m \u001b[38;5;167;01mValueError\u001b[39;00m(\n\u001b[32m    426\u001b[39m         \u001b[33m\"\u001b[39m\u001b[33mMime type rendering requires nbformat>=4.2.0 but it is not installed\u001b[39m\u001b[33m\"\u001b[39m\n\u001b[32m    427\u001b[39m     )\n\u001b[32m    429\u001b[39m display_jupyter_version_warnings()\n\u001b[32m    431\u001b[39m ipython_display.display(bundle, raw=\u001b[38;5;28;01mTrue\u001b[39;00m)\n",
      "\u001b[31mValueError\u001b[39m: Mime type rendering requires nbformat>=4.2.0 but it is not installed"
     ]
    },
    {
     "data": {
      "application/vnd.plotly.v1+json": {
       "config": {
        "plotlyServerURL": "https://plot.ly"
       },
       "data": [
        {
         "bingroup": "x",
         "hovertemplate": "Login Count=%{x}<br>count=%{y}<extra></extra>",
         "legendgroup": "",
         "marker": {
          "color": "#636efa",
          "opacity": 0.85,
          "pattern": {
           "shape": ""
          }
         },
         "name": "",
         "nbinsx": 20,
         "orientation": "v",
         "showlegend": false,
         "type": "histogram",
         "x": {
          "bdata": "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",
          "dtype": "i2"
         },
         "xaxis": "x",
         "yaxis": "y"
        }
       ],
       "layout": {
        "bargap": 0.05,
        "barmode": "relative",
        "legend": {
         "tracegroupgap": 0
        },
        "margin": {
         "b": 60,
         "l": 40,
         "r": 20,
         "t": 60
        },
        "template": {
         "data": {
          "bar": [
           {
            "error_x": {
             "color": "#2a3f5f"
            },
            "error_y": {
             "color": "#2a3f5f"
            },
            "marker": {
             "line": {
              "color": "white",
              "width": 0.5
             },
             "pattern": {
              "fillmode": "overlay",
              "size": 10,
              "solidity": 0.2
             }
            },
            "type": "bar"
           }
          ],
          "barpolar": [
           {
            "marker": {
             "line": {
              "color": "white",
              "width": 0.5
             },
             "pattern": {
              "fillmode": "overlay",
              "size": 10,
              "solidity": 0.2
             }
            },
            "type": "barpolar"
           }
          ],
          "carpet": [
           {
            "aaxis": {
             "endlinecolor": "#2a3f5f",
             "gridcolor": "#C8D4E3",
             "linecolor": "#C8D4E3",
             "minorgridcolor": "#C8D4E3",
             "startlinecolor": "#2a3f5f"
            },
            "baxis": {
             "endlinecolor": "#2a3f5f",
             "gridcolor": "#C8D4E3",
             "linecolor": "#C8D4E3",
             "minorgridcolor": "#C8D4E3",
             "startlinecolor": "#2a3f5f"
            },
            "type": "carpet"
           }
          ],
          "choropleth": [
           {
            "colorbar": {
             "outlinewidth": 0,
             "ticks": ""
            },
            "type": "choropleth"
           }
          ],
          "contour": [
           {
            "colorbar": {
             "outlinewidth": 0,
             "ticks": ""
            },
            "colorscale": [
             [
              0,
              "#0d0887"
             ],
             [
              0.1111111111111111,
              "#46039f"
             ],
             [
              0.2222222222222222,
              "#7201a8"
             ],
             [
              0.3333333333333333,
              "#9c179e"
             ],
             [
              0.4444444444444444,
              "#bd3786"
             ],
             [
              0.5555555555555556,
              "#d8576b"
             ],
             [
              0.6666666666666666,
              "#ed7953"
             ],
             [
              0.7777777777777778,
              "#fb9f3a"
             ],
             [
              0.8888888888888888,
              "#fdca26"
             ],
             [
              1,
              "#f0f921"
             ]
            ],
            "type": "contour"
           }
          ],
          "contourcarpet": [
           {
            "colorbar": {
             "outlinewidth": 0,
             "ticks": ""
            },
            "type": "contourcarpet"
           }
          ],
          "heatmap": [
           {
            "colorbar": {
             "outlinewidth": 0,
             "ticks": ""
            },
            "colorscale": [
             [
              0,
              "#0d0887"
             ],
             [
              0.1111111111111111,
              "#46039f"
             ],
             [
              0.2222222222222222,
              "#7201a8"
             ],
             [
              0.3333333333333333,
              "#9c179e"
             ],
             [
              0.4444444444444444,
              "#bd3786"
             ],
             [
              0.5555555555555556,
              "#d8576b"
             ],
             [
              0.6666666666666666,
              "#ed7953"
             ],
             [
              0.7777777777777778,
              "#fb9f3a"
             ],
             [
              0.8888888888888888,
              "#fdca26"
             ],
             [
              1,
              "#f0f921"
             ]
            ],
            "type": "heatmap"
           }
          ],
          "histogram": [
           {
            "marker": {
             "pattern": {
              "fillmode": "overlay",
              "size": 10,
              "solidity": 0.2
             }
            },
            "type": "histogram"
           }
          ],
          "histogram2d": [
           {
            "colorbar": {
             "outlinewidth": 0,
             "ticks": ""
            },
            "colorscale": [
             [
              0,
              "#0d0887"
             ],
             [
              0.1111111111111111,
              "#46039f"
             ],
             [
              0.2222222222222222,
              "#7201a8"
             ],
             [
              0.3333333333333333,
              "#9c179e"
             ],
             [
              0.4444444444444444,
              "#bd3786"
             ],
             [
              0.5555555555555556,
              "#d8576b"
             ],
             [
              0.6666666666666666,
              "#ed7953"
             ],
             [
              0.7777777777777778,
              "#fb9f3a"
             ],
             [
              0.8888888888888888,
              "#fdca26"
             ],
             [
              1,
              "#f0f921"
             ]
            ],
            "type": "histogram2d"
           }
          ],
          "histogram2dcontour": [
           {
            "colorbar": {
             "outlinewidth": 0,
             "ticks": ""
            },
            "colorscale": [
             [
              0,
              "#0d0887"
             ],
             [
              0.1111111111111111,
              "#46039f"
             ],
             [
              0.2222222222222222,
              "#7201a8"
             ],
             [
              0.3333333333333333,
              "#9c179e"
             ],
             [
              0.4444444444444444,
              "#bd3786"
             ],
             [
              0.5555555555555556,
              "#d8576b"
             ],
             [
              0.6666666666666666,
              "#ed7953"
             ],
             [
              0.7777777777777778,
              "#fb9f3a"
             ],
             [
              0.8888888888888888,
              "#fdca26"
             ],
             [
              1,
              "#f0f921"
             ]
            ],
            "type": "histogram2dcontour"
           }
          ],
          "mesh3d": [
           {
            "colorbar": {
             "outlinewidth": 0,
             "ticks": ""
            },
            "type": "mesh3d"
           }
          ],
          "parcoords": [
           {
            "line": {
             "colorbar": {
              "outlinewidth": 0,
              "ticks": ""
             }
            },
            "type": "parcoords"
           }
          ],
          "pie": [
           {
            "automargin": true,
            "type": "pie"
           }
          ],
          "scatter": [
           {
            "fillpattern": {
             "fillmode": "overlay",
             "size": 10,
             "solidity": 0.2
            },
            "type": "scatter"
           }
          ],
          "scatter3d": [
           {
            "line": {
             "colorbar": {
              "outlinewidth": 0,
              "ticks": ""
             }
            },
            "marker": {
             "colorbar": {
              "outlinewidth": 0,
              "ticks": ""
             }
            },
            "type": "scatter3d"
           }
          ],
          "scattercarpet": [
           {
            "marker": {
             "colorbar": {
              "outlinewidth": 0,
              "ticks": ""
             }
            },
            "type": "scattercarpet"
           }
          ],
          "scattergeo": [
           {
            "marker": {
             "colorbar": {
              "outlinewidth": 0,
              "ticks": ""
             }
            },
            "type": "scattergeo"
           }
          ],
          "scattergl": [
           {
            "marker": {
             "colorbar": {
              "outlinewidth": 0,
              "ticks": ""
             }
            },
            "type": "scattergl"
           }
          ],
          "scattermap": [
           {
            "marker": {
             "colorbar": {
              "outlinewidth": 0,
              "ticks": ""
             }
            },
            "type": "scattermap"
           }
          ],
          "scattermapbox": [
           {
            "marker": {
             "colorbar": {
              "outlinewidth": 0,
              "ticks": ""
             }
            },
            "type": "scattermapbox"
           }
          ],
          "scatterpolar": [
           {
            "marker": {
             "colorbar": {
              "outlinewidth": 0,
              "ticks": ""
             }
            },
            "type": "scatterpolar"
           }
          ],
          "scatterpolargl": [
           {
            "marker": {
             "colorbar": {
              "outlinewidth": 0,
              "ticks": ""
             }
            },
            "type": "scatterpolargl"
           }
          ],
          "scatterternary": [
           {
            "marker": {
             "colorbar": {
              "outlinewidth": 0,
              "ticks": ""
             }
            },
            "type": "scatterternary"
           }
          ],
          "surface": [
           {
            "colorbar": {
             "outlinewidth": 0,
             "ticks": ""
            },
            "colorscale": [
             [
              0,
              "#0d0887"
             ],
             [
              0.1111111111111111,
              "#46039f"
             ],
             [
              0.2222222222222222,
              "#7201a8"
             ],
             [
              0.3333333333333333,
              "#9c179e"
             ],
             [
              0.4444444444444444,
              "#bd3786"
             ],
             [
              0.5555555555555556,
              "#d8576b"
             ],
             [
              0.6666666666666666,
              "#ed7953"
             ],
             [
              0.7777777777777778,
              "#fb9f3a"
             ],
             [
              0.8888888888888888,
              "#fdca26"
             ],
             [
              1,
              "#f0f921"
             ]
            ],
            "type": "surface"
           }
          ],
          "table": [
           {
            "cells": {
             "fill": {
              "color": "#EBF0F8"
             },
             "line": {
              "color": "white"
             }
            },
            "header": {
             "fill": {
              "color": "#C8D4E3"
             },
             "line": {
              "color": "white"
             }
            },
            "type": "table"
           }
          ]
         },
         "layout": {
          "annotationdefaults": {
           "arrowcolor": "#2a3f5f",
           "arrowhead": 0,
           "arrowwidth": 1
          },
          "autotypenumbers": "strict",
          "coloraxis": {
           "colorbar": {
            "outlinewidth": 0,
            "ticks": ""
           }
          },
          "colorscale": {
           "diverging": [
            [
             0,
             "#8e0152"
            ],
            [
             0.1,
             "#c51b7d"
            ],
            [
             0.2,
             "#de77ae"
            ],
            [
             0.3,
             "#f1b6da"
            ],
            [
             0.4,
             "#fde0ef"
            ],
            [
             0.5,
             "#f7f7f7"
            ],
            [
             0.6,
             "#e6f5d0"
            ],
            [
             0.7,
             "#b8e186"
            ],
            [
             0.8,
             "#7fbc41"
            ],
            [
             0.9,
             "#4d9221"
            ],
            [
             1,
             "#276419"
            ]
           ],
           "sequential": [
            [
             0,
             "#0d0887"
            ],
            [
             0.1111111111111111,
             "#46039f"
            ],
            [
             0.2222222222222222,
             "#7201a8"
            ],
            [
             0.3333333333333333,
             "#9c179e"
            ],
            [
             0.4444444444444444,
             "#bd3786"
            ],
            [
             0.5555555555555556,
             "#d8576b"
            ],
            [
             0.6666666666666666,
             "#ed7953"
            ],
            [
             0.7777777777777778,
             "#fb9f3a"
            ],
            [
             0.8888888888888888,
             "#fdca26"
            ],
            [
             1,
             "#f0f921"
            ]
           ],
           "sequentialminus": [
            [
             0,
             "#0d0887"
            ],
            [
             0.1111111111111111,
             "#46039f"
            ],
            [
             0.2222222222222222,
             "#7201a8"
            ],
            [
             0.3333333333333333,
             "#9c179e"
            ],
            [
             0.4444444444444444,
             "#bd3786"
            ],
            [
             0.5555555555555556,
             "#d8576b"
            ],
            [
             0.6666666666666666,
             "#ed7953"
            ],
            [
             0.7777777777777778,
             "#fb9f3a"
            ],
            [
             0.8888888888888888,
             "#fdca26"
            ],
            [
             1,
             "#f0f921"
            ]
           ]
          },
          "colorway": [
           "#636efa",
           "#EF553B",
           "#00cc96",
           "#ab63fa",
           "#FFA15A",
           "#19d3f3",
           "#FF6692",
           "#B6E880",
           "#FF97FF",
           "#FECB52"
          ],
          "font": {
           "color": "#2a3f5f"
          },
          "geo": {
           "bgcolor": "white",
           "lakecolor": "white",
           "landcolor": "white",
           "showlakes": true,
           "showland": true,
           "subunitcolor": "#C8D4E3"
          },
          "hoverlabel": {
           "align": "left"
          },
          "hovermode": "closest",
          "mapbox": {
           "style": "light"
          },
          "paper_bgcolor": "white",
          "plot_bgcolor": "white",
          "polar": {
           "angularaxis": {
            "gridcolor": "#EBF0F8",
            "linecolor": "#EBF0F8",
            "ticks": ""
           },
           "bgcolor": "white",
           "radialaxis": {
            "gridcolor": "#EBF0F8",
            "linecolor": "#EBF0F8",
            "ticks": ""
           }
          },
          "scene": {
           "xaxis": {
            "backgroundcolor": "white",
            "gridcolor": "#DFE8F3",
            "gridwidth": 2,
            "linecolor": "#EBF0F8",
            "showbackground": true,
            "ticks": "",
            "zerolinecolor": "#EBF0F8"
           },
           "yaxis": {
            "backgroundcolor": "white",
            "gridcolor": "#DFE8F3",
            "gridwidth": 2,
            "linecolor": "#EBF0F8",
            "showbackground": true,
            "ticks": "",
            "zerolinecolor": "#EBF0F8"
           },
           "zaxis": {
            "backgroundcolor": "white",
            "gridcolor": "#DFE8F3",
            "gridwidth": 2,
            "linecolor": "#EBF0F8",
            "showbackground": true,
            "ticks": "",
            "zerolinecolor": "#EBF0F8"
           }
          },
          "shapedefaults": {
           "line": {
            "color": "#2a3f5f"
           }
          },
          "ternary": {
           "aaxis": {
            "gridcolor": "#DFE8F3",
            "linecolor": "#A2B1C6",
            "ticks": ""
           },
           "baxis": {
            "gridcolor": "#DFE8F3",
            "linecolor": "#A2B1C6",
            "ticks": ""
           },
           "bgcolor": "white",
           "caxis": {
            "gridcolor": "#DFE8F3",
            "linecolor": "#A2B1C6",
            "ticks": ""
           }
          },
          "title": {
           "x": 0.05
          },
          "xaxis": {
           "automargin": true,
           "gridcolor": "#EBF0F8",
           "linecolor": "#EBF0F8",
           "ticks": "",
           "title": {
            "standoff": 15
           },
           "zerolinecolor": "#EBF0F8",
           "zerolinewidth": 2
          },
          "yaxis": {
           "automargin": true,
           "gridcolor": "#EBF0F8",
           "linecolor": "#EBF0F8",
           "ticks": "",
           "title": {
            "standoff": 15
           },
           "zerolinecolor": "#EBF0F8",
           "zerolinewidth": 2
          }
         }
        },
        "title": {
         "text": "User Activity Distribution"
        },
        "xaxis": {
         "anchor": "y",
         "domain": [
          0,
          1
         ],
         "title": {
          "text": "Login Count"
         }
        },
        "yaxis": {
         "anchor": "x",
         "domain": [
          0,
          1
         ],
         "title": {
          "text": "Number of Users"
         }
        }
       }
      },
      "text/html": [
       "<div>                        <script type=\"text/javascript\">window.PlotlyConfig = {MathJaxConfig: 'local'};</script>\n",
       "        <script charset=\"utf-8\" src=\"https://cdn.plot.ly/plotly-3.0.1.min.js\"></script>                <div id=\"db974d52-ab8a-4a01-8a66-e02ca180cb2d\" class=\"plotly-graph-div\" style=\"height:100%; width:100%;\"></div>            <script type=\"text/javascript\">                window.PLOTLYENV=window.PLOTLYENV || {};                                if (document.getElementById(\"db974d52-ab8a-4a01-8a66-e02ca180cb2d\")) {                    Plotly.newPlot(                        \"db974d52-ab8a-4a01-8a66-e02ca180cb2d\",                        [{\"bingroup\":\"x\",\"hovertemplate\":\"Login Count=%{x}\\u003cbr\\u003ecount=%{y}\\u003cextra\\u003e\\u003c\\u002fextra\\u003e\",\"legendgroup\":\"\",\"marker\":{\"color\":\"#636efa\",\"opacity\":0.85,\"pattern\":{\"shape\":\"\"}},\"name\":\"\",\"nbinsx\":20,\"orientation\":\"v\",\"showlegend\":false,\"x\":{\"dtype\":\"i2\",\"bdata\":\"WgCtAB0AAgAcAAcAFAAHACEAAQADABMACQAbAAoAAgAMAAUAFgAuACgAFgAKAAYACQABAAoAAwASAAoABwAHABkAAQAwAAQAHwAbAAMACAAYAAMABwA2AAQABQABADkACQAHAAIAAQAFABQAHgAVAAsABAADAAgACQABABgADgBAAAEABwAEAAMAFgADAA4ABQAGAA8ABgAQADgACwATACYAIQAFAAEABgAfAAEAPQAkAB8ADwAEAAYAAQASAGAALAA1ABUAAQAlAA0AJwACAC4AAwANACQADAAhAAIAJwAJACkAGwA1ABIAQgAVAAEAAQALABgAEgA1AAQAGAAFAAEAGQA+ADEAAgACAAEARAADAAQAHgAKADIAXgAZACkABAAJAAIALQABABcAIgADACkAEQAXABcAHQAWAC0ADwAcABwACgAjAA8AGAAJADcAOwADAAUAAgAZACQANAAbAAwACQAIAAcABAAjAAUAAwAdAAIALQA4AAYACQAMAAUAPwAVAA0ABAABABIADwAGACAABQABAAIAEwAMAAUANgACAAEAAQADABkAFAALAAMAAwAHAAIADQAbAAQAAQAOABkAAQBbAAUAAgAEAAEABgATAAoAJQAYAA0AAwAJAAUAEwAHAAoAKQAOAAMACQAfAAQAEQAEABgALwADAB4ADAAVAAEAEAAiACYANQAuAAwAGgAvAAIAEAAyAAQAAQAFACoABgAlAB4ACwACAAMAFQAJAAQAAQBEAAgAGwAOACAAKQA6AAgAFAAgABUAAwBaAB4ABQArAAoABwAXAAYABQAIAAcADAATAAMAMgAEAAEAQAARAAgADQAKAAoAEgABACkAAgBnAAsABgALAF4AAwABACEAMwARAAMAAgAHACUAIwAWAAYAHAAFAAEAEQAbAAMAAwAYAAoAJgACAAIAAQATABAADwAQAAQAOwAEABgAAQARAA0AMAAKABQADwAJABoACQAIABgAOgAEAB4AEwA4AAoAQgAbAB0ABgAFABYACgAWAAMAKgACAAYAHwAQAAEAFgADABYALgAiACAAAQAWABMABgAXAAkACQAUAAcACAAGABEAAwAfAAMACgAGAA4AUAAuAA8ALwBSABMABQACAAEAPwBJAB8AEABSAAIACQBDABoAAwABAAYACAA\\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\\u002fAEAABQARAAEAEQAbAAUAHQAKAAoAVgAGAAMAKgAIAAoAAwAMAAwADgAJAA8ADgABAAUAHQAkAC8ABwAlAAEACQAPACUAAQAeABsAAgAoAB4ACgAiAAsAFwAeABIADQARAAwAHwAjABwACgAPABYABwAOAD0AJgAqAAsAIwAPABoAAQAwACYAHwAzABUABAAmAA0AKgAlAAIAKgAFAAQAAgArAAMAAwAUAAIAAwAOACgABQACAAQACwABAAIAHAAXABkADQAYAA0AJgAHAAEAIgAdAAUADQARAAcAJAABAA8ABQBVACEAAQALAAgAEAATAAIABAAeAAcAFwAMAA8ACQAGACcABQADACMAAQApADYAAwAQAC8AEwACAAUACgAoAAIAFAAGAA8ACwAZABMAMwAmABMAPwAIAAEAGQAMACEABwABABcADgAbAAcABQACAAoAFQAUAAMAGwAZAAIAGwADAAEACQABABIAVAAtAAoAIwAXAAEABQAOAAkACwAUABQAEAA5ADQAHQAtAAIACwAHACkAFgAgAAYAAQARAAEABQANAA0ADgADAAIAIQATAAYACwAIAAQAAwALABQAFwAMAB8AEAAVABMABQAdAAQABgACABYAAQAiAAcAKAA5AAYAKwAGAAEAAQAUACMAFQAIADgABgAyACYAAQAGAAQABgAPAAkAMgAGAAEAAQAIAEMACAAiAAMAJQBPAAMAEgArAAMAHQA3AAYAOQABAAsABQAbAAoAAgBLAAMAIAAvAAQABQAuAAEAHwAxAC4ACQANACoABAAWADEAFgAKAAYAEgABABIACwABAAkAKwAOAAEACAApABMACgAWABIABgAQABEAPQAEAAEAHQAEAAIABAACAA4ABwAWADQAAgADABkALQACAAQABAASAAYAEQABABMAMgABABQAJAAJACQAKAAtAAgAKAAFAAcABwAPABcAEwAUAAwAEwAGAAYACwA1ABgAAQAHABcABgAnAAwAEwApABEACwBDAAsABAAmAAsAAwAgAAkAHwAlAA4ABgAGAAMAFgABAAoAAwAFADQAAQAiAAkAFAABABcAEAAjAAsAAQAcACEAJAAlABgAFQAiACQAHAAPAAkAGQAdAAYABwAMAAgAGgAHADwAIwAfAAEAAwABABkAEAAKABcAFwA7AAsABgA6AAoAWAAOAAIAAQAnAA8AJAAhACIANAABABIATQABACEACAAWAAYAIgAsABYAKQAnAIUAFgAcABEAGQACAAkADwABABkAFwAXACIACwABAAEALAAWAC8ABgACAA4ABQABAAIADQArAAQAKgASAAsAGAACACQADAABACQAIAATABAACwABAAQADAACACMADgBTAAoAAgAYAAYAAQANACoADQABABgAFQASAAEAKAAFAAMAJAAYABYAEQA1ABQAIAASADwADwABAAwACwAVACYADQAgABYANQAJADIAHQAWAAcAAQAWAAQAEwASABgAAwAIACoAFwAjAA4ACgAZADUAIQADABgAOAAYABUACQAfACkAJwAxACYAPAANABgAAwAPAAEAAQAbAB0ACwAKADAAHwAwAB0ALwA1ACIADwAPABUAFAASAAgAFgAKAAUAOQA6AA8AKwAUABMAAgADAAMABAACAAQALAAJAAQAHgABAAIAKAALAAIAEAAIAAkAEAAZAB0AAQAxAA0AGwBKAAYAAQAJACcAAQADABEABgANAAIABQABABcADgAIABMABgARAAIAcgASAA0AIwAHAAsADwAlAAwABQAOAAIACgAFAAMADwACAAEAOgAGAAoAJQABAAgAKAAHAAkABAANAAIAAgAZAAcARgAWABcALAABAAUAMwAKAAQAMwAJABsADAAFAAIANgATAB4AAQAhABwAEwACAAoAEwACAAQAAgAFABYABgAwABcAAwAXABIATAATAAgACAADACEABQARABMAEwAHAAUABAAaAAYAAgAeAB4APwACAAEAEgABAD8AFwAGAAQACgACAAkACwADABAAIgAXAAMAMwAdADIAWgAZAAMABQAkAAoAAwAFABAADQAQABgAGwANAA0AAQA8ADEACgAKAAEAHgAWADQABgAYABYAHAAXABUAAwAWADcAGgAhAAEADQAxACwANgA8AD0AAQAFAAEACwAFAB4ABQAKAA8ADQBBABcAJgAHAC8AAQAEAAcAFQAIABQAMwARAAIAHQAKAA4ACAApAAoABAAJAAQAAwAGAAMAAQAaABoAIgAbABAADwATAEMAAwAJABMAAwAOAEIAAQAFAA8AGwAMAAUABwAZAAgAAgABAAYAGAASAAIAEQBHAAIABQALAAYABwADAAMAFQA8ABUAOgADAAEAAwAQABQADwA2AAEAEAAyABoABAADAAcABQAWAAgAIgAFAAIAAQATAAEANgApADYABQADAAwAJAAXABgAHgBAACQAJQA5AAEACAAyAC8AGQAHAAMADgAaAEgAAgA\\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\\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\\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\\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\\u002fAA0ACQAUAQwABgADACkAAQArADgACwAJAAgAeQIOAB0AggJRADQAAwA3AAEAPgAaACUABAAaAAoACgAQAAUAJwBfABcABgAcAHYACgAeAFIBowAXAAYAAwAEACEAAwABAAwAAgAcABwAHwApABMAOQAHABMAAgAEADYAIwAGABAABQABAAsAxgAZABgAHQACAAkA4wALAAUABgALAAsAAgADABoABQAKACUAAwADAEcAIAAgACIAIwADAFoAAQAMADMAAgA6AAQADgABAAkAFQDBAAIAFQA4AHEABAADAAEAGAAGABIAKQAWADAAaAASADQAMgAuADcAAQADACMAOQAIABIACAAmABMAEQABAC0AAgADAAMAAQAKAAMADwAjAAIACwABAAwAJAAPAEQABAADAAkAAwAyAA4AEwARACkAQAA2AEoAGAAWACwAAwAEAAEABgAFADwAGACLADQAJgALAAMABAAKABkAFAAbABgAkQAGAAUACgAJAAEABwApAA8AJQA8AAkACgAbAAUADwAfABMAEAACADAAWQAPAAMAJgAgAA0ADAAKABEAFwAfAAMAGAABAH4AFwACAAEAIQACADQAFwAXAF4AGQAGAAsAHwABAAMAFQAdABcAEwAXABQAAwAsATUAAwAdAAEAGQADAAUAFAAgAAIABAAhAAEAAgABACoABgAHAAUAAwAyAC4ADgA5AAcABwAGAAIADABLADAACQASAAsAGwAYAHUAOAANAEgANAACAAgABQALABkAFQABAAUAAgAKACAAIQAkABUAGwAmAAIAKQADACcAGwABAAkAAgB+AA8AKwAIAAcAAgAKAQUAIAACAAIAAwABAEAAAQAuACUABwAKAAEABwA7AAUAIAAHADkAVQAKADEAAwAvADoABAASAA4ACgApACEAcQAJAAYAAgAOABIAMQAEACkAGAAaABIAPAB\\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\\u002fAAUAGwAbAAIACwAHANUA3wAaABEAUgB1AAQAEAABAAYABQACAAIAEQAaAA4AAQAhABAAAgAeALYAKAAgAAIANAAKABsAIQAfAEkAAgACACUANQANAAEAAgA5ADMAMgAEAAgAGAAbACAADAAaAAQABQAGAAwAFQAhADcAIAADAAMABwBaAC8AGQANACMAGwAJAAcABAAuAAEADgBXABsABQAKAAYAQAABAAEATAAIAAYAAwABAAoABQABAAEADgBLAB0ARQACABUANQALAAYAFAAGAAEAAQAHAAcAEgAUAAEABwAGACkATgBnAAwACQATAAEADQA7ACYACAAWABoAIQADAEcAKwAVAAUAEgAsACkACgAdACAAKAAbAAIAHwAFAB8ACAAVABEABAAiACAADwAZADsAMwAHAAQAFgAvAAUANgBbAAEAFQANAAMABwAKABEAFQBFADYAIwAVACgAFQAlACIAAgA9ABIAAQBcAR0ATwABACMAFAAFAB4AEgA+ABwAPAAGAAgAGAAlALsAAgA\\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\\u002fADIAAQAjABUAEgA2ABYAIQAdAAUABwAxACYAAQAnABEADQAhAB8AAQAUAEYABAAEAAEANgALAAoAAgABABsApAAIADoAHgBTAAgAHwALACMAOQCRAAEAhgEIAAIA5gAdAAMAVgANAgQAGgCkAFoAeAAVADEAAgAnAAQADwATAC0A\\u002fgEtAAMAKAASAAUAAgARAHwALAALABcADgAJADAABgAQAAEABwCOAB8AYwAFAAcACgAaABYAFAARAAkACgBhAJMADQAPADsACAAGABAADQMqACoCCwA3ACYACAA6AAQABwAFAAsAIAD9AAMAAwBCAAEADgA3ABwAEwAqAAwACwCNACAAUQBRAO0ABQAyAA4ALwBTAAIAFgABAAEAJABLAB4ADgBYAAQAAQAzAAQAMgACABgANAAjABYAAgAwABMACwEMAD0AEQAYABEALAAdADUAIgAdAAoAAgAnABwAaAADAAQADAAPAKoAAwAzAA4AKgAcAAgAMgABABgAEwAQAAgAKgA5AAEAsgA5AAQAAQADAAsAUwAUAAEASgBUABgABQAmAAQAPgAqAQUAAwAQAAUAGQAuABUAAgAHAAcA2QACAAYAMAACACgAEwBMAAkAIAAPADIASgBYAAIAOAAQAEEAAgBOAA4A4wAFAAQADwAFACgAxgABADQAXQABAAIAAQBjAAwAqwAHAAMAHgAhAFQAAwAJABkAIwAyAD4AAgABADIACwADAAsABwC6A2UAbgBpALgBGwAoACIABgAIAAUAFAAaAAcAGQAZAA4ABAAcAAIAAgCRAgIACAAMAAEAIAAFAAMAAwALAJgAGQAQACMAOwEdABIAYAARAAEAEwAbAAcARgDTAC8AAgAIAF8AOQAFABEACwASABsAXAACAEYA1QAXAC0ARAAbABgAHAAIACkAagE0AB0ArQDRAAsAAwA\\u002fAGAAFwA+AFUANwAHAAQAHQAUANYAiwAFAB0AewALAQQAAQDNAA0AAQAKAFMAAgDBADAAHABZASkADQB3AAgABQABAAoAMwAHABgADgAGABUAHAABAEEADAAKADkASwAaACQACwAIABYAEwApAAEAKwAEAGMAAgAlAHAABgAYAE0ABQANAAQACABUACMAWwAiAAQACQAgAFoBPAAGACEAAQAZABIAEQBeABMAGgBlADoADQANACUAYgA0AQYAEQACAAEABQAOADQAIQCeAAkAHwAyABcAMAADAAQAYAAEALUADgABAAwAAgAaABIACgABAD8AEAAEABcAQgAUAAIABQADABgABgAWAAEAGAAUADIANgABACwAGgApAAMABgAfAAUAHwAXADoAbgAIAAcBGQAJAAwAAwAFABkACgA1ABUAFwEEAAkADQANADEAkAARAQoAGwABAAEANAAGABAABQAJAB8AXAAEAC0AIwABAAkA9QAyAAQAgQACACcAHwAxAC4AOQBuAA8AWQAQABYAqwAbAAYABAAuABEAAQAIACEAHAANAAEAGgAOACsAQAEOABwAIwAFAE4ASAB3AAEAAgAPAGsAAQA7AAUArgAHABcAAQAMAAYACQAkAAkAHgADAA0AAwAcAKUABQBnAAUAvwBRAFMAAgAFAAEABgAXABcACwBUAFQAAQAFAAMAAgCoAAEADgAEAAQABQAYADMDBgAcAAYABQCCAAEAFwABABIAfQBOAAwAbwAtAAEAAQDlAFIABABWANkBGQABAAEAgAQBAAYApQAGAAcAKAAuAC4ACQBbAQMApgEGABsANAAYADQAAgCTAH0AAgBLAB4AAgAEABQALgCNAAcALwBqAQ8AdQAeAAEAXQAqAJwBRAAqACkADAABAN4ABQAQAQsAAQCIAAYAAQAQAP0ADAAWABMAEwCBABMAHQBdAAEAAgAUAAYAlAACAAQAAwAHAA4ABAAYAD4ADwAQACkAQAASACsAQgARAAgAHwAOAAEAAwBBAAMABgABAAEAAQAGAEcBEQACABwACwAYAAQANACQABsADwAOAIoAAgAGAF4AAgADAAQADAABADQAHAAHACMABQAyAE4BBQADAAgAEwAPAAcAOQALABgAFgATAPkAGQAVAA0AEQDbAgMBRQACAAkAhwABAAIABQBLAFsASgBLAQIABgADABcAQQANAAYAAgAxAAUAdQEDABMARQAHAAUAAgABACIBFwCIABwAfwAEALEAAwFCADMABQALABMAJQAWAAIAeAABADkAAwABAAoAEwALACQACQA0AAsAAQAbAA4AGwAFASwABAAaAB4ABQA7AAgABgADAAYAHAAYAA8ABQABAAUAIgAKABgAQQAWAAIAAQAjABYACQDnAYABBwACAAIAHgAEAFAAEgC+ABQAQgEKANoAAQAXAC8AGQAXAAEAAQAOAAkAIAATACYAlgAHADYAFAAIAAMADgBvAAMACAAFACwAOQAvAAUACQAdAAEACAAKAA8AAwAmABgAAgBuAAEAFwABAAkAhQDZASAAVgAFAIcBiwBUAA0ABAAlASsAAQATACYABgAWAAMACQCrABMAAgAdAAsARgBJACQALAEQANYAAQADAE0AFAAbADwAAwA5ABAAGwAJAAcAAgAMADAALAAEAA0AEwAVAAcAaQEYABMAAgCEAAEACwApAA8AHQBWAAQAPgAZACoACAAWBxEANQC6ABYARAA6AAUAMgDzAAIAXgEpAE0AOQBCAAMAAwAvABoAAgAFABcAGgACAAoAPgBlAQQAwQASABYAAwA\\u002fATkAKgAHAA0AIwD1AYQB0AAPACIAAQCKACoAGwAEABEAGgAKAAYAJAAkABIAFQAgAAMARgIMAAYAUABHARMADQANADcADgANAG8AAQAOAAoAFgCAACEABgABADQABACAARsAAgADAOUAIwAkACcACAATAAUAFwDkAREAMgAsABEAAQBbAQMADgBpACEACQAEAAMAawAoADAATQADAAIAFQAeABQAKgDHAToAGwDEAQMABAABAAIALwALALwCBAANABsAQgAWAAcACgAXARsAAwBzAAIAGAAMAFAAIQAiAAcAJAAEAAoAAQAcALMAFQABAAkA8AARAAQARwADAAUAsgALACMAtgEXABUAXwAPAAoAJQAVAEAAJACbAAoAAQAbAAkAFAACAGIAQQACAEAAKgCEAAUABgADACcA2AAHAAkABADUAAMASAAnADAAUgGsAIMBCAAIABEAOQAVABsAAgAhACkAHgABAC4AHQA7ABEABAA5AgkAJAAYABwABgAGAAIAFQAKAAUAEAAjAAIADAAFACkABgAGAAYAcgAMACICAQADAAYADAAHABoADwAMABAAfgASABEACAABABoAUgEJAAgADgAQAAgADAABABUAAgBwAAEAGAAfAOABXwAgAA8AOgAPAAMAAwCgARQADgBJABIAmgAEAAYABQAcARsADAAjACYACQAYADwBCAAQAAEAGgADAA0AAgACAAgACAABACIAFwAxAAYAHwAMAAYAIgAGABkAJAANAAwAOwBEAAoACwAVAAEAAQBFAIMAPQAbABIAJwAtAD8ARgARAAQAHAABABEABwATAAQAFwABAGIAAQBPAAUACQAeAAEAAwAnAEEAnQAGAKAADwAHAAUADQABAJMCCAAFAAoAZQECAA4ADgAhAEMAAgDCAAUAAgAXAAEADwC5ABQALgADADAAwQDcABAAAQAdAB4AAwBPAAMACQAbAAEAAQAFAAkACQAUAAsAUQAXAAoCHAANAAUACQADABEAOgACAAIAGQBLABABSAAMABkAMgAwAC8ADgAGABcAFwA7AAQARwAKAAMAAQCmAJEAHQALAAMADwAiADwAMAADABwAFwCtABYABwA9AAMAHQCOAKMADAAUALEACAAPAB4ANAAHAAEAIQAbAAUABgAZAA0ADAABAAQAAQACAAkAHAACAB0ABQAmAIwBEwBmAAEAowASAFkAHgBJABsAAgBbAKIBbQAsAAMAeQE5AAMABQAOAO0AJgAoAAgASwACAkkBAgADAOYBYAABABYAMQABAAYAGgACAAEABAATADMAAwABAAEA0AEDAAEAAQATABEADgAWACIABgASAB0ABgB4AAEAVQALAB4AAgAHAAUAqAADAAwASQABAAMAFgBEAAgAAwABAO4AEwGVAagBIQC2APUBAQANAA0AFAAVAC8AGwADAHYAFQAyACoAAgAzAQwABAB1AEoAEgAHAAQAyAADABAAIgAfACYAAgACAAgADAAfAGkBQAABAAUADwABACQBAgBqADMAFgA8AS4AKQBTAHgBAgADACsABQAUAEoAAwAvAAwACAACADEAFQALACwBCgABAAEAMgMNAAEAHQAJAQEAPwARABIAAwABAAEAIwApAAYALAAsAAMAAQALAEMABgBTAB0APwAKAB4ADgAPAAEAIwAeAAsAFgADACEACQADAAEACwAQANQBBgApAKsBJgEJAAUAEQAKAQEAkgABABMAKwAHABkAtgAxABgACAAYACoAcACeAOwAHgADAAEAPQACAAwABAH\\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\\u002fAQQAVALVABYA5AEyAEkAJwAEACYACABuAB0ACQABAA8ACQCGALMABwAEATMABACDAQMALgABAAcAwgEBAAQABAABAA0AHgATAAsAGQEeAAwAKQAxAAcAAQACAAIAHwAXABAAAQBeAScAIQABAAgABgAlAAEABAAJAAoADAAIACUAHQBXABkABgAuABgADQAIAB0AAgASABkAbwAOAAEAEQApACgABgAxAAsAJwAgAAMARgEDAAYAGwACACcAJgAMAAEAFAAnABkABAAMAAoAVAEVADUABgAEABUAAQANAAEAKgADAAYACAArAAEAAgABAAQAAwADAAEAAQABAAEAEQAVADkBFgCWAA0AIQAIAAUABAAEAAcAHACVABYAjQAPABQAZgAaAAMAdgAjABAAAQAQAAQANAADAE4ADgABAC4AGQABACYAAQALABwAFwALACkAHQAkAAEAAQAYAA8AFwAyAAgAEQAtAAgAMAABAAcABAAVABMABgAXAEYAAQAOADkAEAAEAC8ANgAdAAMABAADAAMALwANAAUAEQAoABgAGAASAAQABQAkAAEACQAlAB0ANQAaAAMABQAkACMADwAiAAUAHQAlACAAIwAiAA8AKAAPACwAKQADADQACQAhAAwABgAbAEAAAQARAAUAAwAFADUAFQArAAEAjgA0ABgACQAEACkABQATABcABgAQAB8ALAACAAMAigERAAgAEAB3ACAABQACADcAAgAUAxgAGgAGAAEAAwBHAEkAMQBFABwAEgAIACoAFAAZAAYAEgAEAF8ASwAOAAQAKQADADUAxQACACQAFwAIAAcABgB6ABMABwAEAAoAEgBDABYAEwABACwAJgBdAAIAJwABAAwABAABAAgAAwACABsADgADAAUAJgA5AAMANwAMAA0ASAABAAEABABAACQAFAADAAkACgArAAkABQADAAEAAgAvAAIADwAIAAkAAgABABkAAQArAB8AGwAQAAEAFgAsAC8ABgBKAAQAIwCvABsAQwAnABIACwATAAIAEQACAAkACAAEAAYAIgAfAAQABwBUAAcAAQADACQAFQAHAAEABAACABAACwAfACkAHQBEABIAAgANAAsAOwAzAEcAJwA4ABMABQACABoACgAKAAMABQB3ADUAKgAtAC0AJwADABYAJgABAAkAAgAGACsAHgAaAAoABwBeADkAFQASAL4ABABeAAEAdQAgAAUADAAGAFAAAQAeAA0ALAABABcAFQAFAAUAJgAnAAUAAwCUAAgAHgCQACgAMAAiAA4AFgAtAAwABAAHAAgACAArAAkADgAOACYAXAIDACsARgATAEYAAQAIAAQAFQDJAiQAFgCpAAUAAQAdAN8ADgAlAB0ACAACACkAFwADAEsADQABABYAHwAKAAkAEAACAAEABAAHAKEAIwAzABEARQAwABUANQBEAEMACQAuAAEA4QACAC4AFQAqACMAAwBWAGEAJgAHAE0ACQAbAOYAAQAdAAsALwAEAAQAMwAOAAwABgACAJMBBQAEAAsANgANAA0AEQAIABIAAQAJAAsAAgADADAAFABAAw0AEQAGAAEABQAtAAIACAAoAAcABAApAHoAPQAOAIMAGwCPAAEAKwAHAAQACwARAE8AEwAMABAADwACAPQBDgABADYAEQAVAKgAEQCbAAMABAAjAA8ABgACABwAegABAAYAAgAgAFQBngAKAAYABgAYABYABAAZAAcACQALAEMAIwARAAEAAwAGABQAmgEYABcACACcACUAIgABAAEAJAACAAEAAQBSAEcAYwA+ADEAAgAJAAYAMgAKADgADgA7AEoAmQAKAAIAFACqAEgAKgAGACAABAABAAYANQATAD8AEwA5AG8BCwAGACAAAQAlAAgABgAHAAMAFQAEAAIALQAGAAEABgBLAEYAAQAYAIQBHQDlAMgAIAAdABsADAAPAPgABQAsAPsCCgADAAoAOgBGABQACAA9AhoATgDUAAEAGQEMAAIAFgA6AA8ABgDVASAAEwACAEUAAwAkAAsAGwADABQAAwAHABEAPAACAC0AuQDWAAkABwEDADcADQBuABkAtwA1AAoAIQAnAHsAIAAYAAcADwBmAyYAAgABABoAFwACAA4AAQAFAGkEIgAIAAgABwALAAwAAgBeAAcAHgAFAAwARgAGAA4AMAAUACgAYABlAA4AKQATAAIAAgAQAAEAFwD8AQ0ASAMDADUBBAAQAEkAEQAEAI4CAwAmAAIADwAZADAAAgAaAAEADgAeAAEANgBKAEIAIgA5AIMAMwEhAAYAxgACABQAQQABACsAGAAjAa8ACAA5ACsAWAEBABkA0wEEAA4AAwABAA8ALgAFAI8BBwAMAAwADQAbAAQAGgDjAAUABQADABgAAgAIAAgACAAUABsAHgASAA4AswAKAMQBEACNAQEAIAASAAcArgBaAFQAFQACAGAA+QEBALYAGABBABMAFgACAAgAIQACAAwAMQAJAA0AAgArAAEAFQELABAADAABAA0APAEMAE4AZgAGABUABQABAAQABwANADUAAwAEABEAEwACAAEAHQAHAAYAHQAEAIUAGgAZAA4AEABmAAEAFAAEAB0ABgAGACEACQAJAAYALgATADIAJgBjAQgABAABAC8AAwANABQAFgAQACAA2AYkADgAEgAGAA4ACAAGAB4ABgAYABkAJgA6AAEAFwAZAH0AUABLADYAAgAdAEAAMwAIADcAJQABACoAVAEIAAUABwBTAGoAAwAxAJUBBwCTAQMAMgBYACEAGAAYAAsAAgAjABgALwABAA0ASAAGAOUAaQIHACgAAQAPAAEAHABuAHkAGAAIACYAGQAFACwAGAAJAJ4AHwAIAAgApQABAB4AXgAKABIAAgAhABMAKQAGACcACAAEAA0ABgAFAAUAwwANAGgABwAaAAsATAAXABsAFwBLACEAGgAjAA0AOQBOAAIAQAAsACsAAgABAA8AKAAEAAgAEwAYAAEAGAAIAN4ALQAWAAEAFgACAJUBBQAHABUABAAwAC0AQgBKAAMAHgCpAP8AIADeAgQAAQAZAIEAOABAABsAAQAOAMQAAgAJAAEAEABLABYADwARABkAFQAHAB4ADwBpAH4ABAABAA0BigAGABkAAwA2ABQAMQAXABEAIQADAAQAGQA5AAoA3AABAAgAtAcEADUAJQAFAAUABAAFAG4A0gAQAAsAKQCgAAMABAAgAAgABAARAAUACQBNAIkABgAdAB8ABAAFAD8ACwAmADwAngCFAUUACQAgAGMAMwAFAAIAkQAMAAIAWAAhAAsABQAFAA8AHAAMAD4AGAAbABYABgABABsARgABACIAJQAFAA4AKwAIAIgBAwANAAMAhAAQAFUAAQD5AAIANgAGAAgAFgAEAAwAFgAZABQAFwBHAAoAAAE+AgcAGQAhAAMAFAAwABUAIgAjAQMAGAAPAA0AEQEBAAQAEQAIAA8ASwATAAEALwABAA4AKgA1AHUBNQAkAA0ABAAPAAoAZwAcAAcAEQA2ABsAAQBHAAkAAQABABoAIQAXAAEABQANAA8AAwANACcAFQBgAEgAAQAwAAgAAwAaAw8ABQBBAA0AJwBGAGIAGgAUAAIABgAXAAEAtAAWAAcABgIkABMACQATAEYAAQAIADsAAgDJAF4ARAASAAUAIAADABYABAA4AA0AFwA5AAgAAQAMAAkAAQAHAFkAxwANAAQAAwAjATMAFwBdACkAOgD0ACcACgAfACwABAE+AAQAAQCYAAUABgACAAMATgApACQABgBpAUAACAAfAAYABQAGADIABQAJAAYA9QAMAD4AAgACAAkABQBPAAQAbQAGAHkAaAAZAAcAAQAFAAIAAgAlAAYAAQAJAB8AtQAWADUAtgAOAAUAKACRAAoAAgAZABoAGwCJAA0AKgA2AEoAPgAlABMACAAOABMAJgAIABMALwEDAA8AGwIXADUBGQBeAA0AAQAtACkAAwA7AJkAMwAIAFcAEAAIAFMAAQAaAAIA6AAIADgAJABLACAAUwAZAAsAVAABAAIAEAARAAIAEAAfAAsAGAAMAAYAAQAGABgAEAAiAAcADgBtAAEAVgABAAIAEAAbAAoALgAHAAEAAwABAAEAXgIEAE8AFAAjACgAQQCXAAEABQATAAsABgACAAwAtgAkADgCAgAhAAIALAEUAEcACgBDADIAMQC8AAEAEgASABQAQgBSAQ8ACQALADkAIQAIABkABQAYAFsACgA\\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\\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\\u002fAA0ACgAJAF0AZQAVAB8ACgAEAAYAAwALABoAAQABACgADAAMAEIAMAArAIcAAQAvABAATQArAAEADQBBAG4AAgASABgADgBnAFcAGgABAC0ACQAjAAcADgANABYAAQACABgAKAANACcAAQAMAC0AGAAbAK0AGQBxAAoAAgAZACoAGQAxAAMACAAhAAEAAQADACsALAAuAB0AEQBeAAYARQAFAAMABwAlAA4AEQAbAAIAJQABAAQABAAWAA8AZwASACwAAwAlABwAFwBBAAQAYAAVABEASgAtAAQADwAKACEAMQAQAA4AAgAPAB8AGABjAEwADwAFACgAdQAWAAkAKAAMAA8AHwDHAAEAGQAdAGYAFAARANcABAAQAAYAJAA5AAcAMgAOAAQABQAeAA0AEgAQAAoAPAD7AQoAEgARACMABgALAAgABQAPAAkAIABNABoA0QEIABEADQAHAAgAFAAbAEoACgAhAAIAyQAZACIAIwAfAIgABQAiAAIACAAnAAgAAwA3ACsAJgABAAEABQAqABIAIQALACIAFAAEACwABQAnAAQAOwALACcAPAAlABADUwAbAAEAFQBQACwADgAIAAQAIwACACsAegEBAAcAAgArAC4AGwADABwABQAOADoAHwALAAUABgAnAA0AaAADAAYAQAAFAAQAIAACACcADAAKAE8AIQAXAPgBHgDdABIADwAZABIABAAtAAwACwAEAAoAFQAbADAAKgApAAUATAASABoAFwAXADQACgAWAEMADgA6AAQACwAiAAsAFQATAD8AaQALAB4ADgAIABwAEwAeAC4ALgDWAAcACQABAKoABwDBATUAAQAzAEAARAACAAEAKABjABUASgADACAACQAEAAMAEQACABEAAwAGABkABgAhACkABAALAAcADQA6AAkAwgACADEASgAYAAEAAQABAMABKwAiAAEA2QBDAKwBDgADADQAlwACAAoAAwAWACIABQAFABgAQQAcAAMABQB3ADwABQAPAAYAGwAlABcAAwADAEsANgAjABwAKQAEACwA0wAUAAEAFgEDAAMACgAUAFYCBQAjAAYABAAHAJIAAQAVAAUAagAFAKwACwAOANQBLgAFADkADwBtAHgBBAC3AAwAhAEPADYAFwAKAAMAAwAFABAADAA7ABkAXAAYAAQAEAAnAAEACQAEAFkANAAGAAIAGABCAAUAOQAMABQAAQBNAbsAFAAEAAUATABtAAUAJAAtAFEABgBqAAIACwACAAgAGgADABkAGQAZAAQADQAEAEMBHgAgAE8ACQAoABIAHwB0ABYAEAAyAAoAEgBAAUYAEwAJAB8AGQABAGQA1gABAAoACwBrAAIAXwAFAEcAMAAbAAgADQAKAAEAKQAbADEAAQADABAAHgALABcAKABzAF8AFQC9AAMAEQAlAAEAGAAtAAoANQEfABkAJAABAA8ABQBjAAQADgAUAAwACQIoABAAEgA3AQUAIAA4AAEABACnAAMAAwAMADgACgAhABgAWAAqABsADwA7AAsAMgA\\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\\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\\u002fACAABgAKACkAAQAyAAYAAgALABUABwAUAAQABQAJAA0AKgADAAwAsAAKADoAGwABAAsACwAeAAUAAwAsAA0ALgADABAADgA\\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\\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\\u002fACcAAwAWAAsACAABABwACQBZAAwABQDFARMADQEBAEQAGAADAAIABAAvAKgAAgCBAAoAAwC1AA0AAQACAAIACgAPAAIAAgAmAKMABgA1AAUABwA4ABAAoQCiAIYABAB1ABwABgDGABEALgAaABYAGAESAAIAJwACAGgBGQADABoACAALAAEABAAEAAQADAARACoADQAkABUAFwACABEAMACpAAEAIwAbABAAJQAJAAwACwABABMAAQAYABwARAAcAAwABQBZAB0AFgABAAMAQgB6AFcBBAAgAN0AEQAWAAkAAQAIAGMAJwATAEcABQAfAAkAGQB4ABAAAQAdACwALwAMAEwAGQABAPoAKwBCAAQAOAAzAB8AdAAdAAEAZgAWAOAARAAIABoAAwAJAKUAJgAbAEAAAQAOAAkAhAAlAAIAbgAdAAMABgAPAMEAugAFAO0AHABIAAgABAAIALwAKwALAD4AeAAGAEsAAQBuAAEANwAZAAgAFQAHAAEAKAAKAAQAAQADABkAAQACAAEAbQEfABwAWwABAAUAUAAEAIAAZAA4AGcANQAQAAgADgBtAAIAdgABABkAHQBZABUARgALAB8AWwBDAAYACwAGABgABQACAAkAFgAYABAAEAAHAAIABwAGAFEABAAyACgAEAAVAAUAAwACACYAAQAGAAEABwAFAEAAAgAlAA0AGQA4ABYACwAVABsASAABAA0AGgAIABQAkgAYACYAAwABAPIAKgAvACsAEwANAAEAUQATAAEAAwALAAoADAABAPkACgAVAAUABAB\\u002fAYkBGAAPABQAAQAFAAEAAgA2ACEAQwACABcAAQAUAB0ACgAKAAQADgAsABEAAwAhAAEANAB7AQUAAQABABsAQgATAAIAIQEBAAIAAgAMAB4ADAAcAAIAlgAFACQADwAFAAEALwAPAAMABgACAAEABQAKAC4ABQD2AhkArgERACkABwAnABMAOQADAAMAEgACAAMAAQAwAQUAHQABABQAkgAgAAEAEQAsACAACAABAAYAAgAkABMALgAGABkAAwAhAH8ABAAjAAIACwACAAcAAgAEAAYAGAABADgAAgALADIAOABfABkAPwCxAAMAJQAZAA0ABwACAB0ACAAKABEAEAA9ACIA1AAPAA4BHQEXABQAKgABABAABQAMAB4ARgAcAD0AEgCZAAoAfwAoABwABwABAAgAGgAJAHYABAACAAUACAABAAEAMQAwANIBBQASABsAAgAGACMACwABAB0ADQCoAAgAFQALAJEDIAAwABEABwAsACAERAAPABIALgAGAAEACAADAAYAFwBCAA0AQwAVAAYANAAcADAAAwAFAAUAHgAOANgAAwBUAAIAAQC4AQYADADdAC8AHAAEAAsAIgA6AAQABgAYAAYAKQAUABkAEAD0ACIADwAWAAkAHwA0AAEABAAFABgDFAABAMMAHQABAC8AQAA4ACoALgA1AAgAQQAJAAEALAAmAAoACAAFABgAAgAdAOgBBAASAA4ADAATACIAAwA2AAIACQACAAYAAwBGAB4AGwAwAAIAOQACAAoABwCjADMAwwAkAA0AIQAZABEADQAYAAUAAgAWACcAGwADABEAAQAOAAsAFwANAC8ADgACAA0ARgAPAAUArwATAAsAAgANAAUABABVAQ4ABgBjACoAPAAPABsAGwAJAAIADwAVACQBEwAZACEABAAPAAcAFAAOAAIAGQA2AFYACAAXAAoABAAcAGQADQABACsACgAFAA0AAgAcAA8AaAAFAAEALgACAAMABQCxABEACQAIAAYAFQAdABgAGwALAEECEQACAIcAIAAEACQAFQIUAFEAAgCMAA8ACwBqAA0ADgAMAA4AAgASAAoAEQAJAA8AcAEBAB8AEwD0AAYApAAnAAkAAQACABwAJAEPAAMACgAJACAAOgAGABkAJABfABoAFABoATQAAQAXADMABAAPAAIAIQACAAEAHAACAAMABgARABwAogEeADEAOgALAAgAgQCbAIwBBgAJAAYAFwBDACMAQQE5AFAECgAQAEsABgAkABkACgABACQAFgADABgABwAtAC8AAgAIAAIAAwDxAKUABQDwABAAEQAEAAcAEQAEACUAAwAKABgADwDUAAUALQAFAAEAAgBRAIYAEwA8AAUACQAEAAIApwCOARAABgACAAQACAALAA0AAgAVACoAAwALABIAJgAsAAcAAgACAB4ACAABAAIAIACjAhMAAgAGANMAWgAMAAQABgAJAGQACgAMAGQAAQACABcAGQABABcAAgAQAE0ARQAZAA4ABwAaABAABAAHAI4AFACOAEAAOwAgAAYAFQAKABgAKQACACcA5QAIAA0AAQAqACsADAAGABcAlAEJAAQAEAAwAAcAFwAKAM0AAQAJAAMAEAAoAA4ANwAkAAMAagAHAAIAFAABAAEAJAANAEcBDwAYAMkAFQBtAAYAKwAFAAYADQAHAAMAAQAVAAEAKQAPAKAABAAUAD4AAQASAAUAAwABAEQAAQAVAGAACwAEAEsAbQACAAEADwALAC8AAwAEAE0BCwAfAEsABQByASMAFAAYAAkAHQAZAAYADAA9AAgAHAADACEAEgAkAMEBbQABABoAHQB8AFkAEAAqABcAHQAMABsAAwAGAAEACAAYAAMACQABAAMADQAIABIABQAUACEAGwAsAFoAHABWAJIBBAAJADMA\\u002fQAeAIoAZwAGAB4AAQABAAIAIAACAMMBCQADADUABQAjAAYABgAZABQAHAANACYAAgBOAFwABgATAD8ADAACAB0AAQAJACIAAwAXAA0ASgAjAAIAAQAZAAwACgA1AB0AFQADAA8AAQAQABkAAwAtAF0ASAASABgAFQAUAAMAEAAFAB4AYwMpAAIACQAWAAYA\\u002fgAHAAsAGAAKAAcAAwAKAAIABABcAAIArAEvACAAGAAtAAcAIwAxABsAMwANABEAeAAMAAQAEwBAAAMAAQALAAsACQCwAAYADAAcAPEBAgAZAHYARQECAAcAAQAyAAEAEgATABkAHwAPABUAuAAMAAIAIwAIAAwACAAGAAoABwA7ABIAAQACAAUAIAADAGYANgAUAAEAAwDiAAMAIgAwANkAIgAGAFwAAQAfACgAGgACABoATAAHAPcAWQInAAoAFgCbAD0ADwCGABcAGAAGAE0AEgCIAAwAAQAkAAYAPwEvAC0AhgABAAwAFQAsAAEACwA\\u002fAAkAEQByAAoAkgATAIIABAADAAMARQAHAAIAGwAaACQANQA1ABQAigACACcAlAAfACUA\\u002fwUTAC8ACwAUAAgACAAaAAIAWgBLAIgAFgAfAAEAAQAZAFcADAADAAsABAASAAMAHAAJAAIAHQAUAAIAGQANABsAAwANAAkA7wAMAA4ABQAUAAUAGwAfAB8AHgALABcAgwALAAkAOQClAQEAbQAWACYAIQAMAAQAPABNADgAvwA\\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\\u002fAgcABAAVAAQADgAsADYAQgBaACsACAADABAACADJAAIAiwAQAA0AGwDFAAsADAAEAAMAEgAnAPIAAwAzAHoAewEBADUACgAXABAAAQAgABQAAwAqAFsAAQAIAB4AFAAEAAIAAwACAEsADQAGAAIAAwB4BAcAFAALAA0AJQAJAKgAFAAiAAEAEAABADAABAAEABEAGAAKANMBHgAJAAwAJAAJADQBCAAyAGoAIAC2AAsADwDMAE0AHwAeAB4ABgAcABwAGwAoAEMAJAEHAAoAYQIHANAAGwADAAoAAgAbAAEABgBDAAgACwAMAAkAOABeABEAAwACAA0AZwABAIwCNAAQAFUACgAdAAwAFAABACsAMAACAAEAJQASAAwAHwABACoACwA8ASYADgAgAMwAMwABAAkASwAaAHsAAQATAOoBNQApABUABwAWAB8AoAAfAAYAEACGAFcAFwACAEQABAA3AAMAEAAOABsAFwAYACkAHABVABQAAgAGABMAmAAyARQAAwCoAAIAFwAeALUACgAcAAsAEQA0AAUABwEGADkAIQAtABEABAAHAAQABQAHAAIANQASABcDBgEDAAkAAQAwAAEAMgAVAA4AEQDmAwoAKwAyATUAAQAGABEABwBCAEEARQACAAEABwABAPoACgBEAAQBTAAWAG0ACwAQADQAAgAKAJMErAArABoBGAAEAAkACgAcACwAFQACABQACwAQADUAAwA8AAEAAQA\\u002fAB0ALwAEAIUAPAAGABIABAAhAGIABQABACsACgAIAA4AAwAGAAYAJQAIAAsAEQAGACEAAQAMAJYAAwADAAgAnQAvAC8ABAAUAJsACAAJABgAAQBAAAIAFwAFACsAAgAhACMANwAMAAYACwAJAAsAGQADACYAAQADAGwABQAUAAUABAADAAEACgBQABkADgABABEABQAzAAoAAQAGAAYAAQCwAAEACQAFABAAKAADAAIACQATADQABQABAAUABAAEAAsACQBBAU8ACQBEACIAFQBVAQ8AAQACAAQAawAvACsADAACAAUAFQAYAAYAHwAFACoAYQAEAFAAFgAnAD0AAQAPAIcAJQAFAAcAAQAbADQA0wB\\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\\u002fgAZAB4ADAABAAkABAA4ABsAGgAIABsARgANACoABwACAAEAAQA0AAEAAgAHABUARAAEAAUADgBFAB4AEQAVACcAHgAKAA8AvwAKAA8AAgAiACgACQAeAAYAFgADABUABAADAB0AMAAGABsABQAUABwAAQABABEAFQAKABUABgAgABwACgACAIIAAQAVAA8AIAABACEABwAMACcAQAABAA4AKQAfAKQAOQAUAA0ADQAdAAIAJgAPABgAAQAJAAgADwACAAsAMADNAAEALwA5ABMATgARAB8ALQACAAIAIwA7ACYAHAASAAQAFAABAEkAMwAjAAIABABKAAEADgAiAC4AEAAQACIAAQAMABMAAwAbAAUAEgABAIoAEwAJAAIAAQA4ABYAHAAHABwALAADAAoAdwAQAA4ADwABAAIACwAHAAUAAgAXAAIAFQAWAAoAIAASADYAGAAkAAEADwAzAA8APAACABIABAAWAD0AGwAYAAIAAgAGABsAAgABAAEABQAUACIADwAnACQALQAMAA4AAwBlADQATAAbAAgAEwAPAB8AFQAEAAEAFgAQABQAHAALABkANwAUAA4AAQALAAcAGgABAAIAHAAHABcATAAYAA0AEgAXAAcAhQANABgAAQA8ABAAaQAsAB0ABgAQABkAGgAFACsARAAYABgAJQAbACwABQABABMACQAVAA8ANQASAAEAFAAiAAYADAAmAAwADAAIABMAAwAKACMAJwAmABkAIABVAAwAGwAYABgADQAGAB8AMACyAQkALQADAJ4AAQAhAAMAGwAJACMABQAvAEwAWAALABQADwA\\u002fAA8AGgAzAAwAGQBCAAEAAQAIAAQAEgAHACgABwCJAe8AGQACAAYAKAAHAAYABAAIAAEAAQABAAYA4gAcAAEABgAJAA8AfwAPAAkAOAACAAoAJwA\\u002fAAsACQADACgATwAgABsACAAhAB0AAQATABIALAABAAMANwAFAAwAAQACAAMADQEFAAQADQAMAAEAtgACACMAEAACAB8AEwAjAAIAIQAfABgADAAWAAMAywEbAB0AFgAjAAwAEwAYAB8AKwDQAAUACABkAAsAAQABAAsACQAJACcAKgBSAE8AIQBRACsAGQASACkALwANAA0AFwAcAAcAFAAHAAEABQAbAAUAAQAiABAAIgBBACcACAABABwACAAlACAAHQAnADYACQAEAE0AKgApAAQAHQANAAQAYAAGAEoBEAAEAEcABAACAAsABQAHAGcAMwAJACoAJgADABgAAQAEABoAFwAGAAQAAQB\\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\\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\\u002fAPMBTwAGAAMAAwALAEMADwAQAAMADwAFABYADwAcACIAHAATABcA7AE9AAEADwAiAAEABwAeAKYAKAAFACkAGQCKAA4AQABSABIAAQACAA8AEAALAAMAHgANAFwATAABAAwABgAMAAwABgDtAB8ACQAUAAcADgAFAAcAHwDlAAMAAgAOABUAPQACAGoACQAiAAQAhgABAAYAMQAFACIAyAARAAQAagAeACgAAgAgACgAKAACAIwADgAPACYBBQBfAAIAFAABAB0ArgAOACEAMgCyAAIAQgAOAAIACQAOAAoAEgAKAAcACgAFADwAIAAtABwAAwA6ABYAAQBAAAIAOgAOAAgADgABAAQACQA2ANgCAgAKABYAEwAKAB8AFQAHACQAGwAOAI8BCwAWAAMABgAiAAwAHAALAAYAFAAEACQAewAKABkATAADABYAswArAAgARQAqABEABACmAQ0AAQAHAAMALwAFACoADwANAAkABQDeABMAEQAOAAMAIQACABUAAQA1ACIABQADAAQAGgABAB0ACQCLAAEATAAKADIABgAIAAEACQAlAHIAAwB8ATsABgAYABsAUgAFACUAEQBUAC8AHACQADYA5QAOAAEADgAZAAEAAQAWAAEABQABADoAogAJAHcACQB\\u002fAC0A1ABWAHUANAACAOcAEgAfAJoAGQAEAEoASQAtAGgABgABAG0AAgADABsARgAfASQAFQAKAHwACQAEAAIAaAATAAQAFwAIAAUAigAXAAUAEwBFAAgAYQBsAFsALAAwAKgAMAAFADIAXAADAAsARwADADoABgASAAUAAgANAAUAUgAlAB4AAQARAAsAAwA0AB0AQAAlAAEAlAEJAEsAAwAiAC0AFAAwAQkAAgA8AAUAHQAnABQAIAAQACgAFwALAB4AGwAJAAEAAQApADAACAAkAAwAJAAkAAIACwA5AD4AIgABABcACAAHAAUAFQAYAB0ADAADAA0AFwARAAUAkwALAAIAAgAOAAEAAwCTAAMADQBUAAEABgABAAEAHAASAH0ABAAdACYBSAADANAAAQAOAAwAGwADAA4ABwAFAEIAFwAGAGAADwAhABAAGwAfAAEABAAPAAIADwANAAgAVgAgANYAAQAMAAYAFQACABcAEAAKABwACwA5AMUAAwDgAG8ATwAOAEgACwArAAEABQAHAAIACwBUAAUAAgAMABMACwASAAgACgAJAAMAIgAdAAEABgACABwAEAAJAAcAGQABAEAABgADABkAFgBFABMACwADAAsAFwAHANwAJwAGAJUACQAjACQANwAGAAMALgAJADAAKQAdAAQAXgAqAH4BFgAYACAAPAAQACcABQAZAAoAEgAKAAcAGABgAQsAEgAaAA0ACwAQABEAJAAGAC8ABgAHAB0AJQABAD0A\\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\\u002fAB0ABQABAAIAJAABAAsABAANABAACAA4ADgAAQBfAAEAFQAHAAMABACNAAIAAwAqAB8ACAABAA8ACQAOACoAIwApABwAMwCdAQQACwBUAD4AGwAzAAQAEgAPAC0ABwABAA8AHQAJABoAGgAUABsAJQCNAA8ABQABACAADQAFAAYAeQACAA8ARwAFAHYAYwARAAEABAAUAEEAFwABAAEAAgAxAAkAEwAFAAIACAAFAAcADAANABQADQAQAAQABgADAB4AWAAHAB0AFgAEAAcAGAACAAYAAQATAC0AFwAXABMAAwAvAAEACQBDAAEAFQBMAAEADQCiAAMABQACAAwADwACABgAAgACAKMADgAuAAgABAAlAA8AIwAOAAEAFwBJAAMACQAFAEcAIAACAA4AYwABACcADAAZAB8AAgAbADMADAAEAAsAAQADABMAAQADAAgAAQATAEAAJwACAAYAAQACACYABgCAAAEATAA2AKgAPQACAAEAAQAZAAQAXgAGACcAGwAOACYABAAEAA0ABAAFAAoAqgFGAEkAAgAFAEwAAwAEAAMABAA1AAkAAQAlADQAGwAIAAIADgABAGsBAgAuAAEAAwADABEACwAGAHYABwBjACAABwAMAKgAGAATAAcACAAfAAsAHAAGAAUAAQAXACEADQESAAMAOAABAAMAFAABABkACgAKACoAHgAOAAYACwASACgABABZAAgAXQALAAIAjAABAEoAAgAkABwAGgDqAAYAAwAGADgACQAYAAMAAwBEABcASQADAKEAAQAHAB0ADwAEAAYABgATAAwAKQAaAAQABAAmACQAdgBXABIACQABAAYAAQARAAYAAwAHAAkACgA5AAUACABuASoABACKAAwAAgAuABYAAQAVAAIADAAGAAQAAQADAAoAAQABAIIAOQANACUABQADAB8ALQAKAAEAFgAEAAUABgAQAA0AEgAsAhEA2QAtAbgBIAAKAAIAJAANAAYAAwADAIgAAgAcACIAHwABACQACwAIAN0AAwAQAAEAOwAGAB0AIQABACMAswA4ABUAfwAhAA8AjwAgAAIABgA0AEUALQAJAAoABwAkAAIAAQAaAAIAAgACAAsADwAJAAcAJgATABsABAAWAGAADwBWAAkAVQCuAAcAdwAWAAIAAQAOABgADgBBAAIABwAWAAIATQAQAAYAXwACABIAEgADAEYABAAiAFcACwABAAYAkAAGAAMAiAABAAkAAQACAA4ATgAHAM0AIgDyAAoACgAmAAwADQBiAAIAJwAIACQAAQAHACwAIwAHANIAGAAEAAUABQAoACIACAAFAAcAGQARADwADwAEABcANQAHAC0ABwAKAA4AAQACACcAHwACACwAPQAkABQANAAJAAEADwB4ACoABwApAJACAgAFAEcAAwBDACsAAQAnADEAAgAKAAEAAQAiAAIAGwAHAAMACQAGABMAAwAJAEUABwASACMAFQACACoAGAByAB8ADgAOAAMABAAFAAIAEAADAD4ARgAXABIAHAEpAGEADQAHAK0AAgBGAA0AaQAGAAUABAADAAIAPABoABoAFAAHAAkAFwAVABMANQABAG4DTAAOAgYABQAFAFUBLgACACIABwAJABIABgAJAAYAEQACAE4AFACWASkBGwAMABgADQAVAD8AGwADAJYCAQABADAAQAABADAAAwAEACwAOAADACAAJwAbACUAEQAzAAEAAQA\\u002fAI4ACQBrAFsBAgADACEAZgIiAB0AogAOACYBEAAFAAEAOAECAAEAAgASAEsAAQAJAAMARwAZAA0AqACHABsARwAfACwAJwATAAwAPgAdAAwAEgAMACEABAAIABAABgAbAAMAPgAOAJoAMwB1AAUAEQABAAEAAQAtAAEAsAAjAH0AAgALAEkACQCvAAgADQAFACgABAAJAAIACwCWAAEAAgACABYAAQAWAOIACABFACgAAgADAA8AiAAFAAYAFgAcABIABQBNACkCDwAGAIAAJwABALIACwAvADMAYgABAAwASAAYAQYAAwAnADcAAQCVAAgAIQAcAAYAEAAdABEAMgAIAAIAhQApAAEAGQAZAHoAYgADAAYAAQAlAAUAFgAPACgAOAAEAAUADwATAA0ABAACAAEAAQAMAF4ADwANAAEAEQAAAVMABwApAAkAEgAoAQQAfAAbAC0ADQCqAAcAFgAdAAIAEAABAAIABQABACEACQAfAAQAAQAYAAMAAwAFADAAAQAEAC0AAgAZAAEAegAPAGwAEAAtAGMBCgByABUAGQAoAFwAIAAUABYAAQACADQAAQAGAAMApwEGAAgABAAlAAgABgAeADQAAQCoABEAKQAPAAcAKgB3AC4AAwAQABsABQAEAAEAAwABAAEAXwADABoA0gASAB4AHAACAAQAAQArAQMAAQADAAEAAQBYASQAKgAHAC4ABgAYABYATQAEAAEALQAPABIADwAeACMABQAGADwBBQAGAA4ACwFGABoAIgBXAAUABgAoAB8AIwAPAAIABgAHACEAugC7ALwAAgA\\u002fAAgAagAqAF8ACgArAAkAcgATAAgANAADAAYACwAfACUAogAXAAEAAQBIAAcACABoAAEAUAAHADoAAgAZABYAHQAtADMABwABAA8ABQAMAB0ACAACAPUAEAAHAAIADwA5AAYAAAEyAAMAEwAGABIAXwAMAAYAAgAKAC4ACAACAAIAHAAZADkAdAAPAA4AIwADABgAAQAFABIAGwAhABsDAgCTAAwAIgAZAAEAaQAlAAIABwAcAAkAJAAtAOYAAgAxAB4AHgDoASQAAwArAAoAfQAMABgAQgBPAQsALwBAAAwAIQAEAAsADgASAEQACwAcAKsBEwASAGQAIACnAAEAKAAgACEBYgAQAAsAUwAXABMADwAxAFcADAAIADoAyAACAAEADgAGABcAAwAIACQAIwEwAAMAKgAGABYAAQAzAHIADAAJAAMADgBVAEIATQCsACgADAA6AAIAMwAqADgABAB\\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\\u002fwAgAAUACQAFACcACAARAAIAAwAQACMAAQASAHUAJQAKADoABgAIAF4ANgAPAA0AEgAfAAoAEwFYAAEAbwAZABMAAgADACEADgCWACoAMQAmAAIAIAA3AAsACQAgAC0AJgAGAAQAfQALAAcABgBBALsABgB6AAEABAACABoATAAEAAwACQABAAEAAgA9AR4ANQAcAAEAEQECAA8AfAAMAAYACADFASwAIgADANQBCAAzABIAIwAMAAEACwAEAAoAIwBPAA0ADAAEAMUAGwAbABcAnAAiABoABADBAAUAMwCIABMAIAACADgAAwAFABEAMgATAAEAQwAUADIAbQAbAAYAIQABACcACgAiABoACwBUABoACQCRAG8ABwAYAAEAEAADAAIANgEfABoALwDLAAIACwAhAA8ADAAFABcAIQB9AD8ADAASACEACwATAAUAFgAjAAUAJwAFAAQAHwAiAFkACwAnAB0AtQACAAUABQAVADAAHAAZABUADwBEAQEAAwBJAJgABwAOAAEAAwARAAEA\\u002fgIdAHcAGwAOAAQATwCfADgAAQAiABIAcAAEAAYADwAQABMAAwABAAEAHAA8AIAACgAMAAkADwAJAAQAAgAGAAEAIgANANoAGgACAA0AGgATAAIALgATABUAAgBGAAgArgAGAA0ADwAkABgABAE2AAsADAAKABQABwCcAAUAAQAKARkABQAOAAIAEAAEAAwABgAfAAQAAQARAGgAFwALAA8AEwAIABUABAALAA0ACwABACwAFwArABYABQAKAAoABAABACkAEwAbAL0ApwACAAwABAAxAC0AAwAtAKcAAwAWABsAAQAUAA4ACgBMACAAAQAGAAUAAwAGAAgAAQAnAAIAAQAFAAIADQAnAEMAIAADAAQAAwASAA8AAwAOABUAAwALAAUACAA7AA4ALAACABEAQAAdAAEAGgA+ACEABAAVAB8BAgApAAQABgB1AAQAOQESAE0ABQAzAC8AFgACAC8ABwAdAAUABgAyAAYAIQAMADQAKgAkAAIAFwAEACQABQAvAAUADwAGAAIADwALAA8AhAAZABQAHwACACAAAwAdAAEAAwAnAAoACgAQAAEAAQAMABUAEgAKABsAdAACABkAMwABAB4AEgAdABYAEQAqAUEAAgCIAAkACwDVABAAAwBtAQkASQIxAAkAMwAfAAMAHgBXAAwACwADAAQACwBNAIgABwAFADgASgBzAAgABAAwAA0AFQADAAEAAQAEAAYADgA9ABkADAAFAAYAAQBNAQYADQALADMADwAHAAgA4wABAA0ABAAJABwCtAAdAAUAAwAoAAUAWQACABkAGgADACsAOwADAEEADABYAA4ABAAaAEMABAACAE8ADwAWAAYAHwAPAAEAAQALAAYAKgCMAAEAAwBCAAEA0wARAjEAFAAUABAADwAEAAIABgAQAC0ABQABAAYADQBcAA8BBwAbACcALAA3AA8ANgIeAA8AAQBYABEAMwAYAAcADQA3AAcAMwDyAGgACAADAAkADQBCAFQADgAMADAAEQABAEkALgAtAAQACAAbAHABDQAHAAsADwAEAPYAxwATAA4AWAACAAoAFwALAA8ACACBAAMAlQApAHkAJAEFAC4AHQAJABQABAAEABAAFgASACIAIgApAPcAPwANAAMAJAAwABEABAAoAAEAAwACAAIACAAJAAgAGQArAAMAJgAJABMADgAvABQAAQAcAEUBGAALABYAQwAFAAMANQAEAAEABgARAAMAHQAfABEAAgALACwASAAsABsAAgABADwANQBMAAUAFQAFABcAAQAJAAMA\\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\\u002fAB0ANAAhAAQAAgAHAAEABwABAAwAMwAbAAwAwwAfAAoAAgADAAsABAAGAAQAGgAJAAcABwAtAHQAAQABABwAFQABABIABQACABUACAArAAUACQA4ABEABAAJABsAMwABAAkABQAcACQACgAcAAsAJQABAAYAlQASAIUAFAAKABEAGgAVAAcACAAOAAQAGwAIABsADAAZAAEALgAhAAIAFAAPAPMAEwAQAAEAAQAEAAgADwABAAgAOAAIAGQADQAKAEUAGACqAI8AVAAIAAgACQAFAHIAFAACAA4ACAALAAEAJwBvABMADgAsAAEArAAOAAkAHQAMAAEAIwCAACwA3QESAAMABgAdABIAGQBxAAYAAwAOACcAFQAJAE4AWwAEAA4AmwBVAAMALAEJACwAJQASAAUADwBiAAEADwA1AAgAAQAaAKMAWgAMAAkANAAnAAMAEQA\\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\\u002fABMAMAAXAAQAJwAKAAQASgABAAEAbQALACEACQACAA4AGQARAAIAKQATABIAEAAEADcABwAEAAMAAgAFAAIAJQAEAAMADAAJADwACQA7AAgABAACAAIAAgABABQAEQBAAC4ADgAlABAADAADABUAFQAbAB4ACQAxADkALwAKABcAGwAbACkADAAMAAkABQAXADEAAQANARAABwAvAAUAHgAQAAsAAwAkADAAGQADABYADQAnACEAHgATAAMAAwAMAAwADQAqAAQAAgABAAkAEQAZAAMATgAnABEAAgAlAIgABgABABwAAwAFAAMAHAADABQASwAIAEQABgANAB0ADAABABYAAQAvAAQAAgCMAB0ACwAOAAIABAABABAAAwBEAAwADwAEAA4AMAADABMAFAAMAAEABgALABAABAACAAcADQAPAB4ADgA6ABIAZAAJABEAAQAKAEoAIAA2AAIAOgAGACoALAAOABAAWQAzAAcAXwAIAQcACgAKAAsAAgAFABEAPgBDAB0AHQAbAGYAAwAFAA8AFQAvAEgAIACYABcAAgAgAA4ACAAjAGAALAABAAIAEQADAAcAsQAaAAYAEQAbAAQAFgAJALYABQASAB8AHwAOABgADgAHAAUAHQABABsAAQAOAA4ANwADAAEABwAIAJUAAQAhAFEABAAnAAQAAQADAAgAHwAoACAAUQAYABMAWQCpAA4AFgANABcABwAcAA8ACgAKABEABQBjAGoAAgAtAAwAFQAJAAIASQBXABwADwAJACEAAQACAAYAEQBCAB0AGQAYAB0AEwAEAAwAAwABABIAFQAsABMAAgACABkAAQAeABUAEAAbACcAFgA\\u002fAC4AKwAnAD4ATQAGAAEALwALALAAQgAFAAIABQBXAAcAJAAjADcA1QAVAHsAdQAgAAEAUAABAAQAkQBJAA8ANgAxAAEABwArAA8AEQBAAAwABABnABIACQCIAFEABwABAAsADwABAA4AAQACAAMAKwAiAAkAKgA9AAgACQAHAAcAPgAPAEkBIwAGABgACAAIAAIAAwANAFoAFwAiAA4AGAAHABgALQAkACIAHwABAG4A7QBIAEkAfgBHAAEAFwAFABAAEQAvAFkARQAtAAEAFAABABgAMwApADcAGgAmACYAEQAjAAgAEwBNAFYACQAYACsAPQAuAAgABwAmABAAAgAZAAcAHwAEAAsAEAAhABIAAwAfAAkAGQAuACUABQAgACQALQASABcALgALAB4AKAAYAB8AMAABAAoAEwAaACsAIgA3AAoAVAAMAAIABQAfACYAEAADAAEAAgAxAAkABAALAAEAAwAHABQAFgASABMAAQAcAAEAFwAbACMBAwASAAIAAgBbAAEAAQABABwACQA+ADcAAgADAAoAfQAiAAUAAgAIAAEAGwARAAMASAAMAEsAFQAZAAgAKAAFAAEAAQAbAAUAAwCAAAEAAQANABEABQACAAEAHQABACYAGAALAAcAAQADABgAHgApACYAFAAEAAgALAAIAAoABgAYACUAAgAWAAEADwAOAAEAIgA0ABIABQATAAEAHAAYAAoABQArAQoADwAuAHIABACAARUABAAPABQABQABAEwAAwASAD8AHAABAAIAAQAhACUAIAAwADMAJAAOAA0AIQASAAsA0wAHAAMACgAGAAcAEAAaAAsAAQAIAEgAKAABAAkABgAdAAkAAQAhACoAAQACAAgAAQDAACEACQAjAAEAEQADAAIABQAIABQAEAAHAAQABACpABgACwAGABYAAwAUADcAAgAIACUAAQAZAAsAeQAVAAEAAQAIAAQACgAlAAgAFAAMABsABwAEAAMATQFlAAIABQAWAAIAFQBHAAMAAgAPAAMAKQAWABIAAwASABIAAQAQADoAAgAJAEIAAQAlAAoAHQAgABwADQADAAMABAALADYANAAeAAQAQgAXABkACAAHAAEAEgAGAAEAFwABAHUAVwAMAAIABwAgAAUAIwAeAA8AJgADABkABQACAAUAAQAoACsACAAgAAgABAAuAAEAJgAfAAUAEwACAAMADAAHABsAAQABABAACQAkAGwAvgADAAIACwAJAKIADgAuAAcAAgBAABYABwABAAEAvwAPAAEAAgADABIAAwAEAB8ABAA6AAwAAQAPACcAFgAIAAEAFAABAAgAHwAHAA0BFQADACIAAgAPACAAhgASAAgABwAhABoABgAXAAkCGgAPAAQAAQABAAUAHQAQAAQAAQABABMAAwACAEYAPAARADAAIgAmACAABAAWAOsAAQAPAAEAAgAIAAYAAwARAAEABQAQAA8AAwAwABAAIAAEAEkAAwAQAC4ABQAIAAIARwBOAA4AEQAYAAcAAQACAB4ACwAUAAIAAgAeACoADQAEABQADAABAGYAEAATAAYAXwALAC0AAQAZABEABAALAHAAVAAYAAcAAgAWAAsACAApACQAHgAJAEYABAAPABoABgABABIAPAAVABAAFwACAHgAJgA8AAYAJwAVAA4ADABMACsABQAHAAMADgAFAAMAAgA1AA4AHQAOAAgAMAAHAAMAAgALACUACgA\\u002fAAEAIwAGAAYAAQAOABoADQAWABkACgAFABYACAAGACYAJQATAAIAFAAJABUAEAA9AAsAGQAUABAAJwABABwABwAOAAQADgAPAB4ACQAUABcAQQABABEABAAJAAMAFgAOACcAGwAGABsAGgAgAAQAAQAIAAQABAANAEYAFAAMABgAGQASAAgADAAQAA4AJQAxABcAKwAWAA0AAwARABQANwAKAAoABgAFAEIAFgAHABEAMgBcACQAOwA1ADYAhQAZABAAOwAqACsAEQAcAB4ACQANAA4AMQABADEAAQAcAFoBegA7AAEAFAAFAAEARQACAH4AZgArAAMAAgAGAIgAGwAeAB4AqgACAAMAEwAWAC0ADgA0AAoAiQEJAAEABAAbADUAAgAuACwADAAbACMATAAmAAQAHwBHAEIAGQAjABUAGwBKACYABAAxAAsApwBDAB8AHwAXAEkAOQAGAD8AAQABAAEABgAwAAYACAAQAAgAEQAiAAMAEgALAAkAGQAEAAEAGABRAAgAGAAZAAIANQAOAAEACQAcAAQACgAZAAIAQgAnAK8ACwBqAUUACgAnABIABgAHAAoARQBjAAEAAwAZAAsADgAJABkANwAxAAIAKwA6AD0AKgBLADIAAQAEAB8AJQAVABMABwBzAK8ADQCTAAwAAQARAA0ABgBnABkAbgUJAA0AGAAoAAMBDwA3AAoAGQAXABEAHQAVAAQACgDaAQ4ACwAQAAIAbgABAAYAPgArAC8AFABBAC0ALAAHAAEAAwAEAJwAEgABAAYAIAABAA8AOwAFAAoAGgABAAIAHQAWAAgAJAAHAAcADwABADsAigABAAEANwACAAUAFgBRAAUAIwACAAIAGQAkAAsAGQAGABkANAA4AC4ACAArAA0AAgCBARgACAANAAkAHwABAAUACgABAAEAMQAhABoANQAnAFYABwAMABQAFQCrAAwAAQAHADAAewAMACIAKQACAB4AKgAgACoAHwAeAF8AIAACAAQAJgAGAAoABAABAAcABQABAEEABgC4AAEABgAyAAEAEgADABcABADVAAcAOAAGACIAEAAIAAkAKQAhACwAGQAuAEEABgAGABYAAQAuAgkAAQACAAMABAAqAAIABAA1AAUAHQAKAAMAQwAFAB4AIABCAFwACAANAAEACQAUAAkAEgAvAAEAGAAJABIAAQABAEAAJwBGABUABAALAAwACgDKAAMAYwEcAAEAKgBbAB4ABgASAAkANgCaBEcBFwAEABEAHAAjABAADQAFAD8AkAAEAAgAAgAuAB0AzwADAA0AAwAjABoAAgBDABEA7QEWABcAGAAXAB8BLAAJAAUAGAA3ABEACAArAQEABgAWAAcADgBQAAsAAQANABIALgABAAMAAwALACQAVgA+ABIAAQAOAAsACAAiAAwAAQAdAFACJAACAAoAQgASAB8AIAAjAA0AawADAAYAAwAeAAEAsQDrAEUACQACAAMAPgANAAgAJwASAAYAGAAQANUBCwA9AAEAAwACABIAGwArAAYAEgAFACAAXQABAAYAEgABACAABgA3AAoAHAADABoAIwAHAAUAAgAtAAEA+wEHAJoBIQABAHoAzwANAAgACgABAAQAMAApADYAIgDlAAgAJgAeABMAEgAjAAMAzwAEAEgAOwAFAB4ADgAEAC0AAQBHAE0ACQAWABQACwADAAMAGAAlAAEAMgBzAAoAFgATAAMABAAFAAYAswBJABgACAAdAAcAAwAIAAUAAQAGABsADwCCAAEACQAFAAQAbAB3AAkACAABAAEABwAJAAIA9wADAAcAegABABoAEAAGAAgAFAA8AAYAHAEfAAgAOwABAAUAGQAEAAMADwABAGMACgEJAFUAGQAOAAYAIAAEANMADAABAAkAmwAfAAIAMgAFAAEAFgABABMAAwAPABUAAgAiAAQAIQAIABcABwAXAAQAIAA3AAEABgABAAIACgAQAA8AAQACAAIAMAABAAMACgATAAIAjwIsAAgAAQAUAAIAAgAVAAoArQADAAEAAQAFAAsABQBDACMAIwA6ABgADQAkAAIAAwBlAKgAAwBKABAAPgAZACIAAwAMAD8AAQAOAFMAIwDEADABEwAgABQAmwAmAAcAkABdAQEAzgEBAAIACAAhAAkACgB4AAEAAwAdAJMAAwAlAAgADgDpAQEACAAjAAIABwAEAAkAQgARAB0AMAAYAAMAVAAFABEAJAAzACQAAgAPAAEAKgAGACsABgABAAkAaAAGAAEANwAFABkABAAUAAYAXQEBAAYADwQIAOkABAACAAIAAQA3AAEAPAABAAEAJwAEABYAAQABABcABAA+AAYAJQArAA8ABgATAAwAJQAHAAcAGwD+AAUABgA8AB0AGwA4AAIAKgBIAAEACQAKABEAAgAHABoAUQAaAAIAAQAFAAcAGQCJAAYAAwAAAW8BDAADAAkAAQDDAF4AHgBAAAIAHgACACQBBQCIADwAQQACAIMAIQAVAAwAFQACABsAIQABAE8AAwArAHQACAACAAIACQABABsAJAAFABQAEQABAAIAFgABABkADAACAAsAAgApAAwAAQAQAAgABgAIAAYABgAtAEIDEQAJAAsACQAmAM4ACgABAAEAbQACAAwABgASAA0AAQAXABsABgC+AQMAAwAZARgACgAGAAMAAwACAAEABQB\\u002fACgAFAACAAYABgAOADgAAQA3ABYAAQA5AAMAGQAwAAQAAQAHAAEAAQAKAB4AAQAEAE8ASgARAAcAXAAFABYAAwBlAAUACwDYADYAOAABAC0AIwAEAA8AOQAWAAwAAgBGAJkACwCMARsADQASAAoAAQAHAA0ABAAIACAAAwAoADMAHgABAEIAEQATAAEAEwADAAIACgACAAkABgASADoADgASAAwAEQApAMYABgAKAEEAHAACAEAABgABAA0AAQABAAEADQADABYAAQATACsAsgAGAAIAAQAUAO4F0AABACwAFADrAAYAMAAIAAYASQEpAAgAAQAyAAEAIAACAAsADwAbAAYADgAWABEAAQACABsALwACADAASgAPAI4BiwAmABIAAQALACAACAAHAAsAAQAEACgAFwATAAQAGgACAAEAMAAJACgApQBlABkABAAVABUABQAFAAgACQAIABQABgADAAUAAQAJABYABQABAAoAAQAbAAQAEgAEAAIABQACABMAZAAcAEYACQAJAN0AEQALAAMABAABAAMACAAZABMALQARACgABgAZAAQADQBeAGoAFQABAAgABwAQAAEABAAdAA8ADQAtAB4AEQABACwAAQABAAIADQAkAAsAHAAaACYAdQAEAAQADwACADEFAQANAB0ACwANAKIAVgEGAAUAAQAmACEACgAGABsATgBeAD0ABQADAFQAFACMAAkAAgAXAF8AGAAxADYAhgECAAQBEAAPACMAYgAEAAIABQAaABgAAgARAAIABgAvAA0AFgBsAAgAJwAeABMAAQB8AAUAFQABAAEAOQAMAAoAEQAfAA0AFgARAB4AAgBHADIA\\u002fgEPABsASQABACkAJwAJAAIABgA4AJAAWAASAAUABAAEABMARQA0ADoAKgANAAwAAgAnAOcABgADABIA7wAgAA4EBACgAQgABgAEAAEABgAeABAADAADADEA5gA6ADIBKwAdABAAFwAKAAUADwADAAYAAQAcAAYAJAAMACMABwBQAC0ANgA5AA8AEgALAAIAPAA+AAEArAAvAQcAAwATACMASAAlACEAWgADAAEAAQAhAAcABwAVACkAiAAIABYACAAEACAACQAvABUAKwATAAwA0gABAAQAAQATABoAFwAPABAAJgAbAEYAFwCPAAEADgANAAMAEQAMADgABwABAAMAKQD3ARgAHQBLALQAWwARADUADAACAAwAcwBPACgA7AAwABMAEQANAHQALQAuAAUACwAGAAIAAgA2AAIAOABRAAEADAAGAAoABQAGAA0AEgAQABYABwBOACcABAAGAAgAEwABAAQAAQAWAA4AAQADAAUADAAHABwAIgEFABwADwBNAAcAKwA2ABUAFAANAC4ACAAIAFkAJAAJAAsABQAsAAEAHAERAAQABAAlACoBbwFrAEAADAABAAIABQAbAD0AAwABAHQACwC6ABMAAgBGABkAGQBDAAIABgAoAQMAAwACAAEAHAARACMADgAOAAQAFwAIACIACQANABQAGAAbAAQANgABAAQABgAZAI0AAgALAEwAJAAbAAMABwATAAIAHAABAAgACAAGAAUABwAIAAEABwApACUAKwAEAAsADwAJAAEAAQAJAAMAJwAPAAkASwADAGsA+gAPAAMAAwATAHMACQATABYAIAABAAQAAgABAAYAAQA4AAEATwDIADMAEAABAAEAAwAaAAgALACxAAwAGQAKAA0AEQAWAEkABgELAIwAdgCIACMAAQBjACgAFgAFADsAUwAxAAoAEAABACUAAgCyABcAGQAUAOQARAAUAD4AcQACACkAAQAKAhYAAgB3AJAAAQAoAAEAEgABAAIAXAALAGEADwAJADIAEQAbAAIABAAHACMACAAEAAEADwAKAB0AAgAFAAMAIgAyAGkACgAtAAgAOgAIAGwAFAAFAAEA0AAwAOIBFAAcAGcAGQAYABsAAwB0AAEASgALAH8AFgBZAAIAAgAoAAUADwALADoBJQADAAMAIAAPADEABQANAAsBagA7AA4ALAAGABYANgAfABsABgAJAAoADAAiAAcABAAXAC4AAgAeABAADgAfAAQAvAAmAD4AAgAgACwACgABALoBAgAGAMsALQDGAAEAjAAEACsAFABaAAQACwABAAMAEQACAAEAAQAnAA0AQQBqABsAHAABAAkAAQAGAAEAcgAnAAEABAA\\u002fACEACAAMAE4ABAATAAIAMAA6ABIAHgABABoACgAFABwAJgBoAAkADwAHAA8ABQCKAA0ABQAlAAIABQADAAQAMQABABYAKAABAAkAAwAHAAQAQwABADQA1QABAAMAAgAIABEABQBKABYABAACAAkABABBAEQAHAA\\u002fAEMAKQACABMARQAcAAIAAwABAAYAAwAHAAIAFAAaABcABACvARMAlAABAAQANAACAAMAAwBoAAEABAANAC0AEwARACEAHwAJACsAFAAOACcAAwASABIAAgAIAAEAGAAEAAgAAQADAAQAAQDaAPoACgAoAA8ADwACAAQAMQACAC4AAgAUAAkANgASAAYAPwANAAwACAAGAAEADwAMAUYAAwABAAcAAgAXAAIAAwADAAcARQAKADEAEwABAIcAugAPAAEATAAgAAIAEAAJAB4ABQC6AAUACQADAAEAiQMsAC4ABACrAEcAAwACAAYADgARAA0ABAABADEAAgAMAAIAVAAEAAEADAAdAC4AFAAZAOUBDgACAJEACAAWAC8AAgABAAEAJQAiABoANAAgAFsAPQEVAAwAFABvAAEAJQIgAAoAAwAgABAAAQAhAAEAAwABACMAKwAEAFUADAAjAAQABAAaABcAFQAEAAIAFQAHAAYAAgADAA4ACAAEAAUABQAcAJ0AZQABAAsACgAGADkAIAABAEkAlQBtAAsAAgARACEADwACAC4AMQAEACIAkAAFAAcABgAJAAoAwwABAAcAIAAqABQAJwALAAMAdAABAAEAJAAHAAMABAAFAB0ABgAVABIAFAAJAD0AMgAiAAEABwD4AQUAHQAZAAUANgAOAAsAAQAhAAgACAAVAAEANgCsAAIACAABAAEACgA1AAUApQABAF4AgQAKADwABwBIADsAJQAvAGIABwAEAAsADQACAA4ALgAFABUAEgABAA8AYgAPAB0ADgAIAGsAAQABAAQAAQAEACkAJAAJAAMAyAAjAAsAAwANAAoAAgAHABMACQAGABgAPwAUAA8ACgAZAAIAIQAEAAQAAQACAAEAEQASABsAHAAWAAIADwABAC0AGQABALEACwAfAAMABQACAAQAHwABAAkABwAHAEgAGAAjAA8AFABEAAQABQBZASEAKgACAAMAAQAFAAIADgAeAF0AEwA3AAEAAQASAC8AFAABACkACAACAAEAKQABACMAAQAGAAIACgAHADYAEgABAE0AOQCsAAQAFgAqAAIAJAAHABkAAgACABIAFAAXABYABwAVAAEACgAeAL0AAQACAAwAFACnAQMAGAAwABIAKQAxAAYAAQAMAB0ABAAGAAIAXQBCAAQAMAABAAoAAwARAAMAFAATAAUAAwAOAAIAAgA1ACsABgANAG0AAwAgACoAAQAMAKEAHQAbAEsAGQACAH4AaQEPAAsABwADAB4ADAATACMACwASAAIAAQBcANEBHABCAAEAWAAaAK0BFgAWADIALAAHAAcABAAeAAUAIQABADUAAwAdAAEAAgABAAUAAgACAAEAoQBHAAUADAAUABoABAAOAAYAywAFABIAAQAyAAUAAQACAB0ABwAVABMADQBFAA8ABgAiAAwAFAA8AAMAAwAUAAEAEQB+AAgAAgACAAIAZwEJAEQAQwADABkAGwAGAB0ADQAOABUAIQACAAEAAQAEAAQAHwD8ABoALAAGAAMAIwAQABMAHQASADcAEACTAA0AAgCMANIBAwCIAAEAAQAKAHkAAgABABAABwADAAsAMAAOAAcADAACAAgAAgBaAAQABgAJALIAAQAwABUABgAJAAQAFAACAKQAJgA0AAcAGwACADkAMAAaABcAAwAeAAIAzgEDAAIAmAAaAA0AMwBKADMAHgAJAAIAEQADACIAAwAYAAYAAQBaAAIAEwAFAAQABwAEAAQABAACAJoANgD\\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\\u002fgENACIAAgABAOsAAwADAIMABQCCAAIAAgACACQAHwADAAYAEAABAAIABQASAA0AAQALAGEAowADAAIAQQABAA0ABgAEAB4ABgACAAUAjQElAAQAKgAVAE4AIQAJAAkABAABAGQAAgAWAB4AFwANAJYACAANAAMAAQAHABQAAQAbAB8AGgApAAMAHQAGABwAEAALACcAOwApAQMAAQAWAAQADwAWADUAGQBGAAMACwAnAAMAAgAsAAQAHgAwAAUAAwAZADQABgAKABwAAQAgABgAAQBAAJMAlAABAAYAMAAKAAgAAgAFACoABgADAD4AGgAfAB0ADAANAAIAOQAUADIABQAEAAEAEQAOAAUASQAiAFEAAwABAAIACADsAgEAAQAnAAYAZAACAAoAHAABAAMANACBABQACQAUAAoACAAZAAIADQAfAAUKIwCgAFcADwBVAAwAGAAFAAEABwADACMAbgCjACgAAgANACoAAwAYAAgAQACSAAkAIABAACQABAACABoA7QAGAAIACwAEABMAAQAiAA4AbAAEAAIABgABAQYAAwCcA8oABgC1ACwACQAQAAEAAQAFABMAAQAVAAIAQwABAMoADQAXAA8ACACLAAIAIgAcAAEAQwAGAAoANgAfAAgAawIBAAEAIABmABIARAAiADwAEwABAAEAegBbAAEABgASACYAMwDKAAgAHgBGACUAAgACAAMAUAAcAFABHAAbAHEAGgAFABQAygQCAAEAPAAFAAEAJwABAD0AHAABADoABgBIAAwAKQABAAsAFAAdAAQAGgABAA4AGQAXABEASgAFADUABAAYAAcANgAJAA4ABwAiAAkACgACAAIALQAVAC8AJwA2ADYAWQAhAAEACAAoACAAAwADAAEAEQAHABwALABgAAQAIwAcAAQAAQACAHEACAAVABkABQAYARkALgACAAUAEwAeABkAHQAZAAYAKgABAFIAFAElAAkADwANADcBBgCyABoACQArANYCAQACAKEABQAEAAIACgANAGgALgAZABQA\\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\\u002fAgQAQAABAAMACwAPAB0AAQAQAAEAAwBzADcAJgAOAAkABwAPAB4ACgAbAAIARQAGAAEAUwAIAAEABgAOACYAVgAHAAIAMAAtAAYAGQAGAAkAAgAWAOYAXgAGACgAAQAGABgAAQAQAA8ABgABAAIAAwAEAAsAGQACAJoAEwAQACgACQABAAIA5wECAFsANQAFAAIAAQAGAEMAPAANABYAAgALAAQABgAgAAcAJgAhAAEAAwACAAMAPgAFAAMAAQAVABsAGgAzAAMAEgAiABQAKwABAIEACgAUADEABwAfAAoACwApAAQAaQABAAYAEwAoAAwAKAAVAAUANwAiADUACgAZABcABwANAAgAAwBPABcANQB1AKgAAgACAB4ADwA5AAMAKAAWAIYAEAABAAIAAwABAAsABQADAAwABwASAAEADAAeACwAAwDSAAoAAQASACsBPQABACwAAgARAAMABAATADEACQBbADgACAACABwAIgBFAEAACAABAAQAAgATAAMACQAZAAcAbgCFAAYABwAYAEMABgA+ABAAAQBnAAIADQAXALoADAAcAD0AUwBZAAQAFAAoAAEALAAGACEAAgDBADQAGgBCACEAMwAcAAMADAByAAIAAgAxAAQACgAmABYADQABAAMABQDtAAIAEwAEAAoABwASAAoAFwISABcADgADABsABwA8ABsAAQALABoAAgAUAAEAXQEZAHkAFwAGAAcAAgAGABAAAQB0AAEAEAACAA0AxQAaAAUACAD9AAEABABGAEQAAQAJABEACQAGAAEAAgABACcAGwAMACkAJAAEAJMAUwBZABkADgAdABkABQACAI4AMQIKABgAAwAFABAACgAFAI0ADwAOADgAKQADAAUACwAYACoAAgAdAAYAAQAQAAUACgAEAAMAgAABAAIAFQAMADgABAAgABAAHwACAAkABQABABUACwAZACAADQAEABUACQC2ABMADAAeACUAFQADAAIAHABFAC0ALQA2AAIABwADAEMAdAIBABYALQAHACEACwA7AFIAGAADAB0AEwABABQACgAVAAYAGwAZAAMADQBxABYAJgAOAAUAAwABAAMAFAAKABoAMAAGARMAAgAEAAkAAgDzAUQACAAdAAcAEwAnAAwArAAKAAsAFAEGAEsAFQAnAAEADgAFAAoAHAAQAAgACAAJABYAzAAUAAIAAgAMAAsAFgAKAAUAEQAzAIkAhwACAAcAAQAQAB0ACQAFBgIA4gAHAAUACAA0AAUAEAABAAQADgAsADkACwAjAAQARQAUACcAAwABAAMABAAXABMAFgB9AgkAKAANAAEABABuAAYADAAEAB4AAwAeAA0AaAD5AA8AtwAHAAkAZgAkAGUAEwAlABIAFwAgAAUABQAGAAQADQApAKMBDQAoAAEADQA1ADcACABrAAEAGwA5ABgANAAFAB0ABQADABIAAwA4ASsAAQACABcABgABAAEABgAKAAUAHwAJANYAAwAfAA0AQwADABsAFAAEABUAAgACAAEAGwAFAOEBBQAcAAgAqAAJAAIAGgAFAAsADwABACkAGAABAAgAEAAHAAYAAgAHAGMAaQARADAABgAMABQABAADABkAMgAIAAQAHwACAAMADgALAFIAUgADAAcAaAEEACcABgBQAAEAAQAQACQABQA0ABIACAB0AB0AKAAEACgANwAsAHkAGgALAHkAFAAHAAgAHAATAAEANQCGAN0AAwA5AEsAAQBZACcAIQAsAAoAYgAlAOsACAACAAkAAgABABYABQA\\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\\u002fAAoAfQAUABIAGgAaAAIAIQAVAAsAFQACAAkABQAFAEMAHQACAEcAJAECABsAHQDzABIAVABsAOkBBQAdADIAHAAqABkAFgAMAAIAAwABABMACQBQAAIAAQAkACsABQAEAAkAAQAEABgADwAZAHkAFAAVACAABAAKAAQAEgAaAAIAOQAPAG4ABABnAQsAJgAJAAYAGABXAAMAGwAYAAsAAQAEACIABAACAC8ALwABAAsAHwCAAEIAEAA+AAMAGgALADAACgARAD4AAwADAAwAngAGABIAAgBQADQAFQABAA4AAgABADsAKQARAAQACAAUAAQABAADACQABAAGAGoACgAUAAgAGQACABMAPAEZACIAEwB2AB4AEAAjABIAAQAHABcAKwAaAHQAHAAxAD0AIwAhAAMABwABACYADwAgAAoAKQBNAAIAMQAGAAoAdgABACMAHAAlABgANwATAAcADQATADgAegAbAAEACAAVABMADQALAA4AAgAHAA4AEgAFAAIABwAoABUATwUCAAQAHQAXAL4AAQABAAEAAwAEAAEAVwAYAAYAFQCdACAAEgATABkAHgAlAA4AHQADAAIAHQBVAJMAHAAhABkAAgBBAAQAXwBDAAMAFABEAAoABQADAAoAMgAXAEQAGAAVAAsABgAjAAYAFgAKAAsAAwAuABsAFAAfAAUAEAAgAQ0AKgAgACwAGwAeAAkALAAEAAwCHAABABAADQAIAAIAFwAJAA0ABAAtABIAAQA\\u002fACoABQABABYAAQAKANcABAACAA0AawAKABMAKwADABgAEQAHAAYAAQAgACgABAALAAIABAA3AAEAAgAdAAkABQABAAEAFgAQAAsAGgAFAAcAVgATAB8AAQAnAB4AGwAoAAkAEAABABMAJgACAAMAAwAFAAoABwAgAAMAGgABABMAiQBSAAoAAgARAAMANAAAAZkABQACAAcAAQAEABQABgADAC4ACgAKADYAAQABACcAHgAfACgAEwArAE4AXwACAAcABQARAGICBAAGACUAwQBJABIAJAArAAUAIQABADAABgAHABIAfgAJAD8AIQABAAYAGAADAA4AAgAIAAEACQASAAIABAAMABwAAgA8AAoARwASAAwAAgAnABAABgAEAEAAOwAfAFcADwACAAgABAAGABIAwwAKABAAAQAHAB0AAQAJABoAUAAtADUAMACOAB0APQAOAAkAAgACAAEACAAqAAEAAgCuAKYAAQABACEAAQAjAAkAEQAGAA0AFwADABcA7gADAA0AAQAcAAkABgABACsALgBKABkABAA2AAUADgCFABoAEgAoAA8AHAAIAAEACAAlAAIAKAAWAAgAOwCDABQADQAEAA0ABQAHAAoAAgAfAAYALgAXABQAfgI6ACQAFAAKABYAAgAdADUACgAPAAEACwAWAIUAIgArAAwAFAEmAAEACAAgAF4ABwAxACUAVwAQAAoBAwAMAAQABQADAAoABwAUAAQABwBBABEAAgAEAAEARwACABEAFQBAAAEAAQAIAA0AOABLABcAFgABAA8ATwBjADIAPwBaAAoAOwAiAAYALwA+ABkABAAGAAMADgD\\u002fAAoAWwAJAAgAAgADABUAygABAFMA3wAKADAABgAaAAEALgABABEAFAApABQABQAQAGsAKABfAAMABABTACAAGQAQBAIAAwAFAAIAAgAEAB8AAgARAAMAFAAnAAcACAAPAAYAFQAHAAMACgAHABUAagAHACEAGQAFAAIAoQACAFsACgAZAAkAKACdAAIABwCJAD4AFwAsABQALAAJAAMABAACABMAAQAEAC8AoQAXAAkABwADAAUAAwACACcA\\u002fgAGAAEAeACUAIwAAgAGAAEAtgABABoAAgACAAEACwAlABMAAQAWAAEAEAABAH0ABwAZAAkAHgAFAAUAEwA2AAYAEABpAA4ALgAUAEYAAwAOAAQAJQAaAAcAJQABAGkABgABAA8AIwALAAsADQA7ABoAAgAXAAMAEQALADQACwBjAJUAAQAsACAAAgBCAAEABACuAEUACABFAHwAAgAFABwAEgAdAAMAGgAdAAIAAQAfAAIAIAAMACoAEAACACUARAAPAAEACAABAEEAGgAzAKkBAgADAB8ADwASAAEAGgAjAD4AAQCmAF0AGgAFAAQAIAAKADMACwAGAAEADwAFAAMANQABAAwADQA8ABcAEQAeAAcAiAAHAAQAagAHAAIAMAAHABEAAQAPAAQAAwABAAYABwAZAFoBEgBEAAcAFwB8AA0AAQAcAAsABQADAKAAHgAmAFUAFgARACQARwDXACcAAwAlADkACgAPABQAAQACAAMAGwARAAQAEgABABsAFAAIAPQAJQAKADwANQAYABIAFQAQAAoAAwAaAAsAPgABAAUAAgAEABkAEAAnAAgACgCeARwAHAAFAAEAAQAbAAYAAQAIAAEAAgAPABwAAwAQABAAGQABACAAEgAFAAEAAgABAFcDGABLAA4AJAAGAAgAAgABAAIAOQAhADIAGQABADoAhAAKAAMAEABKAAEAOwAJAAIALQAFACcALQAGAAMAPQDBALwAKwAoAAEAAQAyAAwABwAIAL0APAANABEALAAHABcACQAXAAQAAQAOAB4AGQAVAAcACgCdAAoAAwAGAAkAAwByAAEATQApABEAFgAPAAcAQwEOAAIATAAKADMAGQAGAMwAOQAHAG8AEQAcAAEAQgAEAE4ADgA2AAgAAQAZAAsADwBFACAAQQAEAA8ACAACABUAEQAFAAgAAQAdACEAHwACAAEABAAOAQgADgAuABwADAADAPUADgADACUAJABIAAkAKQAAAh4ABQATAEQAIAALAAMAOAAVAAwAIwAPAAYAAwACABIAEAAEAAIAOwAJAAMAFwARAAcAJgALAAUAAgAIAOUAOAAHAA4AEgB8AAYABwAHAAIAZgA7ABIAAwAYAAEARwA0ABMACAATAG4ADwACAAgAAQAKABoAHwADABoAAgAEAAEABQAEABIADwABACcAAgAPABoADQANAD8ADgArAEEAhgBFAEgBywAQAAsAsgEBAAIABwAIAD4ABAAFADwAAgABAAkATQAcAAUAAgBEAEUAEwAFACgAIQAmACoADQABAC0AFgA\\u002fACEASQAGAAYAKgAHAEEBBwBdACMAAgAFAFYACAAGAEsABQAEACQAAQACABAADgAeAA4ABQAIAAEABwBgAAoAAwC3ABAANwBGADAAGwAgAEEAEQAfAAIAKAAlAAwABQAfAAQALwAIABEALAA2AAYAsAEBABMADQAGAAgAjQAaAAQAAgABAAMAPAAEAAQAIAAFABAAAQAVADEADwAiAAEAPAAWACAANgACAAgAAQABABUAKgAEACcBAgAGAC4AAwAjAB0AAwAMAB8ASAACAAQAAgAXAD4AQAAFAAMAAQALAD4ABAAgACMAAQAyAAUASgACAAsAFwA6ABsAZwAvADYAGAACAAgAIQABAAEAEQAKADQAKgAKAAsAAQA\\u002fABEADQAFAC8AAgABAA0ABgBJABoAAgADAAsAIAALAAcCLwAJAR4ADwAJAAEAIwACAAkAAQAPAAUADAAfAAIARwACAC0AAwABAFgAJAE+AEEAKQALAIEAHAAKAAQACwBgADsACQANADgABwAHACMABwAWABwAEwAKAKwABQAHAAMAAgCFAAEAAgAfABYAJwAWAAEAKAAUAAMAKwBWABMALgAPAA4ADgAXAJcABwACABUADgA5AAEAEAApAA0AHQCLAAQABQABAI0AAwA6AAEAAQACAHIAcQB2AAIADgANAD0AMwAXAAYAEQAnARkAJgApAAQAyABTAAMABAABAAQABABUAIcAKwAHAA4ACwABAAEAAQAkAAMAEQAfAAIAHAAWAAYAEgAFAB0AYwACAAsAAwBgAAcAKgDkAFMAOQABAE8ABAAqAKYAFgBXABMACwAIAAkAKwAbAB4AGgAQAAIATwAjAEUAEQAEAAUADgAfABAAAgATADQACQAGAAIABQAWAAEASQA+AAQAEAAkABgAEAALAAQADAAtAE4AIgAYAFoABQAVAB4AOgAMAAoAIgARAC0AUAAXAAUAAQBXAA8AEwAIAFcAHAACAIwADQALAAYADgACABcADAAeAB4ALwAzAAQA2AEjAAIAAQBMAB0AbgEYADkACgAfADMABQAVAHAAGgANAAkADQBOAAEANAAvACAAIgANAFYBEQAhABYADwAgAHcANgAZAAgACgAPABQAAQBUADYAEwASAAIAGQAfAAQAAgAfACAAGQAGACAAJAALAAIAGAACABAAFgAiAAkAAQABACYACgAbABoAMgA\\u002fABQAEwAPADsACwAHAAIAPgAKADMADgALADIABAAIAAMADQAFAB4AEgAEAB4AAwAIAAoAAwB3AAsABAADABAAIwACAAoADwAXAAMAPgANAAQAHAANAAUAAQAJAAYAFgAaAEcANgACAAMACQAGABAAawApAAMAJAAJAAoACwARABsACgAEABMAAQALAIoABgA3AAIAFAADACYAAQAEAAIACQATAD0ALwBnAAQAOwABAAQAawAnABQAKQAlAAIAIwARAAMAAgAXAAEARAAqADQABAABAAYALQAuABwAFgABABQAAgABAAYABQArAAoAKAAHAB4AGABcABoABQACAAIAIwACABAAEAAIACAAMgAjAA8AHgABABIAJwAEADsABABJADgAEAAKABQABgACAA8ANwAQACYAOQAtAC4AAwARAAYACAAMAG8ANAAZABkADQArAAkAGQAkAAEACQBFABwAGAABAC0AEAABAGoAKAANAAQADwABAAQACgADABMACwAbABEAEgAXAAEAAwABAAMAAgAUACkACwABADgAAgALAB0ACABiAB4AAwAHAA8AKQAmABsAIAAPACAAHgAuACcAAQALAFsARAACAAMADQAEACkAOAACADIAhwA9AF8AHgA1ADYAGQAEAAQAGwAfAA0AEAABAAEAAwABABgAFwBeAAEAJAAWABkACwBAABkADgAuAK8AAQAEAAQABAAWACcADQAnABIACwAHAAIABQALABYAOQAYABoAIwAHAAQABgAoACEAfQAoAA4AAgADAAQADAAQAIUADAAOAB8ANAALAAsAGwAiAAEAHwBAACgACwABAAMAuQAFAB8AGwAYABcABwAEAAoAAgABABQABwAMAAIABQASACkADgAZAAQACAAaAAUAKgAgABAACgAVAEsAHwANAAkAHgAoAAMAAgABAC0ANQAnAEQACQAEAAEAOQAqABYALwAEAAUAFwABAIwABgAIACkAJgAEAA8ABwADAAYACwBGABMABAAPABkAXAAsAAsAHgAoAAEAAQALAA0AKwABADEADgACACgAAQA9AAUANQAMAAwAFwABACkACgBLAFEACwABAA4AOgAZACUADwAJAAQALAACADQACAAEABcAIQAWAAQAAgBeAD4ABQAOACgAlwBSAAEAEwANAE0AAgBPAAMADAAIAAEABgA6ACIACAARAAkAYAASAAYADwAyACAAGAA7ABEAGgA3AAwAbgA3AAIAIAATAAEALQAWAGwABQAnADEAAgABABEAAQAOAC0AIAAFABsAHgAEABQAAgAjAA4AAwAJAC4AFwABADEABwAGAEAAAgANABsAdwAMAHAACQACAAEALwACACQABgAqAD8ABAARAAEAOQAPAA0ANgAKACgAAQAMAAIAFwACACUAJwAwABMACwAOAAEAhwACACEAKwAFAAoAFwAGAA8AFgACABQAAgAmAAsAHQARABoAMAADAC4AOAAhAAYAAgAvABAAFwAFAC4ADgABAGYAOwEMAB4AAwABAAsAIAADAI8AAgACABMAFwA4AAQAGQBaAAQAEgAhAAYAMgARAAMAIwACACIAVgAsABkABAADAAsAFAAFAAEACQAVAAgAAwAmACEAWQABAA4AAQAeAAMAEwAJABsACgACABcAEgAeACYAAgA+ABcAiwAlAAoAKwApAAQAHQAFAH4AEwADADwAAgA\\u002fABUAHwATACgAPgABAJkAIAAzAH4ABwAjAAEAAgAiAAEAQgAFAE4AQAACAAgAAQAlAAYABgAIAAkABwBCADUAGwABAA0AJAACAAUAPQAkACIAOwAEAAMAAwBiAQEAIAABAD8ANgAVAA0AAgADACkAuQAFAAIAEgAjABYAAwACABYABQALABYAIQA6AAMAOwAcABsAJwAZACEAEQATAAMAowAPACgARgBUAAcABAAWAAMAAwAEABYAKABpACMAIwA0AAYANQCyAAoASgA3AGUAOwA8AA4AEwAhAF4ABAAMAEoAAQA7AD4AMQAHAAMAIgALAAoABQAjAAIAAgAeAA0AMAAIAAMAAQAyADEABAATAA0ABQAyAC0AAQAJAAEACgAjAAIANAAUAD4ABwAPAD8AMwAFAAwAAwAXAAIAHAALABQA4wAbAAIAKwACAGQADQAPADAALQAKABcAAgAFAAkABgABADQAIgAFAAYAUQACAAEAFAAGAAEADwAFAB4ACgAEAAQABQAFAAoABgASAB4AAwAJAAYAXAAiAJYBBQARAC0AAgAGAAMAAwAuAAEAFAABAAQABAA2AAcABwAWAA4AUwAdACIAJgAjABwAOwAmAK4ACQACAAkABQADAAcAUAAdAPoAGAAVABgAAwABAAMARAAeAE0ADwACAAgAFQAHAAsABgALAAEADQA7ACcAIAAjABAABAAEAFQADwAgAAIAAQAGAAEAjAA9AC0AJAALABoABQAQAA0AMwANABoACgABABcAEgAHAAEAFAAGAAoAJQAcABIAAQAEAAkABwAHAAQADwAnAAEALgACACEAEQANAAQAFAAWAAgAAwAhAAUABgA8ADwAJgAHAAUAFAA9ABkAAQAQAAIAAgAsABoACgCiAAUAAQAbAAMAAQAMACQACAABABAACQABAM4ALAAfAA4AAQAIAAIABQA2AA8AAQAYAAEADQBRACsAEwAJAAMACQAOAAQAEgABABUAEwBlAAcAPQAGAAkABAAKAEQAAwAGAAIAAQAhAA0AIwAVABgATQAhAIMAHgADAAoApwEEAAEACQALACQAAgABABIAPwAHAAIAAQAUABMABgAJAC0ABQAbACAADgAoAAUAAgABABsACgAeABoAMAANABcAFgAUADkAAwAOADkAJQCHABkAOwACABEACQAoABsAAQACACAAFgAcAAUAFQAEAAsABQAYAAoAFgAfAAYAAgAaACIAHgAQAAkAOgAgABEAEgBbAEEANAAGACQAEAAWABcAFgAXABoAOgAIACcAHQADAAoAAQAOAAIABQALADYAFQAXAAQAGgAIAAEABwAcAAEABgABAAcAKAAdAAIACAAlACkAGwAJABgAAgAEAA8AFAADABkAdQBmACIACAAfACQAAgAiAAkACgARACMAAwA5ABAAsAADACgAIAADAAIACQACAAsACQAHACAAAgAbAD0AEwARAAIAFAAjABkAFAAGACMAAwAZAAMABwAEAAIABAATABgACQANAA4ACAAOABoACgAmACUACwApABsAEgAtAAkABQA\\u002fAAQADwAyAAcAwwAWAC4AAQAxAAYAAQAIAA0AHAAWABoAAgAHACkAAwALAAEAQQAYABgAAwASABAALwARAA0ABQAbACgACgALAAEAYgAfAAcABAAhAAIALgArAEYANwAEAAUABQBMAA4ACwAGAAQABAAHACAAGgAgACUACQAFAAEAGwAFABsACgAZAC0AEgA7AAcAOgAcAAEAJgABABUAIgACAHMAPAAHABIAJABkAEkADQBUAAEAiAAiAAEAHAAxAA8AMQAJAAYAhQAFABsALQAQADQAGwAQAB0AIQAzAE4AVgAXACQAJQADAAYAIwACACAABgAgAAcAAwAtAEYAFQAFABwACABOABYAHQABABAABgAEAAcACAAZAAMABAAEABUAFgABABMAXQACAAIACgBsAI0AAgAOAE8AEQAmAF4ARgAOAAMACQA4AE4AKAARAA0ADgAzAAIAHwAiAFQABAABAA0AYQATACQAHQBoAA0AAQACAD0AFQAaACkAQwDHADYANgABAAoAIgAFABEAFAAcAAkADQAIACQABQAMAB0ADwA2AJsAAQABABwABAAOAAcACAAPAFkAIQAwAAEASAAQACcAQAAOADMAqwAFAAwAFgAOAGAADQACAB8ABQASABYACwACABoAAQAcACIAGAAYACIAJwAqAAsACwBPAIAAIwADAGwAAwAUAA0ADgBBAAEAEgACAAIABQACAE4ACQAsAA8AOAAeAA4ADQAHADgAAgARABYAjQBXAAgAAgAOAAgAAgALAAYAEQASADAAAgC5AAIAKgABAAIACwAQAA8AAQAqAEcAFQAHADgAAgASAB4ABAAfAPUBEQACABgADgAMADwADwAcABkAIgABAAwAEAAQAHQAAwAJAAYADAAJAEAADgABAAYAKwAoAB8AAgAkAQoAEAABAA8AVgANABcAAQA5AAYAEwAGAAwAGQA3AA8ABgA\\u002fAD8AAQABAAQANgABAJkAFgAJABwADAAhAAEABwARACEACAADAFAAKQAdACoAAgA3AA8AHAAnABQAJQADAAEATAAXAA8AIAARAAUADwANAAMAAQA5APcACgBcAEIADQAGAAIADAACAAUAAwAPAAEADQBVAA8ABQAyAEkAGQAPAAQABgAJAAEAAwADAAwAHQACACEAGgALAAIAAQADABgAAgAUACQAGQADACMABQAjAB8ACwAxAAMAEQAFAAsAAgAlAAQABgAFAAoABAAMAAcAAgB4AAEAHAAzACkAAgCOAEsAGAADAEQAPAAaAB0AAQAoABQACAABAAMAOQAMAA4AFAACAAEAGgAsAA8ABgASAAQAIwAVAAYAAQAKAAkAFAAKAEoABgAEAA4AGQATAAEAAwALAAoANQAyAAcAWgANACEAJQEOAA0APAAnAA4AHgADACwADACBAA0ABgAQABgAAgABAA4AcwB\\u002fABUAPwAJAAIAMgAbABYALQAoAAsAOAAYAAIAcwAIAAoAIAAGAAkAAQBvAAUAEgAEAAIAZwBaAEYALgACAAEABQABAC4ABgBNAAkAAQAqAAYAXADFASgAAwAsAA0ADQANACEADAD9AAMARgACAE8ABgAYAAIAEwAfANMABQABAAsACwCIAAsAegCmABoAAQBAAKMAFAADADAABwBfACsAAQD+ABwAAQAUABEABQAgABoAngAFAAYAAgBFARgABgBrAAEAAgAgAH0APAE\\u002fAJMABgBwAgIAWgEkASwAyQBBAOIAEQAtAHIABwADABcAqQBPAJkAAgAEAAYADQCnAIMAPgAFAgEAEwByAKAALwAJAD4ADwBDAIUAAwAoACUAgQE3AAQAHgATACAAJgAFACQAJQABAAkATAACAB0ACAABAAEAAgAKAAMABAACAAYAEQAGAAcAGABGAAgAUABsAAMAWgACAAsAAgAiAAEAOAAwAAMAAgACABsAAQARAC0AOgABABUAHQAmAEMAHQATADMAKgASAAkAAQAHABMAIAAYACEAAQAYACgAHQAVACIAAwAqAAIAKAAVADcACQAIABYAAgAbAAgAFABpAAQACgAPAAEACwAbAAMADgAFABgADAAHAAUAEAAXACwCBQAHADoAPwALAAIAJQA4ACwACwAHAAIAAgACAEwABwANACQABwAXAAoAUwACAAIADQABAAYAAwAFAB4AFQAcADIADQD+ACQAFAAkAAcAAwAeACMAIQAEAAQAAQAFABMATQAFABEADgAbAAEABAAEAAoANwATAD4AEAAWABMAAwA0AAEACQAgAAoACQADABEACQADAAQABAA4AHYAAwAGAGgAIQALAAQAGwALAAUAaAAaABAADwAKABIABgABAAYACAAMAAQACQAaAAMAHQADABkACgAIAAkABQAEAAQAAgACAAgAAQAZABoAEwAsAFYAIAAhAAwAEAAJADAAjgAVAAQACQAGAAYAAQABAA0AGgAWAAEABQAKAAwACwAGAB0AIQAfAAgAEwBbAAwAJwAFADsAJwA5AB4AGAABABYAAQANABQAQgBPAB8ADwA6ADUAHwAPABgAAQABAAQAMgADAAkAAgB\\u002fAAEAGQBnABYARgACACwALgA\\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\\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\\u002fAAMAEAAJACoCmgA0AQEAYAACAEUACQCPAAEAGQAZAAcAIQAFABUAtgAUADwACgABAJYAAQABAEoATwDFAAEABwA5ABIAMwA0ADkAFAANAGECEAAkAB0AAwBUABIAHAABAAMABQDKAAQAwAAZAHwASwIvAB0ACQCIAUcAHwATAEQAqgACAAMAdAC3AA8ADAAFAAwABADVAA0AAgBCAEoAIAARAAUAHAACAAMAFwAWAAIAMQACAAcABgCoAA4AIgAVAAQAHQAaAAEAHQBrAA4AAwACABQBDAADAAIAYwAHAAcABQB\\u002fAAIAAwCtAFsAFgANACYAAwA2AAoADAAwAC0ABwAGABQACQCYAAIAAwAIAEEAHgAJAAIAAQAIAAEAAQDQACsABwATAAEALwACAAIACgACAAQADQADAHkAdQAsABIAAgBdAAEAbwABABMCFQBRAAEACgAfAAkBCAAwAAIABAACAB8ABAAaAAQADwAKAAQAAQCdAQsAAwAFAAkACAADAIwBAgABABQALQAFAAEAWgUGAIUB\\u002fwH2AJsAGgD0AAYAIQABAAoACAAAAQYABQBrACwACQAlABIAAQAXABAAAwAFAAIAAQAxACcABQADALAASgADAAcAzwAdAAYANgAIAAEA\\u002fAEFAAoAVwABAAQA0QBiAAsAGwBFAC4AHwAEAG4ADQAMAAEABgAfAJIBFgAFAB4AAwADACwABwACABAABwABAA4ABwALACMAAgABAAMABQABAAkAEwAEAKQADAAJAAYAZAAPAAEAAwCTAG0AFwACAA8ADQAcAAkAJQAEACIACAAmAFwAHwAJAAcABgBDAAMApAAbAAsABwALAAEAMQAHACMAHwAmAAkAmQAtADkABQABAAgAKgALACoAAQADAIwACQAHAAYAAwAKAEIABAADAAcAAQAJAEUAxQAvAAMAEAA1AAIAEgABAAMAAgAKABoAEwAFACUABQAiAA0AAQAuAAMAHQAIAAgA3AAGAAYAGgEUAK4AGgAQAAEAQQAFADwBIgAJAB0AAQACAAIAAQA7AB8AgQAlAAEABAAiADYACQAPAAEAKgADABkAHQDOACEABAAUAAEACgAKAA4AAQAFAAYACgAIABIAVgAaAGAAJgBjAAkApgECACIAvgEBAC0AGwABACcAEwCNAkUAEAAnAAcAAgAlAF4ABAAWAAEAAgAFAAMApAAqAAEABwA+ABYAAgAmAAoACwAjABgABwABABUACQAUADUABQBBADYACAAJAA0AMgABACMARwA3AAsAAQAJAAIADAAHAAMANAALAAEAwwAJAC4ADgADABoAAwABAAQAPgBWAF0AFQAQAFAAMQALAAUAIAAGACYADQADABAAAQAYABAAAQAtAAYADAAQAAUACQAhAAoADABVAAUASQBuAAUAdQAZAHcAEgDWAAIAAQABAE0ABwAJACEAEAABAAMAGwAQAAsAcwBjACQAAgDrABEABgAEAAQAQwAGAD0BVAACADEABABOAEIABgADAAEACgAGAA0ABwABAAYAAgALABIAAQAJAAQABQAMANoAOAACACYAAgACAAMABgACAAMABQACACgABAABAAMACwA8AAoApQAnAHsACQACABMAAwAXABAACQAUABcAAQAKACIADgAiADkABQAeAC4AHwAKAPcABQAlAFkAAwCxACoARQAHAMEAAgALAAEAHAAIAAMAlAADACAACwBfABcAEwAnAAYAAwAdACcAOgCpAm8ACQBBAAQAEAABAAEABAAoABcACgAHAAsAAwANADMAIAAPAAMAAgACAAEAAwADAAYAMgAKAA4AEQACAA0AsgECAAYAFgAUAAUAHgAbABMAKAABAAEABAAmAAIACwCyAAgAAQADADkABQAMABEABwAKAAIALQAQAEAAHQACAJ4APQECABgADQAHAAcANQAWAAEAHwAjAA8AAgAfADUAAwAKABIADQBBAAEACQAQAAEACwABAA8APAAcAAIABQAMAAcAKwAwADQABwACAFoADgAfABEAEgATAAMAKQAFAAYAAwAUADMADwAwAAYAFwAcABsAMQAbAAsAhwADACAAFgABABEACgABAAIAEgAGAB0ABQAHAAMAAgARABUAKwEEAGIABgAFAAEACQALABMABAAOAAMADQBbAAIACwAKABIAIgDDAAEADgEMAAIADgAIABoAAwBBAA0ACQAdAAEAEgAEABIABgAfAEMAFgAHALIABAACAAQAAgCXABIACAADACwABQAHABIACQAGABMAGgAVAAIAHAABAAsACAATAAcADQAXAAUARgALACcADQADAAcAswAGAAQABQABAAQAGQCFAAoACQAMABwACQANABgACQAHABYAMgAdAAMABgAEAAcAAgANADEAAQADAM8AIQAJAAcAGQAFABMAGwAFABkACQAVABAAHAAKAAMAAQAOAKUARQABAAMAfAAPABIADAACAAUAAgAgADQAEACVAA4AAgBGAAQAAwAEAA4AAQABAAEAMwAMAAEAEQADABUAFwBlAScAIQAdAQEABQAEAGEADAAXAAIADQITACYAfgA\\u002fAFIAEgBIABkABgAYABAAOQAHAAEAHAC4AB4ADgAHAAEAIgAaAHkAJgAOAGMAXwAJAAMAIAAPAA0ABwBDADoAAQC1AhUAAgADABYAAgABAEsBAgAaAM4ANQANACMASwAKAAEADgAbAAEAHADFARYAXgA8AAQADQAvAAgAFwAOAAIAEwAeACoAJAAGAAIASgASACsAAgAJAF0ABgAOAA8AggAjAAwANgBRAA8ABQAzAAcAbwADAAMACQAIAD8AAgD9ApYBAQAGAA4ADAAKACAADAAlAPEAGAAwAA4AAgA5AAgABgAKAKAAHwBDAB8ABAApAAQABgACAC4ABwEVAHkACQASAAQABwAfADMAGgADAAMAGAAzAw4ABQADAHMAlQAiAAEAAgABABIAKQAIAXEAnAAqAI4AAgAPAAQAOAACAAMALAAHAAIAIQDDAAEABwAIAAIAHwFAAAEACwAMAL4ABgABAAEABgAgADEACwA2AAIAGwA4AD0BHAAGAAIAKwAgAAMAEAACAAUAKQAZAAQAFgAWAAQAJQBAAAQAKgAuAAMACAAOABYABAAZAD8AEAA8AG0AHgBIACAAAwAQAAQAGwBwAgMAcAAPAAcAGAAfAAIABwAKAAsAIQAwAAUA2ABCAHkAGAARATUALAACAAIAAQAMAC0ApgBxACQACgAaAC8AIQAOAAgAgQAnAD8AHAAiAAIADQACAAoACQAPAAUANgAFACAABwAHAAEADQAEAAYASgA0ADUABwAfAAkAAgCKAQYACQBeAA0AJwCCACIAFwAfABgAAQAhAAkAFQDgABYAJwAZAHgBDwBwABIBOgAnAEAAAQCmAB8ACAAlAAEAEgAJAB8AJgATAAwAOAAIASwAAQA5AAEADgBgAD8ACAAsAM8ADgAGAEgAigAfAAMAPQAbAAgAPAADAGkACQAIAAUAAQABAEUADwADADIATQFGAAYAAgAIAB8AjAA2AAMAAwAYAAgAJgACAA8AAgAMAAcAAQAEAAUABgABAAgAGwADAAEAAgAgAA0AAwAGABQABwAaAAgAEAAEAA4AAQAtAAMAAwARAAgACAAdABYAAgADAAoACQACAAMACgAEAIMADgA0AJ0ABgAGAAYAIwAtAAEAHgAFADIADgAJAAsAEgAYABsALAAJAAkAAQAUAAIAEwBBAAkAAwAPADQANgAEAEkABwAzAAEAAwACAFEABwA7AAEABgAjAEQBMAARAAQAEAAUAAIABQAJABkAAQAEABsAPgBMAAgABwAQABUAHQBQAAEABAAOABoABwABAAYABAABAA0AAQACADIADAAtABkAIwABAAcAQQAUAA0ALwAFACgAHQAEAAQACgALAAIADAArAAQAEAAbADIACgAHAAkAwgACACQACgAVADQAFgAWAAgA4AA\\u002fACAACAACAI0ADwADAAEACAAFADgACgAGAAUACwASAD8AJAArAAwAAgADAB4ACgATACEAHwA3AAYADQABADgAEQA5AAIAAgAEAAgAAgARAAMALAAXACAACwBLABgAAgAWAB8AJwABAE8APQAyAAQABwASADgAGAABAAgABQAbAAIABwAKAAoABQAZAA0ALwAhAAsACgAUAAEAAQAzAAkAIgACAB0AJgAwAAQAEgAMACEAAwAXABwALwAFACgAEAAMABUAAQAOAAsAHwAsABQADQAGAC0AYABVAAgAkgBEACEABQDhAAIABwAmAAMAHAAdAA4ALQAbAAwAAwAFAEcAiQASAEQAJwA3ACYACAAEACAAFAA5AAMADAAQABcAYAAFAAkAPwAxAAYAMQAXAFgAbwAEABQAFgBCAAMAMQAOAAoAGwAEAAoAPAAGAGkACgAdAAYAAgBTABYAAQAHABgAAQAZACYABQACACUABQBWAB4AHQAqAI0ABQAeACEAGQBiABoALAAHAAIADwARABsAAgAKAAMABQATAAsADgAGAAEABgAJAAEABQAOAAIADwAYAAcADgAbACoAAwADAAUAAQAZACIABgACACQALgABAB4ADwC3ABwAAQAbAC4ABwACACQABQACABcAPgAJAAMAAQACACgAAwAHAAcAHQAuAAUAIQABACMABgAMAAIAJgADABUAEQADAAgADgAHAFAAAgAQADAAEAABAA0AAQAvAGsADQAWADsAKAALABQAGAAtADYACAAYAA4ABAADAAYAAgAFAC4AHwA+ACUALQAUABUAAgAFAAgAAQAFAAMAAQABADUAHABmADMAAwANACQADwAiAAYAEQAlAAsAgAAmAAwAGgAVAAEABgAPAEYAJwABACEAFABSAB8ATgAGACMACgAGAEUADAApAAEALwA4AAgARAAjABMAAgAVAAYABwAfABQALgAyADkAGAARAAIADwADAA0AKQAEAAkAAwARAAwAKAAPAAkADgARAAwAPgAzAAYABwAEAFIACABBAD8AAQADAGoAAgBEAAIAHgAGAAEAKAAyABMALQAJAAsAFQAKAAEABQAOAAcAHwAcABYAFgAxAAkACwACAB0ADgAiACUAAgAvAAEACQARAAMACwAMAAMAAgBNABcAGgAcADAACABTAgoAHQAlADMAEwA0ABAAAQAsAAIAxAAEABUAEgAPADMAKwAOABwAAwAqAAoADAAJABUAFgAFABQALAAPAAIAEQBAADYAFwAHABcAAQARABwAAQALAD8ANgBEADYAJQAfABIAKQARAAkADwAYABYAMAAVAAwAdwAnAAIALwABAAgANQAtACwACwABAAoADgABAAUAKQAJAFMAAwADAAMAAwA0ABcAtAAXAA4AAgDiABQANQARAD8AAgAKABYAEwAZACQAFAAKAAkAAwADABUAvAAhABcAMwAkAA8AHQA2ACMAEwAMAAMAAwABAA8AKQAdABsAMAAeADAAAQAEAAEABwAjAAEAIgAPAAwADQBGAC4ADgAIADUAAQBWADsAAQA5ADYABQAcAAEACwACAAMAAgBDACoAEAAtAAIABwBCABIAEgA1ABkAIwADAAYACAABAAYAEgARAA4ADQAQAAEAKAA0ABAAHAADAAMAAQAIABcACgAEABYALAANAAQAEAAfAE4AAQBaADwADQAjAA4AIAALAAUAJQADAB8AJAClACkAAgAxAAIAJgDIAQQALQALAAEATwBAAFMAFQAOACwAEgABACcARQARAAcABgAsABYACgA0ACAAGQAuAAYAVQAUAC4AZAAEAFEAOQABABAADwAVAA0AFAABACgAGQAlABwAIAASAAMAJwArAAEACQACAAIAAgACACsABAA7AA8AAgAFABQAAQA\\u002fAAsADgArABIAAQAWAF0ATQAGACoAAgABACcAJgATAAUADQAhAFQAKgAFAAQAFQACAB0ACgBFAAYAAgApAAIABAAZAA8ADwAZAAkAIgAQABkAAwA0AFgBCQAwAAQAEQA7AEAALAA5AAoAMgDTABIAAQAXAAcACQApAAQABAAIAA4AIwACAC8AIgACAB0ACQAHAC4AcwANAAIAMwAPAAYAFQASAHcABgAQABgATAACABgARAAIABUABwAFAMAAFQAvAAYAXAAMACwAEwBBAAEAAQARADwASgACADcAIQAyAAcADwACACUAFgAJAEcAAwAHAEIAlAAYAAIAEgAEAAQAGQAFACUAGAAFABIAKQAcAAoATAAXAAcAAgAQAAEABgAiAEwADgAYABUABwAJAA0ABAAJAAMAAQAQAAYAAQAMACYABwAyAAIABgAUAAcAAwAeAAgACwAbAEEAXQAEAAEAAgAYAO0ABAAJACkAAgBCABQACQALAAsAAwAEAB8ABQAfAAYAAwAGAAEAFQAJACgACADIAhEAGgABAAQAAQBgAGoAAwAGAAsAHAACACYAHQBBABoACQAFAAYAHgAFAAMANAAJAAgAAwAJAAIAPAAeAFkAMAByAQEAAQAEADEAMAAnAAoAAQAfAB0AAQAKACkAPgAEAA0ADQAUAHEALAAmABAAFwA+AFwABQAOACcAfAADAIEADAAMABkAJwABACQABAAVAAQANwACACcAdgAEABsABgAhAF8ABAAgAA4ACgBEABEAKQA5AFQAGAACAAIAAgALAAMAJACKAHEAAgBoAA8AAQBKADIAQwAUABcABAADAAIAAwAUAEUACwAOABsAhwBMABoAIAAHABAAlABBAAIAPwAMACIASgAOAAQADQAKAAEAAwAJACgAEgAfAAEAHgAvAAoAAQATAAMAIwAOAAsAKQADAFMAGAAEAC4AOQARAAMALQAJABQACQAQAAEAGAADABoAYAAiABcAGwAGABAAIgCVAAQAAQACAAEAAQBjACoAAQAFAAUAEgAMADIACgAxAAEAEQADAAUAAgAmAB0AGQACALEABAAbADcBKAApACMABAAOAAEAEwI3AAEADQAgADIABwA3AAEABQAMABcAHAACAAUAHgDqAOcBNQAJAAMANwAvABIAEQANACAACAAbADYATgABAC4ARwEfAAIAcgIQAAsACgB1AAYARwAzAA8AQQAyAAsABgAqAB4AKQAcACcAAQADAA4AegEbAAoAFwARAAYAAQAsAA0AAgAOAAIAPgEwAUUAGgAUADMAKwAcAGsALAAFAAIABACsAFsAEQBDAAgAKQAhABgAKQAYAAUAEwABAB8ABgAGAAoAqgBuABAAMQAHAAEAXQC\\u002fCTQAFAAHACYAMQAmAAEAVwADAA4ABgAEAAsAHQAOABgABAALABEAAwCQAQEAIgAQANsAHwCtADEArwADABIAKgABABgADwABAA4AMgARABQAAQABAAcAIgASACYAFQANAD0AkgADADYAAQADAAUAGQA3AAEAHwAEAAgAUQABAFQAUwAIABUAJAArAAwADQADAAQACgASABQAEgApACIBEgAMAQIALAAlAB4AEACeAAgACwADAE0ADgAUACUACwAOAAQAAQABACUACAAOAAkACwCPACoAJAAUACsAEgABAAEACwARAFwAcwFbAQkAbgABAAUABwAEABYABAA2AGkAAwAsAAoABQAOAAQALQAHAGkAAgBHABAACAAIABAAEQADAAYAJQASAAoAAgAYAAkAGgCVAPkAHgALABgAHgAZAC0ADQAKAEUAIAAGAKEBBQAnAAEAFAAhADYAMAAWACkACAABAAcAHAAWAAEABgAjAA4ABwACASsADgAFAB0APgAsAHQAJgB6AA0APgALABoAFwBtABsAAgAJAAgAAQA0ABMA3gABABUACwARAAEAHgAGABUAAgAtABwAFgBcABcAAQAOAD4AAQAHAAEAJQAcACUAAQAVAAEAHQAYAAkACAAEABIAGgAkAFwADwASAAMABAAeAAkAEgAcACMABwCZAAUAEAA+AAIAFgAYAAwAHACMAA0AJAIeABMACgAGAFcAGAANABsALAAEAAEAdQAWAD4AHwBYAC8AFgAEAEEBOgBaAAgADAADAAIAAwBTAEoABQAdAAMAAQABAAQAAwAnAAIAcQAfACMAFgAVAAQALQAyAAMAAgDJACQAAwAPABoAEgAEAAQABAAoAAgADQBlAAkAFwAQACkABwAFAAsALQBjACwALAABAAcAJQAZABYALwAnAKUABAA+AKgAFgAeABcACAChABoAAwAfABsAeAAqADIAGwAHADQABwA0ABgAEgAKAAYAEwACAAUABAALAeEA2gASAAABCAACAAoAFAAEAAQADQABABMATgBGAC0ACQACAKQBLwAEADIAFgADAAIADQAPAPsAAwAEAAQAFwAJAG4CCwAJAGQAmQANAAgAGQARAAYAEwAVAAIAGQACAEwACQDEACEAJwAHASwAGwAIACoACQAgAAUANwAzAAoAAQACACYAAgATAAQABgADABAAEQBNAAUADQIlAAQAhwAFAAsAAgAEAAcAGQAHAGgAAQAFAAQAxwAOAAEAKwAVAAIABACfAAkACwD7AXkBOwACAAMAHgAoAA8AFQAKADIACwAbAAIACAACAAMAHwADAAEAUAAIAFkAAwArACMABQACAA8AIwABAAMAGABdAAYABAAFADoAJAA2AA8ACQAUAAoAiwARAGcAHwAyAFAAEgATAAEACwAGAVkAKgDPAAgAtAABAAcAWAAXACYAEwARACAAYgDkADwAIAAEAJIAAQAFAAgBBwDXAJYABwAoAAIAIAACAC4AQgACAAsAJAAtABsAAQA0ACQABAACAAcAAQADAA4AAwAKAAUAHwALAEkABwBFAAkABAAmAAQAAgAjAAYABAA6AAYAKgAVAAYABwAVAKcAOwEBAIYAGQAXAH8AAgAXAB4ASgCJAE0AMgAFABYAKwDZAQYAAQAFAAIAAgADAAEA4AAMAAIAAQCAAFAAGgA4AC4BIwADAAsAFwAwAAoAHABVAA8ARgADABUALAIHAA0AFAAJADwBAwADABEABwASACAASQAFAB0ABABuADgAFQECACkALAAgADoATQAHABsAwwApABkACAALAAEAAQAGACMACAApAC8ADwCIAAMAFQAUACUAAwAMAAMADgATABAAHgAMAAQACwANACcADQAiAAQAMQAPAB0AQAAqAK8AGAAZAAEANwAEAAMAUwABAA4ABQBAAAsAJwATAAkAEgAMAAgASQAbABwAfwAHAA0ABgAnADAAEQAnAAUAAQALAAcA7wIVAAcACAAVABQAgwA1ABQAEwApABoACQBCACAAbwAUABUCEAABAAoAFgCVAEUADwAHAMAAAQAUACQAFwAJAAMAAQAxAAQACAEGAAMAHwABACEARwABABgAHQACAJsAIAA5AAUADgACABoAAgD8AR0ADQALAAUAUABMAAEAAQACAB8ABgAnAAcANwBlAAEACQACAFoAAgAQACsBAgAGAAoABwAbABUAAwAiADYBSQAuAAIAIgATABoAggAmAAsADQAUAAQAMgAJACsAVAASAFcAYAAQADkAEQAYAAkAAQAKACIACAACADEAKAADAB0ACQAKABgAPADEAAEAAgAIAEUAIwA7ABwALgADACAADQACAAoAZgALAOkACAADABMAFAABAAsAEAADAHcACQAlAEYAAQAfAH4A3gFLAAEAAgATABwAigAbAAEABgAQAAgADAAoAPgA9AAzACIAAwA3AAwANAAFABMAJQAkAEIAGgADAEEBBwBEABoAOQBeAQEABABaABYACwAYAAQAHQAcAAcAKAACACsABAAKAAwABwAOABAABwAuAAQABQABAFcAIQADAA0ABgAMADUAAQAIAAkAAwBFAAsAFgA1AAIADgAbAAEAKQADAB4ATgABAB4AFwAiACwAAQAlAEUAMACMARkAEwABACgABgAIAAgAEAAHAB4AmAALABoACQAmASkADQAVACkABgACAAIAGgADADUAOQAEAAEAAgADAFoAAQCVAB8AwQADAAcAJAC8AAIABwAIAAkAigANACwAFQAZABwAEgAZAEoADABIACEARQAMAAoAQgAWAAgAAQAlAB8ALQACAAEABQAEAAoAAQAEAAwAGgAQABQAEwAFACMABQAiAAEARAAZAAgAKgAaAAIAEQAfABgAFQAMAAYAFgABAAIAHgA3ABQAAgARABcADwACAHoAAQAIACgACgADAAIAzgA\\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\\u002fAAgAKAABADEAAQBNAK8AMgAqAA4AQAASACIASwAJAAkAGQAPABYAGAAHADkADwAoAAEABAAgACkADgAvAA8AFwAYAAoAAgAUADEAFAAXAEEADwAEAAIAAgABAAIAYwAKAB4ACgBOADEABACDARIAFwABAFkACgAKAAQADwAGAAIACgABAAcABQAyAAMACQABAFIAHAACAE4AIQA3ACsAFQATAC0AAgACACcAVAAgAAoACAAJAAQACwAjABoAAgAEADwACwAeAFYAHAARAAYAAQABAA4AGgAEADMALgADAAsAJgAFACEA+gEVACsAAwAPADQAFQABACEAAwACAAIAHAAFAAkAIAAYADUAEQAOACgAAgA5AAoAIwAbACYAAgAOAAEAAwAFAAwAFQACAAEADgArAAwAJQAXADMAGAAfAAsACQAKAAUAAgA2AC0AFwADAAEAIgAMAAgAAwAFAAEALgAIAFIAVgAVACUAFwAeAEMBEQAGAAEAFwAaABAACAAOAD0AFgAKAAkAEAAMAA4ANQANAJwAVAAKAAUABABKAAcANgAdAAIAFgABAAoAGgABACIABwACABcAIAABAEcAIQAZAAYAGAACAAoAAwAgADAAAQAKAFwADQBnABkANAAWACwAKwAFABYAEgAFAAcABgAKAAsADgCgAFQAWAA0ACAAFAASAAQAFQAEAAQABgAXAA8ADgAqAAEATgAdAAcAGAAIADUABAAHAAEAOAACADgACAABAAsAAgABAAsAEgACABcAGAAKAAEAFgAKAB4AAQA8AC8ANwAIAAcABQAeAAQASQABAAMAIgACAAgALAAhAAIARgACACQACQAVACMADAAjABUABQA0ABkAHQEDAB0ACwAFAAEABgAFABAANAABAAQABwAVAAIADwA8AB0AEgAGAAYALwABAFoATQBmAAcAJgASABUAFwACABUAAQAuABEAAgAOAAEATwARAC0AJQAsABMAIwEcACsAQgABAAEABAAOAAEAJwAdAEMBcgAuACkAcQAEAAoADQAeAAUAHAANAAQAWAAtAAIALAAIAEEAggAvACwADwABAAMAIAACAEAAKAAVAEcAAQAbAAkAGQASAAEACwABABIABgAHAB0AJQAGAAUAJgAJACwABgACAAQAAgAfAAgAAwACABkACwAYAAsAKQAWAAIABAAlAE8AFgAUABQAFAA\\u002fAAkAEAAjAAUADAAQAAUAEgBHADEAFQAZABEAJgABAPABKQBLAAsAIwAzAAsAMwABABEAPQB2AEkAIQAUAAQAJwAdAAIAGQAaAA8AHAAlAG0AEwAMACkANwASACkABwACAAwACgABABUABQAHABEAAgAVABIAKwALABMABQBNABcAEQBOABEAEgAUAAEAAgALAAUAFQADAA0AKgALAAUACAAJAAIAEgAEACEAJQAIABsAGgA2AAEAKgAsAAwAJgAGAAMABwADAAYALwACAAQAAgAtACQAGwAJAAwAGgAWABEAEQANAAQADwASABoACAASAAEAHAAJABYABgABACkAEwBZAEEAHABzADQAHgAjAAoAFwADAAMACAAPAAIACgAZAAcAAQAiAAwAGgCGABIAOQAZABIACgAHABUANAAWAAkAPAADADUABgBvAE4AAgD7AAIAGAABAAUACgEDAA0AAgC\\u002fAGsBeQAWAAQALAADABYAQgABABwAAwAFACIAAQAHAA8AFwAbABQAAQA1AEUAhAADAAIAEAABABIACABIAAYACgAHAAUADAAEACEADQBCABcAgQAaATYARgAQABkABQAfADUALwAFAAMADQBfADAAaACVABsAMAAFAAQAAgAfAB4AKwAbAAwAFwAaAEQAAgALAAEADwAPANkBIwAIABMAAgAuAAMAqgACAAoADgABAAEAHwB0ADkAHQAZAAQAFwAwAAEAAQAfAAMAAQACAAIAmgADADcA1QAzAA4ABQABAEUADwBJAAIAFQALAAwAFAAFAFwAAQACACAADAABAEQALAAgAAUABAAkACYAFAABAAUABABMAAcAAQABAAsAMwAKACsACQAOACUAEAAFAAgAAgAGAAEAAgANALkAAQAOAAEABAASAAIAAwAHAAIANwAEAAUAAQACABUABQAMAC8AAgAHALsAJwAFABoAGAASAAgACAAiAAsAHAADAAsADQAHAAoALAABAAIAAwANAAQADQAmAAoAFwANAAkAIwArAD4AOQAiAAEADgA1AAsAAwAEAAEABAAZACAACABiABMAAQA\\u002fAAYALgCPAAIANQARAB0BGAAFAA0AHgAPAC4AAQDlAKIAFQAEAAIACAAMAAEAEAAMABsBHwADAEIAJAABABgAAgAQAAEACgAzABoAAQABAAgABwAKACoADwAbAAEACgADAAIAEwA\\u002fACcADwAHAAoADAAMAAIAFgDtAgIABQACAGsABAAfAIIACgANABYAKQAjAAwAIwAoACEAHgAGAJ0AJAAxAA4ABwAGAB8ADwBDABEADQAGAMYAEQDXAAEAIQA5AEsADAABABEACgDiAAgAFABIAH4AAQAEACoAWAAIAEgAHAACAAEAGgAFADcAIwAFABAAEwAUAC0ACQAjA0UABQAhABUAGwAPACsBBwArAAEAGwAbABcAFwAdAAUAGADgAQwAAQAUABUABgACAAQACAABABYACgAIAAgAFAABAAkAJQAHAAoAEgAsABUABwBlACQAzQEDACsAAwAKABYALwAcADsAEgABAA8AKQASAAMABAAcAAMACAABABoABAABABUANAAGAB4AIQB2AAoAFAAPACYAKQAEAAcAAQANAA4AGgBMAGYADgAFAAEABgAYAC4AIQAYAAgAEAABAFsAQQAsAAIABwACAK0ABwABAAgAHQAMABoABgADAHcAIAAqAAEAZgAbAAYAUAAIAAYAEQAEAAEAAwDOABgAFAAGAAUAHQAkAAIAFAAMACMABAAeAE4AAQDfAAsADQBoAAYADgAXACsAAQARAKQATgAgAB8AJgAFAAwADAAdAAMAAQAXAA4ABAAMAAMAAgADACYAAQAsAAsASgADAAMADAAEAAEAPwAfABYADgCNAAsAAgAcAAgABQAdABIACQACAAQADABiASwAAgAGADoACwA3AAEAGQAUAIcACQAGACkAAQBPAA0ANgAbAA0AJQAsAHUAHgACABEAAQArAL0AAQAHAF8AsgEFAAEAaAA\\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\\u002fADsAAwACABUAAwAcAAsAJAAKAAwACgABAMkAPwABAO0AAQARAAEADAAYAAIASABAADAAKAALAGsAMgAoACgARQBYAB4ABAALADsAFAAPAAkAFwAFAA0AMwABACIAbAAIAB4ADgAFADQALwAFAAgACQAJAAcAcwCFAAEABAAHAAEAEwAEABEAQgAyABsAHwAFAAwAVgAIAAEACQARACIAFAA\\u002fADEAFAABAEEAGgA0AFMACAABAAsAKAArABcA7QCMAA0AIAAWAAIAMQABACwAHwAxABYABQAvAAcALwAPAA8ABQAvAAIAHAANAAMAAQAdAAMAMgBLAK0ABQAIAAwAHwAOAAcAIAAnAAMAFQACADEADQASAFoAPQCZABsAAwAcAAsALwBWAAIABQA+AAIAAgASACwACgANABMAGQAUACAAAQAHAG8BAgBBABEACQAnAEgACgAJAAMAEwAUADoAQgA9ABQABAAOAAYAbwAuABIAHABXAAQAAQBAABUABQDPABcAEQARABAANAAoACcAFgBuAAQAjAABAAkACwAOABIAFwBLABUACgADAAMAKgAaAAcABwATABEACwAQAB0ABAAkAAEACgAIAHoAMAACAAEAGgACADYADAADAEIAFwAjAAIBAgAIAAcAFQAfAAUADwABACsACgACAAUAAQAMAA0AAQAJAAsAAQAPAAEAAQANAAsAGAAIABcADgALAA0AOgACAAUACAAPACQAAQABAAYAAQADABcAEAADAAIABQAcAAkAAwAdAAIABAACABAAAQATAAQABAAkAAcAAQAIAAEAHAAPAAIAAQAXAA4AAQAOAAgAAgABAAgAAQAIABAAEQAJAAUAAQABAA4ADAAUAAsABwACAAEACQANAAUABgABAAIACgAJAA4AAQAFAAQAAwAKAAgADAAHAAYABgAzAAQACwAEABcAJwANAAMABAAJAAEAAgAhAD8AAgAKABEABwAmAAcAQwAPAAgAHQABAA4AIgAPAAMALwAHAAQAOwALAAEAAgAWAAoAHAADAA0AAgAFABUABgABABcAAgAGAAEAAgAIAAoARgAPADQAAQAkABMABAA3AAYAKQDWAQoABAABAAMADgAGAAEAXwARAEYACADTARMAQQAdAKMACQADAAUAAQBaABYAKAAcADQABwADAB8AAwARAA0AAQADAAoABAAJAAoAAwADAAIAAQAEAAoABgARAAUADwACACIADAACAFIADgABAAoAEAACAAoAFwCfAAUAEgAJAAkAFQACAAEADAAPAAUABAADABkAtAAEAFAABAACAAIAYQATAAQAHAACAA0AAQABABEABAADAAIAZAAuAAIAAgAdAAQAAgABAAsABQADAAEADAABAA4AHAAbAAkABQAMADoABQC0ABQABQAUAC4AGAAwABQAAQAqAAYABwADAEwABAABAAUABwAEAAoAGwAGAAoACAABACQAVwADAAcAAgAnAAEAqgAjAF8AgwAHAAcABQAQAAQAagACABMAAQABABIACQA7ACkAEAAWAEwAUAAGACAAIAAFACwALQACAAUAAgAGAAEABgACABIACgAUAAQACQAiALYABAAQACEALAANACQABAADAB8AAgACAAMACQCbAAEAHwAgAC4AAQACAAoAAQAFAAwAAQACADgAEQACAAkABAAGAA8AAgAGAAYADgAJAD8AAQAYAAQAAQACAAQAEAAJACUANwABAAEARAAHAAwABAANAAsADQAWACIACwATADYAJgAUAAoAEgALAA8AEAADAAEABQAHAAIADgAeACoAEwAZABMABQAYAAEADABWAAcACgARAAIAFwAEAAoABQAdAAEAAQABAAEAFAACAAEADQAwABMAKAAKADwAAQAJADoAMAAZABMABQABAAEABgAWAAEAAgADADYACAABAAsAHAALABMAEwAVAAIAJgAMACgAFAAqACMACQAIAAIAEgAMAAUAAwAIABsAsAE\\u002fAAQAAQAbAAMAJAA1ABEAjQAiAB0ABAAwAAIAAwAEAAMACwAGABMAAgACAAkAJwAHACMAAgADAAcAIwACAAIAAQASAAEAeQAHAAMAAgAlAAEADAA6AAIACgAZADMAAQAVACgABAABAEIACQACABgACAAEAAkAKgAFAAIAAgAwAAcADQAPAAoAjAAXAAQABwD\\u002fAAYADAAVAAIAHQChAAkABgAjACIACQAMABgALQABABkACgAlAAYAAQA3AAEAFgA6AAMAGAAXAAcABwAHAAQACwAQABkAAwACABMACgAXABcALgABAAMASABIAAEALQAdAAQABwAFAAgADQAHAAIABAAfABkAYQADABAAPQA3AHQBAgAiAE4ACgAFAAoAGADZADUAFgAEAAwAAQANACQACgADACAAEAABAAIAHQAUACYAAQASAAEAAgAZAA4AIAAFACIAFgAwAFwADAFuACMACgARAAUAAgABAC0AJQARAE4ADgAEAAQADQAfAAMAAwAPAAQAAQADAAgABAAGABUALQAUABIAIwAqABYADwAuAAsA4gEBAA8AAQAEAAsAAQATAEcADAAyAAQAKAAoAAcALAAIAEwCEAANAAYACABSADkAGgABABgAEAACAAkACgBdAAEACgA8AAsAAQACAAEAEQAHAAEAIwBUABcAFQAoAAkAIQA+AAwACQABACEAAwASACEABAAFAB8AHQAEABMALAAYACoALQAcAAoACQAOAAMAIwAHAA4ABQACABQAEQAeAAgAAgAbAAEAGAAMAAIAHgAJABgADgB4AAkADQABAAIAGgA6AAQACAABAAIAFwAbABsAGQAZAPIABQAOAA0ACwALAAMADwBaAAYAFwAEAAgAMQA7AAUACAACAAIAOAABAAEAJAAaABAAAQADAAQACgACABoAOAAGAAMAGgAdABEAAQABACMAEQAoAAkAAwACAC0ARQABAAMABgAVAAMAiQAVAAwAAgAiAAQAJQACAAkAHQApAA8ARQAGAAEADgAMADUAEwAIAF4ADQAgADgASgALAAgABQBOAAcABADEACAA8gAjADoAAwAcAA0ACgALABUABQAGAAMADAABACoARwAiAAIACgAIAAQAJQAVACcACwAjAAEAPwAEAAkATQAMADMAxQAFAC8ABgAGAQoABwASAAcAAQAjAAoADAAEAAcAFgAYAAwABwAjAAcABgAGABMABQAGAAkABQAFAK0ADQAoAJkACQArAAUAOwAVAAoACAAkABsADQFEABEAAgBAAAUACgAiAEEAFABBAAoACwAUACsAAwATAAUAVgAEACIAGAAHAAMALgABAA4AAQAjAA0ABQAwAEIAEAABABQAEwAEAAwAAQANAAIABQADABYA\\u002fgEeADsAAQACAE8AAgAIABMANQAEAAIAAQAKACUARQCjAB0ANQAYAAMABQBMABgAGQAGACUALgALABAAFQAGABEADABRAEwAYQBYAAYAAQALABwADABjAAEAFAAEAJ4AAgAdAAEAQAA\\u002fACAAGwAhABYAKgAmAMEAJQAEADkAEgA8AL8AZgAXAAIAHQACABIAMADJAUUAPwAmAAMAAwARAP0AFgAMAAMABABRABYAWgAhAQwAdAABACgAxgAKAA0AAQAsAAwAAQABAAwADAMIADoAVgAzABIAJwAFAB8AOAAfAP8ABACjABAADAAFABQAiwAYAGYAAQAaAAIACAAZAAIADgAIAAMAJwDWAAMABQAEAAQAOQAXAAIAQQAlAEcAFAAIABIAAQAIAFAA8gA9ACYANQAJAEAARgMBAAIABQAoADMAXwBXAgYAGQA9AA8A0QAGAB0ACwAEAAwAAQApACUAJwAGAAIABAALAEMAAQA0AAoAxQAEAHIBMgABAAkADAABAAkA8QWKADwAHAAIAAEAJwAZAIcCBwAIAAEAvQEDAAIAAQAUABQAGwAxACoAGAAfAAgAAQAXAAEAkwA2AAMALwCdAAUAAgAEAAsARgEOALMADAANAE0ACgAhADwAVAAXABkAHAAyAAMACACoADAACQASAAIAAQAWAAgABQB2AHsABAAHAAYADAALAHEAAQDkAAcAAgAPAAgARABZAS0AJgAOALMAAQAEAE4AKwCqAmgASABXAGIAIAA8AAMAFQABAC4AAwAkABgANgAdAAYAEgAGAA8AFAA7AAUAVQAQAL8BAQBlAUoAGgAIAAgAJQDQAJcCAgChAAoAOQAUABoACwACAAQAEgACAB0AAQAcAAQABgABAEMAFgAHAAIAXQAhAAEAmgADAEIAAwAfAAoAJQASAAIAGwClAAQAAQAQAAIA0wA0AAEACQABAAIAAQCjAA0AGwBeAlYAAQAgAA4ABgC8AxQABABfAAUALgBHAAUAPQA\\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\\u002fQACAAMADAABAAYADQAHAAgAAgAFAAQAPwADAAEAQAAtAAEAAQAtABAAGwAKABEACQADAB4AAgAgACkABAABAAkAAgABABoABQABAAIAJgAFAGMACwAyAAkABAACADcAMgAMAAEABAABACMADgAEAA0AAwAOAAEAEQAmABcANwAGABcAAQACACcABAAnAHUADQC5AAwAFQABAA0APgESAA0AFQAVAAMAAgBrABsAJAAXAC8AgABVACYABgBeAAsAOQAIAAMADwCDAEQAgQACAAEALgAZAAMAHgAmAB0ACgAHACgAGAA3ACYAAwAOAC8AEAAFAGEAEgBGABoALQAMAA8ACwAzADMAAgAMAAcAJABIACMAFAAMAAsAHQAaAAcAAQAUACQAGgAfABcAAwAKAA0AFgAZAAcANAAkACQAIwBYADcAGQAXAHUAAQAPAAcAIQAEAAgAMwAMABAAKgAEAAgAWgAeABUAAQANABwAHAASAB0AAwA3AAwADwAGAAgAFAADAA4AAgAMABwAAQABAA4AEQAKAAcAAQAPABYACQAHAAwABgAZABcAAgARAAwACgACAAMADgAWAAEAGgAIAAsAJAAPAAEABgABAAsAFwABAAYAAgAEAAIACgABAAUACwATAAMADwACABIAuAAMAA0ACQAOALIAEwAEACgAkwAzADEAAQAJAAEADgAjAA4AEABsASEAIgAKAAgACwD6ALwCAwAjAAIACQBMAAQAGQBgACkADQABAAEAAgACAAMACgAMAAkAAQATAAwABgAEAAQABgARAAEAAgAQAAEABQACAAMACgAKAAEAOQABAAEAAgAHAAIADAAKAAIAAQATAAYAAgAIAAMAEQAHAAQAAwAWACsAAQAOAAEAEQAEAAIABgADAAQAvQAFAAgAAQAFAAcACQAFABoAUgAMABAAKQABABAAAwAFABkACAAuAAMAAwAKAAgAkgAJAAMAFAAGABcAAgAMAAIAAQAZAAEAAgABAAIAAgAOAA4AAQAHAAgAEwAFAAEABQAHAAIAAgABAAEAAgADAAEABgAGAAEAAgAMAAgAAQABACoAHgAmAAoADQABAEgABgCWAB0AEAAFAAgARgAHACQAKwAWABMAIgAVAA8AKAAOAAQAAQAfAAYAAwABAAQAAQAfAAIAAQABAAEAAgASAAMAAQAFAAcAHwByAAgABgAGAAEACAABAA4ASQALAAQARAAnAAkAEQASAAoAAQABAA4ABAAdAA4ASwADABIAAgAIAA8AHQAJAAkABAAdABIAEQABAAEAIAABAAIAEAAGACYACAABAAoAAQABAAcAEQAeAAcAAQAVABoADwADAAIALwABAAgAAQABAC8ABwApABAAAwAHAJgAfAAOAAQAFwAEAAwACQAKADIAJQABACEABABfABIACQAdAAUACAAiAAEAIgAEAAMADwBiACIACQACAAIANQABAAUAAQACAA0AFQA7ADQAAQAPAAIAAQAGACEADQANAAcAHAB1ABgABgAsAAwAGgAVAAcAAQAFACgAEQARAAEAKwCLAAQAAQAWAAgAAQAlAAEADQAJAGwABAAmAAEAEgB\\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\\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\\u002fABkAQwALADQAFAACABwAEQAPAAQACwADADkANAAHAB4AlAAqAAIAMwCkAB0AAQAKAB8AOAAXAFIAJAAvAHAAAwA9ASwAFQAjAAkALgACACUAAwAeABcAJwAJAAQAKgAvAAUADQADAA0ABgAMAB4AAwADAAEAAwAGAAkAIgAiABgANgA0AB8AAwAwABgALAAMACAAAgAoACYAHAASADEADwABACUAHQBKACUAAgABAAsAAQBEAA0ABwAVAAEALAAaAEMANgAmAAUAAgAlAA4AJwAIAEsANQAYAAkAFwAuAC0AFAAfABUAAgAIAAQAAwAgAAUAFQAyABEAQAAdACQAFAAPAGUANgAzAD0AKAAEAAEALgAJAAMAAQA9ACkABAARAAMAAwATAAEAIwAKAA0AAwAjAAIAJgApAEMADAAdAAYAFgAaABcADwAbAAQAAgAYABEAGwAhACMALwABAAgAJAAEABMALwAGABIABAAGAB0AQQA=\"},\"xaxis\":\"x\",\"yaxis\":\"y\",\"type\":\"histogram\"}],                        {\"template\":{\"data\":{\"barpolar\":[{\"marker\":{\"line\":{\"color\":\"white\",\"width\":0.5},\"pattern\":{\"fillmode\":\"overlay\",\"size\":10,\"solidity\":0.2}},\"type\":\"barpolar\"}],\"bar\":[{\"error_x\":{\"color\":\"#2a3f5f\"},\"error_y\":{\"color\":\"#2a3f5f\"},\"marker\":{\"line\":{\"color\":\"white\",\"width\":0.5},\"pattern\":{\"fillmode\":\"overlay\",\"size\":10,\"solidity\":0.2}},\"type\":\"bar\"}],\"carpet\":[{\"aaxis\":{\"endlinecolor\":\"#2a3f5f\",\"gridcolor\":\"#C8D4E3\",\"linecolor\":\"#C8D4E3\",\"minorgridcolor\":\"#C8D4E3\",\"startlinecolor\":\"#2a3f5f\"},\"baxis\":{\"endlinecolor\":\"#2a3f5f\",\"gridcolor\":\"#C8D4E3\",\"linecolor\":\"#C8D4E3\",\"minorgridcolor\":\"#C8D4E3\",\"startlinecolor\":\"#2a3f5f\"},\"type\":\"carpet\"}],\"choropleth\":[{\"colorbar\":{\"outlinewidth\":0,\"ticks\":\"\"},\"type\":\"choropleth\"}],\"contourcarpet\":[{\"colorbar\":{\"outlinewidth\":0,\"ticks\":\"\"},\"type\":\"contourcarpet\"}],\"contour\":[{\"colorbar\":{\"outlinewidth\":0,\"ticks\":\"\"},\"colorscale\":[[0.0,\"#0d0887\"],[0.1111111111111111,\"#46039f\"],[0.2222222222222222,\"#7201a8\"],[0.3333333333333333,\"#9c179e\"],[0.4444444444444444,\"#bd3786\"],[0.5555555555555556,\"#d8576b\"],[0.6666666666666666,\"#ed7953\"],[0.7777777777777778,\"#fb9f3a\"],[0.8888888888888888,\"#fdca26\"],[1.0,\"#f0f921\"]],\"type\":\"contour\"}],\"heatmap\":[{\"colorbar\":{\"outlinewidth\":0,\"ticks\":\"\"},\"colorscale\":[[0.0,\"#0d0887\"],[0.1111111111111111,\"#46039f\"],[0.2222222222222222,\"#7201a8\"],[0.3333333333333333,\"#9c179e\"],[0.4444444444444444,\"#bd3786\"],[0.5555555555555556,\"#d8576b\"],[0.6666666666666666,\"#ed7953\"],[0.7777777777777778,\"#fb9f3a\"],[0.8888888888888888,\"#fdca26\"],[1.0,\"#f0f921\"]],\"type\":\"heatmap\"}],\"histogram2dcontour\":[{\"colorbar\":{\"outlinewidth\":0,\"ticks\":\"\"},\"colorscale\":[[0.0,\"#0d0887\"],[0.1111111111111111,\"#46039f\"],[0.2222222222222222,\"#7201a8\"],[0.3333333333333333,\"#9c179e\"],[0.4444444444444444,\"#bd3786\"],[0.5555555555555556,\"#d8576b\"],[0.6666666666666666,\"#ed7953\"],[0.7777777777777778,\"#fb9f3a\"],[0.8888888888888888,\"#fdca26\"],[1.0,\"#f0f921\"]],\"type\":\"histogram2dcontour\"}],\"histogram2d\":[{\"colorbar\":{\"outlinewidth\":0,\"ticks\":\"\"},\"colorscale\":[[0.0,\"#0d0887\"],[0.1111111111111111,\"#46039f\"],[0.2222222222222222,\"#7201a8\"],[0.3333333333333333,\"#9c179e\"],[0.4444444444444444,\"#bd3786\"],[0.5555555555555556,\"#d8576b\"],[0.6666666666666666,\"#ed7953\"],[0.7777777777777778,\"#fb9f3a\"],[0.8888888888888888,\"#fdca26\"],[1.0,\"#f0f921\"]],\"type\":\"histogram2d\"}],\"histogram\":[{\"marker\":{\"pattern\":{\"fillmode\":\"overlay\",\"size\":10,\"solidity\":0.2}},\"type\":\"histogram\"}],\"mesh3d\":[{\"colorbar\":{\"outlinewidth\":0,\"ticks\":\"\"},\"type\":\"mesh3d\"}],\"parcoords\":[{\"line\":{\"colorbar\":{\"outlinewidth\":0,\"ticks\":\"\"}},\"type\":\"parcoords\"}],\"pie\":[{\"automargin\":true,\"type\":\"pie\"}],\"scatter3d\":[{\"line\":{\"colorbar\":{\"outlinewidth\":0,\"ticks\":\"\"}},\"marker\":{\"colorbar\":{\"outlinewidth\":0,\"ticks\":\"\"}},\"type\":\"scatter3d\"}],\"scattercarpet\":[{\"marker\":{\"colorbar\":{\"outlinewidth\":0,\"ticks\":\"\"}},\"type\":\"scattercarpet\"}],\"scattergeo\":[{\"marker\":{\"colorbar\":{\"outlinewidth\":0,\"ticks\":\"\"}},\"type\":\"scattergeo\"}],\"scattergl\":[{\"marker\":{\"colorbar\":{\"outlinewidth\":0,\"ticks\":\"\"}},\"type\":\"scattergl\"}],\"scattermapbox\":[{\"marker\":{\"colorbar\":{\"outlinewidth\":0,\"ticks\":\"\"}},\"type\":\"scattermapbox\"}],\"scattermap\":[{\"marker\":{\"colorbar\":{\"outlinewidth\":0,\"ticks\":\"\"}},\"type\":\"scattermap\"}],\"scatterpolargl\":[{\"marker\":{\"colorbar\":{\"outlinewidth\":0,\"ticks\":\"\"}},\"type\":\"scatterpolargl\"}],\"scatterpolar\":[{\"marker\":{\"colorbar\":{\"outlinewidth\":0,\"ticks\":\"\"}},\"type\":\"scatterpolar\"}],\"scatter\":[{\"fillpattern\":{\"fillmode\":\"overlay\",\"size\":10,\"solidity\":0.2},\"type\":\"scatter\"}],\"scatterternary\":[{\"marker\":{\"colorbar\":{\"outlinewidth\":0,\"ticks\":\"\"}},\"type\":\"scatterternary\"}],\"surface\":[{\"colorbar\":{\"outlinewidth\":0,\"ticks\":\"\"},\"colorscale\":[[0.0,\"#0d0887\"],[0.1111111111111111,\"#46039f\"],[0.2222222222222222,\"#7201a8\"],[0.3333333333333333,\"#9c179e\"],[0.4444444444444444,\"#bd3786\"],[0.5555555555555556,\"#d8576b\"],[0.6666666666666666,\"#ed7953\"],[0.7777777777777778,\"#fb9f3a\"],[0.8888888888888888,\"#fdca26\"],[1.0,\"#f0f921\"]],\"type\":\"surface\"}],\"table\":[{\"cells\":{\"fill\":{\"color\":\"#EBF0F8\"},\"line\":{\"color\":\"white\"}},\"header\":{\"fill\":{\"color\":\"#C8D4E3\"},\"line\":{\"color\":\"white\"}},\"type\":\"table\"}]},\"layout\":{\"annotationdefaults\":{\"arrowcolor\":\"#2a3f5f\",\"arrowhead\":0,\"arrowwidth\":1},\"autotypenumbers\":\"strict\",\"coloraxis\":{\"colorbar\":{\"outlinewidth\":0,\"ticks\":\"\"}},\"colorscale\":{\"diverging\":[[0,\"#8e0152\"],[0.1,\"#c51b7d\"],[0.2,\"#de77ae\"],[0.3,\"#f1b6da\"],[0.4,\"#fde0ef\"],[0.5,\"#f7f7f7\"],[0.6,\"#e6f5d0\"],[0.7,\"#b8e186\"],[0.8,\"#7fbc41\"],[0.9,\"#4d9221\"],[1,\"#276419\"]],\"sequential\":[[0.0,\"#0d0887\"],[0.1111111111111111,\"#46039f\"],[0.2222222222222222,\"#7201a8\"],[0.3333333333333333,\"#9c179e\"],[0.4444444444444444,\"#bd3786\"],[0.5555555555555556,\"#d8576b\"],[0.6666666666666666,\"#ed7953\"],[0.7777777777777778,\"#fb9f3a\"],[0.8888888888888888,\"#fdca26\"],[1.0,\"#f0f921\"]],\"sequentialminus\":[[0.0,\"#0d0887\"],[0.1111111111111111,\"#46039f\"],[0.2222222222222222,\"#7201a8\"],[0.3333333333333333,\"#9c179e\"],[0.4444444444444444,\"#bd3786\"],[0.5555555555555556,\"#d8576b\"],[0.6666666666666666,\"#ed7953\"],[0.7777777777777778,\"#fb9f3a\"],[0.8888888888888888,\"#fdca26\"],[1.0,\"#f0f921\"]]},\"colorway\":[\"#636efa\",\"#EF553B\",\"#00cc96\",\"#ab63fa\",\"#FFA15A\",\"#19d3f3\",\"#FF6692\",\"#B6E880\",\"#FF97FF\",\"#FECB52\"],\"font\":{\"color\":\"#2a3f5f\"},\"geo\":{\"bgcolor\":\"white\",\"lakecolor\":\"white\",\"landcolor\":\"white\",\"showlakes\":true,\"showland\":true,\"subunitcolor\":\"#C8D4E3\"},\"hoverlabel\":{\"align\":\"left\"},\"hovermode\":\"closest\",\"mapbox\":{\"style\":\"light\"},\"paper_bgcolor\":\"white\",\"plot_bgcolor\":\"white\",\"polar\":{\"angularaxis\":{\"gridcolor\":\"#EBF0F8\",\"linecolor\":\"#EBF0F8\",\"ticks\":\"\"},\"bgcolor\":\"white\",\"radialaxis\":{\"gridcolor\":\"#EBF0F8\",\"linecolor\":\"#EBF0F8\",\"ticks\":\"\"}},\"scene\":{\"xaxis\":{\"backgroundcolor\":\"white\",\"gridcolor\":\"#DFE8F3\",\"gridwidth\":2,\"linecolor\":\"#EBF0F8\",\"showbackground\":true,\"ticks\":\"\",\"zerolinecolor\":\"#EBF0F8\"},\"yaxis\":{\"backgroundcolor\":\"white\",\"gridcolor\":\"#DFE8F3\",\"gridwidth\":2,\"linecolor\":\"#EBF0F8\",\"showbackground\":true,\"ticks\":\"\",\"zerolinecolor\":\"#EBF0F8\"},\"zaxis\":{\"backgroundcolor\":\"white\",\"gridcolor\":\"#DFE8F3\",\"gridwidth\":2,\"linecolor\":\"#EBF0F8\",\"showbackground\":true,\"ticks\":\"\",\"zerolinecolor\":\"#EBF0F8\"}},\"shapedefaults\":{\"line\":{\"color\":\"#2a3f5f\"}},\"ternary\":{\"aaxis\":{\"gridcolor\":\"#DFE8F3\",\"linecolor\":\"#A2B1C6\",\"ticks\":\"\"},\"baxis\":{\"gridcolor\":\"#DFE8F3\",\"linecolor\":\"#A2B1C6\",\"ticks\":\"\"},\"bgcolor\":\"white\",\"caxis\":{\"gridcolor\":\"#DFE8F3\",\"linecolor\":\"#A2B1C6\",\"ticks\":\"\"}},\"title\":{\"x\":0.05},\"xaxis\":{\"automargin\":true,\"gridcolor\":\"#EBF0F8\",\"linecolor\":\"#EBF0F8\",\"ticks\":\"\",\"title\":{\"standoff\":15},\"zerolinecolor\":\"#EBF0F8\",\"zerolinewidth\":2},\"yaxis\":{\"automargin\":true,\"gridcolor\":\"#EBF0F8\",\"linecolor\":\"#EBF0F8\",\"ticks\":\"\",\"title\":{\"standoff\":15},\"zerolinecolor\":\"#EBF0F8\",\"zerolinewidth\":2}}},\"xaxis\":{\"anchor\":\"y\",\"domain\":[0.0,1.0],\"title\":{\"text\":\"Login Count\"}},\"yaxis\":{\"anchor\":\"x\",\"domain\":[0.0,1.0],\"title\":{\"text\":\"Number of Users\"}},\"legend\":{\"tracegroupgap\":0},\"title\":{\"text\":\"User Activity Distribution\"},\"barmode\":\"relative\",\"margin\":{\"l\":40,\"r\":20,\"t\":60,\"b\":60},\"bargap\":0.05},                        {\"responsive\": true}                    )                };            </script>        </div>"
      ],
      "text/plain": [
       "Figure({\n",
       "    'data': [{'bingroup': 'x',\n",
       "              'hovertemplate': 'Login Count=%{x}<br>count=%{y}<extra></extra>',\n",
       "              'legendgroup': '',\n",
       "              'marker': {'color': '#636efa', 'opacity': 0.85, 'pattern': {'shape': ''}},\n",
       "              'name': '',\n",
       "              'nbinsx': 20,\n",
       "              'orientation': 'v',\n",
       "              'showlegend': False,\n",
       "              'type': 'histogram',\n",
       "              'x': {'bdata': ('WgCtAB0AAgAcAAcAFAAHACEAAQADAB' ... 'gAJAAEABMALwAGABIABAAGAB0AQQA='),\n",
       "                    'dtype': 'i2'},\n",
       "              'xaxis': 'x',\n",
       "              'yaxis': 'y'}],\n",
       "    'layout': {'bargap': 0.05,\n",
       "               'barmode': 'relative',\n",
       "               'legend': {'tracegroupgap': 0},\n",
       "               'margin': {'b': 60, 'l': 40, 'r': 20, 't': 60},\n",
       "               'template': '...',\n",
       "               'title': {'text': 'User Activity Distribution'},\n",
       "               'xaxis': {'anchor': 'y', 'domain': [0.0, 1.0], 'title': {'text': 'Login Count'}},\n",
       "               'yaxis': {'anchor': 'x', 'domain': [0.0, 1.0], 'title': {'text': 'Number of Users'}}}\n",
       "})"
      ]
     },
     "execution_count": 30,
     "metadata": {},
     "output_type": "execute_result"
    }
   ],
   "source": [
    "fig = px.histogram(\n",
    "    user_login_counts,\n",
    "    x=\"LoginCount\",\n",
    "    nbins=20,\n",
    "    title=\"User Activity Distribution\",\n",
    "    labels={\"LoginCount\": \"Login Count\", \"count\": \"Number of Users\"},\n",
    "    opacity=0.85,\n",
    ")\n",
    "fig.update_layout(\n",
    "    xaxis_title=\"Login Count\",\n",
    "    yaxis_title=\"Number of Users\",\n",
    "    template=\"plotly_white\",\n",
    "    bargap=0.05,\n",
    "    margin=dict(l=40, r=20, t=60, b=60)\n",
    ")"
   ]
  },
  {
   "cell_type": "code",
   "execution_count": null,
   "id": "7c2604d8",
   "metadata": {},
   "outputs": [],
   "source": []
  }
 ],
 "metadata": {
  "kernelspec": {
   "display_name": "Python 3",
   "language": "python",
   "name": "python3"
  },
  "language_info": {
   "codemirror_mode": {
    "name": "ipython",
    "version": 3
   },
   "file_extension": ".py",
   "mimetype": "text/x-python",
   "name": "python",
   "nbconvert_exporter": "python",
   "pygments_lexer": "ipython3",
   "version": "3.13.3"
  }
 },
 "nbformat": 4,
 "nbformat_minor": 5
}
